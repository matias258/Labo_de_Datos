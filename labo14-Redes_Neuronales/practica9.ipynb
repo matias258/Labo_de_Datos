{
 "cells": [
  {
   "cell_type": "code",
   "execution_count": 1,
   "metadata": {},
   "outputs": [
    {
     "name": "stderr",
     "output_type": "stream",
     "text": [
      "/home/matias/.local/lib/python3.10/site-packages/matplotlib/projections/__init__.py:63: UserWarning: Unable to import Axes3D. This may be due to multiple versions of Matplotlib being installed (e.g. as a system package and as a pip package). As a result, the 3D projection is not available.\n",
      "  warnings.warn(\"Unable to import Axes3D. This may be due to multiple versions of \"\n"
     ]
    }
   ],
   "source": [
    "import numpy as np\n",
    "import pandas as pd\n",
    "import seaborn as sns\n",
    "import matplotlib.pyplot as plt\n",
    "from matplotlib import cm\n",
    "from formulaic import Formula\n",
    "from sklearn import linear_model\n",
    "from sklearn.preprocessing import PolynomialFeatures\n",
    "import seaborn.objects as so\n",
    "from sklearn.metrics import mean_squared_error\n",
    "from time import time\n",
    "import logging\n",
    "from sklearn.metrics import r2_score\n",
    "import os\n",
    "\n",
    "# Estas dos lineas son para silenciar las advertencias de TensorFlow\n",
    "os.environ['TF_CPP_MIN_LOG_LEVEL'] = '2'\n",
    "logging.getLogger('tensorflow').setLevel(logging.ERROR)\n",
    "import tensorflow as tf\n",
    "import keras\n",
    "\n",
    "from tf_regressor import train_test_split_scale_center, Regressor"
   ]
  },
  {
   "cell_type": "markdown",
   "metadata": {},
   "source": [
    "## Ej 1: Coronavirus"
   ]
  },
  {
   "cell_type": "markdown",
   "metadata": {},
   "source": [
    "### a) Cargar dataset y anñadirle nueva columna"
   ]
  },
  {
   "cell_type": "code",
   "execution_count": 2,
   "metadata": {},
   "outputs": [],
   "source": [
    "data = pd.read_csv('dataset/casos_coronavirus.csv')\n",
    "data.dropna(inplace=True)"
   ]
  },
  {
   "cell_type": "code",
   "execution_count": 3,
   "metadata": {},
   "outputs": [
    {
     "data": {
      "text/html": [
       "<div>\n",
       "<style scoped>\n",
       "    .dataframe tbody tr th:only-of-type {\n",
       "        vertical-align: middle;\n",
       "    }\n",
       "\n",
       "    .dataframe tbody tr th {\n",
       "        vertical-align: top;\n",
       "    }\n",
       "\n",
       "    .dataframe thead th {\n",
       "        text-align: right;\n",
       "    }\n",
       "</style>\n",
       "<table border=\"1\" class=\"dataframe\">\n",
       "  <thead>\n",
       "    <tr style=\"text-align: right;\">\n",
       "      <th></th>\n",
       "      <th>fecha</th>\n",
       "      <th>confirmados_Nuevos</th>\n",
       "    </tr>\n",
       "  </thead>\n",
       "  <tbody>\n",
       "    <tr>\n",
       "      <th>0</th>\n",
       "      <td>3-3-2020</td>\n",
       "      <td>1</td>\n",
       "    </tr>\n",
       "    <tr>\n",
       "      <th>1</th>\n",
       "      <td>4-3-2020</td>\n",
       "      <td>0</td>\n",
       "    </tr>\n",
       "    <tr>\n",
       "      <th>2</th>\n",
       "      <td>5-3-2020</td>\n",
       "      <td>1</td>\n",
       "    </tr>\n",
       "  </tbody>\n",
       "</table>\n",
       "</div>"
      ],
      "text/plain": [
       "      fecha  confirmados_Nuevos\n",
       "0  3-3-2020                   1\n",
       "1  4-3-2020                   0\n",
       "2  5-3-2020                   1"
      ]
     },
     "execution_count": 3,
     "metadata": {},
     "output_type": "execute_result"
    }
   ],
   "source": [
    "data.head(3)"
   ]
  },
  {
   "cell_type": "code",
   "execution_count": 4,
   "metadata": {},
   "outputs": [
    {
     "data": {
      "text/html": [
       "<div>\n",
       "<style scoped>\n",
       "    .dataframe tbody tr th:only-of-type {\n",
       "        vertical-align: middle;\n",
       "    }\n",
       "\n",
       "    .dataframe tbody tr th {\n",
       "        vertical-align: top;\n",
       "    }\n",
       "\n",
       "    .dataframe thead th {\n",
       "        text-align: right;\n",
       "    }\n",
       "</style>\n",
       "<table border=\"1\" class=\"dataframe\">\n",
       "  <thead>\n",
       "    <tr style=\"text-align: right;\">\n",
       "      <th></th>\n",
       "      <th>fecha</th>\n",
       "      <th>confirmados_Nuevos</th>\n",
       "      <th>dias_transcurridos</th>\n",
       "    </tr>\n",
       "  </thead>\n",
       "  <tbody>\n",
       "    <tr>\n",
       "      <th>0</th>\n",
       "      <td>3-3-2020</td>\n",
       "      <td>1</td>\n",
       "      <td>1</td>\n",
       "    </tr>\n",
       "    <tr>\n",
       "      <th>1</th>\n",
       "      <td>4-3-2020</td>\n",
       "      <td>0</td>\n",
       "      <td>2</td>\n",
       "    </tr>\n",
       "    <tr>\n",
       "      <th>2</th>\n",
       "      <td>5-3-2020</td>\n",
       "      <td>1</td>\n",
       "      <td>3</td>\n",
       "    </tr>\n",
       "    <tr>\n",
       "      <th>3</th>\n",
       "      <td>6-3-2020</td>\n",
       "      <td>6</td>\n",
       "      <td>4</td>\n",
       "    </tr>\n",
       "    <tr>\n",
       "      <th>4</th>\n",
       "      <td>7-3-2020</td>\n",
       "      <td>0</td>\n",
       "      <td>5</td>\n",
       "    </tr>\n",
       "    <tr>\n",
       "      <th>...</th>\n",
       "      <td>...</td>\n",
       "      <td>...</td>\n",
       "      <td>...</td>\n",
       "    </tr>\n",
       "    <tr>\n",
       "      <th>91</th>\n",
       "      <td>2-6-2020</td>\n",
       "      <td>904</td>\n",
       "      <td>92</td>\n",
       "    </tr>\n",
       "    <tr>\n",
       "      <th>92</th>\n",
       "      <td>3-6-2020</td>\n",
       "      <td>949</td>\n",
       "      <td>93</td>\n",
       "    </tr>\n",
       "    <tr>\n",
       "      <th>93</th>\n",
       "      <td>4-6-2020</td>\n",
       "      <td>929</td>\n",
       "      <td>94</td>\n",
       "    </tr>\n",
       "    <tr>\n",
       "      <th>94</th>\n",
       "      <td>5-6-2020</td>\n",
       "      <td>840</td>\n",
       "      <td>95</td>\n",
       "    </tr>\n",
       "    <tr>\n",
       "      <th>95</th>\n",
       "      <td>6-6-2020</td>\n",
       "      <td>983</td>\n",
       "      <td>96</td>\n",
       "    </tr>\n",
       "  </tbody>\n",
       "</table>\n",
       "<p>96 rows × 3 columns</p>\n",
       "</div>"
      ],
      "text/plain": [
       "       fecha  confirmados_Nuevos  dias_transcurridos\n",
       "0   3-3-2020                   1                   1\n",
       "1   4-3-2020                   0                   2\n",
       "2   5-3-2020                   1                   3\n",
       "3   6-3-2020                   6                   4\n",
       "4   7-3-2020                   0                   5\n",
       "..       ...                 ...                 ...\n",
       "91  2-6-2020                 904                  92\n",
       "92  3-6-2020                 949                  93\n",
       "93  4-6-2020                 929                  94\n",
       "94  5-6-2020                 840                  95\n",
       "95  6-6-2020                 983                  96\n",
       "\n",
       "[96 rows x 3 columns]"
      ]
     },
     "execution_count": 4,
     "metadata": {},
     "output_type": "execute_result"
    }
   ],
   "source": [
    "# Añado la columna \"dias_transcurridos\" \n",
    "data[\"dias_transcurridos\"] = data.index + 1\n",
    "data"
   ]
  },
  {
   "cell_type": "markdown",
   "metadata": {},
   "source": [
    "### b) Plotear dias_transcurridos vs confirmados_nuevos"
   ]
  },
  {
   "cell_type": "code",
   "execution_count": 5,
   "metadata": {},
   "outputs": [
    {
     "data": {
      "image/png": "[encoded data removed]",
      "text/plain": [
       "<seaborn._core.plot.Plot at 0x766380b644c0>"
      ]
     },
     "execution_count": 5,
     "metadata": {
      "image/png": {
       "height": 378.25,
       "width": 663.85
      }
     },
     "output_type": "execute_result"
    }
   ],
   "source": [
    "(\n",
    "    so.Plot()\n",
    "    .add(so.Line(), x = data[\"dias_transcurridos\"], y = data[\"confirmados_Nuevos\"], label = \"Evolucion diaria\")\n",
    ")"
   ]
  },
  {
   "cell_type": "markdown",
   "metadata": {},
   "source": [
    " ### c) Armar modelo de regresion que permita explicar la evolucion de casos de coronavirus (Y) en funcion de los dias transcurridos (X).\n",
    "\n",
    " Para esto se proponen los siguientes modelos que no voy a copiar "
   ]
  },
  {
   "cell_type": "code",
   "execution_count": 6,
   "metadata": {},
   "outputs": [
    {
     "name": "stdout",
     "output_type": "stream",
     "text": [
      "raiz de ECM:  127.8344462288248\n",
      "R2  0.7632864376587793\n"
     ]
    }
   ],
   "source": [
    "# Me pinto hacerlo con Linear Regression\n",
    "\n",
    "# Dividimos el conj de datos en entrenamiento y testeo\n",
    "X_train, X_test, y_train, y_test = train_test_split_scale_center(data[\"dias_transcurridos\"], data[\"confirmados_Nuevos\"], test_size=0.2, random_state=42)\n",
    "\n",
    "modelo = linear_model.LinearRegression()\n",
    "modelo.fit(X_train.to_frame(), y_train.to_frame())\n",
    "y_pred = modelo.predict(X_test.to_frame())\n",
    "sqecm = np.sqrt(mean_squared_error(y_test, y_pred))\n",
    "r2 = r2_score(y_test, y_pred)\n",
    "\n",
    "print(\"raiz de ECM: \", sqecm)\n",
    "print(\"R2 \", r2)"
   ]
  },
  {
   "cell_type": "markdown",
   "metadata": {},
   "source": [
    "#### i) Cuadrados Minimos\n",
    "\n",
    "\n",
    "$$Y = b +  w_{0} X + w_{1}X^{2} $$"
   ]
  },
  {
   "cell_type": "code",
   "execution_count": 7,
   "metadata": {},
   "outputs": [
    {
     "name": "stdout",
     "output_type": "stream",
     "text": [
      "sq ECM:  91.80278618829435\n",
      "R²:  0.8779215303028765\n"
     ]
    }
   ],
   "source": [
    "# Spliteamos y escalamos nuestro dataset.\n",
    "X_train, X_test, y_train, y_test = train_test_split_scale_center(data[\"dias_transcurridos\"], data[\"confirmados_Nuevos\"], test_size=0.2, random_state=42)\n",
    "\n",
    "# Generamos un modelo de Cuadrados Minimos de orden 2\n",
    "polinomial_features = PolynomialFeatures(degree = 2, include_bias = False)\n",
    "X_train_poly = polinomial_features.fit_transform(X_train.values.reshape(-1, 1))\n",
    "X_test_poly = polinomial_features.fit_transform(X_test.values.reshape(-1, 1))\n",
    "\n",
    "modelo = linear_model.LinearRegression()\n",
    "modelo.fit(X_train_poly, y_train)\n",
    "\n",
    "y_pred = modelo.predict(X_test_poly)\n",
    "\n",
    "sqecm = np.sqrt(mean_squared_error(y_test, y_pred))\n",
    "r2 = r2_score(y_test, y_pred)\n",
    "\n",
    "print(\"sq ECM: \", sqecm)\n",
    "print(\"R²: \", r2)"
   ]
  },
  {
   "cell_type": "code",
   "execution_count": 10,
   "metadata": {},
   "outputs": [
    {
     "name": "stdout",
     "output_type": "stream",
     "text": [
      "beta_0:  92.79495993114168\n",
      "beta_1:  761.0218822462997\n",
      "beta_2:  1558.6820957981788\n"
     ]
    }
   ],
   "source": [
    "o_origen = modelo.intercept_.item()\n",
    "beta = modelo.coef_\n",
    "print('beta_0: ', o_origen)\n",
    "print('beta_1: ', beta[0])\n",
    "print('beta_2: ', beta[1])"
   ]
  },
  {
   "cell_type": "markdown",
   "metadata": {},
   "source": [
    "Luego, obtenemos que:\n",
    "\n",
    "$$Y = b +  w_{0} X + w_{1}X^{2} $$\n",
    "\n",
    "Se escribe así:\n",
    "\n",
    "$$Y = 92.79 +  761 X + 1558X^{2} $$"
   ]
  },
  {
   "cell_type": "code",
   "execution_count": 33,
   "metadata": {},
   "outputs": [
    {
     "data": {
      "text/plain": [
       "array([ 255.56138833, 1568.57537969, 3226.59345719])"
      ]
     },
     "execution_count": 33,
     "metadata": {},
     "output_type": "execute_result"
    }
   ],
   "source": [
    "beta"
   ]
  },
  {
   "cell_type": "markdown",
   "metadata": {},
   "source": [
    "#### ii) MLM\n",
    "\n",
    "$$Y = b + w_{0}X^{w_{1}} $$"
   ]
  },
  {
   "cell_type": "markdown",
   "metadata": {},
   "source": [
    "## Ej 2: Titanic"
   ]
  },
  {
   "cell_type": "markdown",
   "metadata": {},
   "source": [
    "### al) Limpiando el dataset"
   ]
  },
  {
   "cell_type": "code",
   "execution_count": 30,
   "metadata": {},
   "outputs": [],
   "source": [
    "titanic = sns.load_dataset(\"titanic\")"
   ]
  },
  {
   "cell_type": "code",
   "execution_count": 31,
   "metadata": {},
   "outputs": [
    {
     "data": {
      "text/plain": [
       "survived         0\n",
       "pclass           0\n",
       "sex              0\n",
       "age            177\n",
       "sibsp            0\n",
       "parch            0\n",
       "fare             0\n",
       "embarked         2\n",
       "class            0\n",
       "who              0\n",
       "adult_male       0\n",
       "deck           688\n",
       "embark_town      2\n",
       "alive            0\n",
       "alone            0\n",
       "dtype: int64"
      ]
     },
     "execution_count": 31,
     "metadata": {},
     "output_type": "execute_result"
    }
   ],
   "source": [
    "# Contamos la cantidad de nulls\n",
    "titanic.isnull().sum()"
   ]
  },
  {
   "cell_type": "code",
   "execution_count": 32,
   "metadata": {},
   "outputs": [
    {
     "data": {
      "text/plain": [
       "survived       0\n",
       "pclass         0\n",
       "sex            0\n",
       "sibsp          0\n",
       "parch          0\n",
       "fare           0\n",
       "embarked       2\n",
       "class          0\n",
       "who            0\n",
       "adult_male     0\n",
       "embark_town    2\n",
       "alive          0\n",
       "alone          0\n",
       "dtype: int64"
      ]
     },
     "execution_count": 32,
     "metadata": {},
     "output_type": "execute_result"
    }
   ],
   "source": [
    "# En base a lo anterior decidimos dropear \"deck\" y \"age\"\n",
    "titanic = titanic.drop(\"deck\", axis = 1).drop(\"age\", axis = 1)\n",
    "titanic.isnull().sum()"
   ]
  },
  {
   "cell_type": "code",
   "execution_count": 35,
   "metadata": {},
   "outputs": [
    {
     "data": {
      "text/plain": [
       "<Axes: xlabel='fare'>"
      ]
     },
     "execution_count": 35,
     "metadata": {},
     "output_type": "execute_result"
    },
    {
     "data": {
      "image/png": "[encoded data removed]",
      "text/plain": [
       "<Figure size 640x480 with 1 Axes>"
      ]
     },
     "metadata": {},
     "output_type": "display_data"
    }
   ],
   "source": [
    "# Graficamos un boxplot de \"fare\" (precio del boleto)\n",
    "\n",
    "sns.boxplot(titanic, x = \"fare\")"
   ]
  },
  {
   "cell_type": "markdown",
   "metadata": {},
   "source": [
    "Observamos muchisimos outliers en fare. "
   ]
  },
  {
   "cell_type": "code",
   "execution_count": 46,
   "metadata": {},
   "outputs": [
    {
     "name": "stdout",
     "output_type": "stream",
     "text": [
      "El percentil 99 del precio del boleto es: 249.00622000000035\n"
     ]
    }
   ],
   "source": [
    "# Exploramos el metodo de pandas \"quantile\" para calcular el cuantil 0.99 de la columna fare\n",
    "# Y utilizarlo para eliminar las observaciones con outliers en esa columna\n",
    "print(\"El percentil 99 del precio del boleto es:\",titanic[\"fare\"].quantile(0.99))"
   ]
  },
  {
   "cell_type": "markdown",
   "metadata": {},
   "source": [
    "El percentil 99 es el valor por debajo del cual se encuentra el 99% de los datos. Esto significa que el 99% de los valores en la columna \"fare\" son menores o iguales a este valor, y solo el 1% de los valores son mayores que este.\n",
    "\n",
    "Entonces, si quisieramos eliminar nuestros outliers del cuantil 99%, podriamos ayudarnos de este siguiente codigo:"
   ]
  },
  {
   "cell_type": "code",
   "execution_count": 50,
   "metadata": {},
   "outputs": [
    {
     "data": {
      "text/plain": [
       "211.3375"
      ]
     },
     "execution_count": 50,
     "metadata": {},
     "output_type": "execute_result"
    }
   ],
   "source": [
    "titanic_sin_outliers = titanic[titanic[\"fare\"] <= titanic[\"fare\"].quantile(0.99)]\n",
    "titanic_sin_outliers[\"fare\"].quantile(0.99)"
   ]
  },
  {
   "cell_type": "markdown",
   "metadata": {},
   "source": [
    "### b) Realizar regresión logística para predecir la variable binaria de supervivencia (survived) a partir del precio del boleto (fare). \n",
    "\n",
    "¿Qué porcentaje de casos clasifica correctamente?"
   ]
  },
  {
   "cell_type": "code",
   "execution_count": null,
   "metadata": {},
   "outputs": [],
   "source": [
    "# "
   ]
  }
 ],
 "metadata": {
  "kernelspec": {
   "display_name": "Python 3 (ipykernel)",
   "language": "python",
   "name": "python3"
  },
  "language_info": {
   "codemirror_mode": {
    "name": "ipython",
    "version": 3
   },
   "file_extension": ".py",
   "mimetype": "text/x-python",
   "name": "python",
   "nbconvert_exporter": "python",
   "pygments_lexer": "ipython3",
   "version": "3.10.12"
  }
 },
 "nbformat": 4,
 "nbformat_minor": 2
}
