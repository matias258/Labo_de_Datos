{
 "cells": [
  {
   "cell_type": "code",
   "execution_count": null,
   "metadata": {},
   "outputs": [],
   "source": [
    "import scipy\n",
    "import numpy as np\n",
    "import pandas as pd\n",
    "import seaborn as sns\n",
    "import seaborn.objects as so\n",
    "\n",
    "# Para clustering\n",
    "from sklearn.datasets import make_blobs\n",
    "from sklearn.datasets import make_circles\n",
    "from sklearn.preprocessing import MinMaxScaler \n",
    "from sklearn.cluster import KMeans\n",
    "from sklearn.cluster import DBSCAN\n",
    "\n",
    "# Para componentes principales\n",
    "from sklearn.preprocessing import StandardScaler\n",
    "from sklearn.decomposition import PCA\n",
    "from sklearn.cluster import DBSCAN"
   ]
  },
  {
   "cell_type": "markdown",
   "metadata": {},
   "source": [
    "# Práctica 8: Componentes principales"
   ]
  },
  {
   "cell_type": "markdown",
   "metadata": {},
   "source": [
    "## Ej 1: Dada la siguiente tabla de datos correspondientes a la longitud y el ancho de las tortugas pintadas"
   ]
  },
  {
   "cell_type": "code",
   "execution_count": null,
   "metadata": {},
   "outputs": [],
   "source": [
    "\n",
    "df = {\"Longitud\": [93, 94, 96, 101, 102, 103, 104, 106],\n",
    "      \"Ancho\": [76, 78, 80, 84, 85, 82, 83, 83]}\n",
    "df = pd.DataFrame(df)\n",
    "df"
   ]
  },
  {
   "cell_type": "markdown",
   "metadata": {},
   "source": [
    "### a) Normalizar las variables para que tengan media 0 y hacer el diagrama de dispersión. Estimar la presencia de correlación entre las variables a partir de este gráfco"
   ]
  },
  {
   "cell_type": "code",
   "execution_count": null,
   "metadata": {},
   "outputs": [],
   "source": [
    "df[[\"Longitud\", \"Ancho\"]] = MinMaxScaler().fit_transform(df[[\"Longitud\", \"Ancho\"]])\n",
    "df"
   ]
  },
  {
   "cell_type": "code",
   "execution_count": null,
   "metadata": {},
   "outputs": [],
   "source": [
    "# Graficamos\n",
    "(\n",
    "    so.Plot(data = df, x = \"Longitud\", y = \"Ancho\")\n",
    "    .add(so.Text(valign = \"bottom\"))\n",
    "    .add(so.Dot(color = \"blue\"), data = df, x = \"Longitud\", y = \"Ancho\")\n",
    ")"
   ]
  },
  {
   "cell_type": "code",
   "execution_count": null,
   "metadata": {},
   "outputs": [],
   "source": [
    "df.corr()"
   ]
  },
  {
   "cell_type": "markdown",
   "metadata": {},
   "source": [
    "### b) Calcular la matriz de covarianzas y hallar sus autovalores y autovectores"
   ]
  },
  {
   "cell_type": "code",
   "execution_count": null,
   "metadata": {},
   "outputs": [],
   "source": [
    "df_star = df - df.mean()\n",
    "\n",
    "Sigma = (df_star.transpose() @ df_star) / len(df_star)"
   ]
  },
  {
   "cell_type": "code",
   "execution_count": null,
   "metadata": {},
   "outputs": [],
   "source": [
    "# Matriz de covarianza\n",
    "np.cov(df.transpose(), bias = 1)"
   ]
  },
  {
   "cell_type": "code",
   "execution_count": null,
   "metadata": {},
   "outputs": [],
   "source": [
    "# Autovalores , Autovectores\n",
    "gamma, U = np.linalg.eigh(Sigma)   # eigh es un comando especial para matrices simétricas\n",
    "print(\"avals: \\n\", gamma, \"\\n\")\n",
    "print(\"avecs: \\n\",U)"
   ]
  },
  {
   "cell_type": "markdown",
   "metadata": {},
   "source": [
    "### c) Hallar las componentes principales"
   ]
  },
  {
   "cell_type": "code",
   "execution_count": null,
   "metadata": {},
   "outputs": [],
   "source": [
    "(\n",
    "    so.Plot()\n",
    "    .add(so.Dot(), x = df_star[\"Longitud\"], y = df_star[\"Ancho\"])\n",
    "    .add(so.Line(color = \"red\"), x = [0,U[0,0]], y = [0,U[1,0]])\n",
    "    .add(so.Line(color = \"green\"), x = [0,U[0,1]], y = [0,U[1,1]])\n",
    "    .layout(size = (6, 6))\n",
    ")\n",
    "\n",
    "# Verde: 1er componente ppal\n",
    "# Rojo: 2do componente ppal"
   ]
  },
  {
   "cell_type": "code",
   "execution_count": null,
   "metadata": {},
   "outputs": [],
   "source": [
    "# U son las direcciones del nuevo espacio\n",
    "# Calculamos las componentes principales usando la formula\n",
    "# Z = (df - df_raya) * U = df_star * U\n",
    "\n",
    "\n",
    "Z = df_star @ U \n",
    "Z.columns = [\"Z\" + str(i + 1) for i in Z.columns]\n",
    "Z"
   ]
  },
  {
   "cell_type": "markdown",
   "metadata": {},
   "source": [
    "Estos son los componentes principales\n",
    "\n",
    "---"
   ]
  },
  {
   "cell_type": "markdown",
   "metadata": {},
   "source": [
    "### d) Decidir si la información está mayormente representada en una de estas dos componentes"
   ]
  },
  {
   "cell_type": "code",
   "execution_count": null,
   "metadata": {},
   "outputs": [],
   "source": [
    "# Graficamos\n",
    "(\n",
    "    so.Plot(data = Z, x = \"Z1\", y = \"Z2\", text = df.index)\n",
    "    .add(so.Dot())\n",
    "    .add(so.Text())    \n",
    "    .layout(size=(6,6))\n",
    ")"
   ]
  },
  {
   "cell_type": "code",
   "execution_count": null,
   "metadata": {},
   "outputs": [],
   "source": [
    "# Repetimos todo lo mismo usando los comandos de Python\n",
    "\n",
    "pca = PCA(n_components=2)\n",
    "\n",
    "# principalComponents devuelve X_star * U\n",
    "principalComponents = pca.fit_transform(df_star)\n",
    "print(principalComponents)"
   ]
  },
  {
   "cell_type": "code",
   "execution_count": null,
   "metadata": {},
   "outputs": [],
   "source": [
    "# Graficamos\n",
    "(\n",
    "    so.Plot(x = principalComponents[:,0], y = principalComponents[:,1], text = df.index)\n",
    "    .add(so.Dot())\n",
    "    .add(so.Text())\n",
    "    .layout(size=(6,6))\n",
    ")"
   ]
  },
  {
   "cell_type": "markdown",
   "metadata": {},
   "source": [
    "Confio mas en esta representacion ya que usamos directamente la funcion pca, y no la armamos de 0 a mano."
   ]
  },
  {
   "cell_type": "code",
   "execution_count": null,
   "metadata": {},
   "outputs": [],
   "source": [
    "# Veamos que variables aparecen más fuertemente en cada componente\n",
    "pca.components_"
   ]
  },
  {
   "cell_type": "markdown",
   "metadata": {},
   "source": [
    "La informacion esta igualmente representada en las 2 componentes\n",
    "\n",
    "---"
   ]
  },
  {
   "cell_type": "markdown",
   "metadata": {},
   "source": [
    "### e) Indicar la proporción de la variabilidad explicada por cada una de ellas. ¿A que conclusión puede llegar?"
   ]
  },
  {
   "cell_type": "code",
   "execution_count": null,
   "metadata": {},
   "outputs": [],
   "source": [
    "print(Sigma, \" \\n\")\n",
    "\n",
    "# autovalores ordenados de mayor a menor\n",
    "av = np.flip(U)\n",
    "print(\"Autovalores: \", av, \" \\n\")\n",
    "\n",
    "print(\"Varianza explicada por la primera componente:  \\n\", av[0] / sum(av))\n",
    "print(\"Varianza explicada por la segunda componente:  \\n\", av[1] / sum(av))"
   ]
  },
  {
   "cell_type": "markdown",
   "metadata": {},
   "source": [
    "Llegamos entonces a que los autovalores tienen el mismo peso, y tambien la varianza explicada en la componente 1 es casi identica a la de la componente 2 solo que con un -9.97 en vez de un 10. \n",
    "No se is influye."
   ]
  },
  {
   "cell_type": "markdown",
   "metadata": {},
   "source": [
    "## Ej 2: Sea A la matriz de covarianzas de una cierta muestra de datos cuya media es cero.\n",
    "\n",
    "$$\n",
    "A = \\left(\n",
    "   \\begin{array}{cccc}\n",
    "    3 & 1 & 1 \\\\\n",
    "    1 & 3 & 1\\\\\n",
    "    1 & 1 & 5\\\\\n",
    "   \\end{array}\n",
    "   \\right)\n",
    "$$"
   ]
  },
  {
   "cell_type": "markdown",
   "metadata": {},
   "source": [
    "### a) Hallar los autovalores y autovectores de la matriz de covarianzas."
   ]
  },
  {
   "cell_type": "code",
   "execution_count": null,
   "metadata": {},
   "outputs": [],
   "source": [
    "a = np.matrix([[3, 1, 1], [1, 3, 1], [1, 1, 5]])"
   ]
  },
  {
   "cell_type": "code",
   "execution_count": null,
   "metadata": {},
   "outputs": [],
   "source": [
    "# Matriz de covarianza\n",
    "a_cov = np.cov(a.transpose(), bias = 1)\n",
    "a_cov"
   ]
  },
  {
   "cell_type": "code",
   "execution_count": null,
   "metadata": {},
   "outputs": [],
   "source": [
    "# Autovalores , Autovectores\n",
    "gamma, U = np.linalg.eigh(a_cov)   # eigh es un comando especial para matrices simétricas\n",
    "print(\"avals: \\n\", gamma, \"\\n\")\n",
    "print(\"avecs: \\n\",U)\n",
    "\n",
    "# Creo que printea mal los avecs y avals. Preguntar a los profesores"
   ]
  },
  {
   "cell_type": "markdown",
   "metadata": {},
   "source": [
    "### b) Dar la expresión de las componentes principales z1, z2, z3 e indicar la proporción de la variabilidad explicada por cada una de ellas"
   ]
  },
  {
   "cell_type": "code",
   "execution_count": null,
   "metadata": {},
   "outputs": [],
   "source": [
    "pca = PCA(n_components=3)\n",
    "\n",
    "principalComponents = pca.fit_transform(a_cov)\n",
    "print(principalComponents)"
   ]
  },
  {
   "cell_type": "code",
   "execution_count": null,
   "metadata": {},
   "outputs": [],
   "source": [
    "Z = a @ U\n",
    "Z"
   ]
  },
  {
   "cell_type": "code",
   "execution_count": null,
   "metadata": {},
   "outputs": [],
   "source": [
    "Z = pd.DataFrame(a @ U, columns=[\"Z1\", \"Z2\", \"Z3\"])\n",
    "Z"
   ]
  },
  {
   "attachments": {
    "image.png": {
     "image/png": "[encoded data removed]"
    }
   },
   "cell_type": "markdown",
   "metadata": {},
   "source": [
    "![image.png](attachment:image.png)\n"
   ]
  },
  {
   "cell_type": "code",
   "execution_count": null,
   "metadata": {},
   "outputs": [],
   "source": [
    "# 1. No hace falta si usamos la matriz de covarianza a_cov en lugar de a\n",
    "\n",
    "# 2. Matriz de covarianza\n",
    "a_cov\n",
    "\n",
    "# 3. Obtener los autovalores y autovectores\n",
    "avals, U = np.linalg.eig(a_cov)\n",
    "\n",
    "print(\"Autovalores:\")\n",
    "print(avals)\n",
    "print(\"\\nAutovectores:\")\n",
    "print(U)"
   ]
  },
  {
   "cell_type": "code",
   "execution_count": null,
   "metadata": {},
   "outputs": [],
   "source": [
    "# 4. Definimos las nuevas variables Z_i = X * U_i (en este caso X = a)\n",
    "Z = a @ U\n",
    "Z = pd.DataFrame(Z, columns=[\"Z1\", \"Z2\", \"Z3\"])\n",
    "Z"
   ]
  },
  {
   "cell_type": "code",
   "execution_count": null,
   "metadata": {},
   "outputs": [],
   "source": [
    "# autovalores ordenados de mayor a menor\n",
    "print(\"Autovalores: \\n\", avals, \" \\n\")\n",
    "\n",
    "print(\"Varianza explicada por la primera componente:  \\n\", avals[0] / sum(avals))\n",
    "print(\"Varianza explicada por la segunda componente:  \\n\", avals[1] / sum(avals))\n",
    "print(\"Varianza explicada por la tercera componente:  \\n\", avals[2] / sum(avals))"
   ]
  },
  {
   "cell_type": "markdown",
   "metadata": {},
   "source": [
    "Podemos ver que la varianza explicada por la 2da componente es la mas pesada, entonces si nos tuvieramos que quedar con un lambda , éste sería el 1ro, pues tiene mayor peso.\n",
    "\n",
    "Ademas ya que tenemos los autovalores, podemos calcular la varianza total:\n",
    "\n",
    " $$ \\lambda_1 + \\lambda_2 + \\lambda_3 = 4 + 0 + 1.33 = 5.33 $$\n"
   ]
  },
  {
   "cell_type": "markdown",
   "metadata": {},
   "source": [
    "### c) Hallar los scores de las primeras dos componentes principales correspondientes a la observación x1 = 2, x2 = 2, x3 = 1 (es decir, los valores de z1 y z2 para dicha observación."
   ]
  },
  {
   "cell_type": "code",
   "execution_count": null,
   "metadata": {},
   "outputs": [],
   "source": [
    "# Observación x1 = 2, x2 = 2, x3 = 1\n",
    "x = np.array([2, 2, 1])\n",
    "\n",
    "# Estandarizar la observación\n",
    "x_std = (x - x.mean()) / x.std()\n",
    "\n",
    "# Calcular los scores de las primeras dos componentes principales\n",
    "scores = x_std @ U[:, :2] # Seleccionamos todas las filas de U, pero solo las dos primeras columnas.\n",
    "\n",
    "# Imprimir los scores\n",
    "print(scores)"
   ]
  },
  {
   "cell_type": "code",
   "execution_count": null,
   "metadata": {},
   "outputs": [],
   "source": [
    "# Recordar que podemos obtener Z1, Z2, Z3. Pero nos interesan solamente Z1 y Z2.\n",
    "scores = x_std @ U\n",
    "scores"
   ]
  },
  {
   "cell_type": "markdown",
   "metadata": {},
   "source": [
    "## Ej 3: Implementar un programa que reciba como input un archivo de datos y un número p_acum y devuelva la mínima cantidad de componentes principales que deben considerarse para que el porcentaje de varianza acumulada sea mayor o igual que p_acum."
   ]
  },
  {
   "cell_type": "code",
   "execution_count": null,
   "metadata": {},
   "outputs": [],
   "source": [
    "# Implementamos el programa p_acum que devuelve la minima cant de comp ppales tq la varianza acumulada sea >= a p_acum\n",
    "# Supongo que con archivo de datos se refiere a una matriz ??\n",
    "def p_acum(datos, p_acum):\n",
    "    # normalizamos los datos\n",
    "    datos_norm = datos - datos.mean()\n",
    "\n",
    "    # calculamos la matriz de covarianza\n",
    "    cov = np.cov(datos_norm.transpose(), bias = 1)\n",
    "\n",
    "    # calculamos los autovalores y autovectores\n",
    "    avals, U = np.linalg.eig(cov)\n",
    "\n",
    "    # ordenamos los autovalores de mayor a menor\n",
    "    avals = np.flip(np.sort(avals)) # sort devuelve menor a mayor, flip lo ordena mayor a menor\n",
    "\n",
    "    # calculamos la varianza acumulada\n",
    "    var_acum = np.cumsum(avals) / sum(avals)\n",
    "\n",
    "    # calculamos la cantidad de componentes principales necesarias\n",
    "    n = 1\n",
    "    while var_acum[n - 1] < p_acum:\n",
    "        n += 1\n",
    "    \n",
    "    return n\n",
    "\n"
   ]
  },
  {
   "cell_type": "code",
   "execution_count": null,
   "metadata": {},
   "outputs": [],
   "source": [
    "# Probemos con el ejemplo de la matriz a que usamos antes y p_acum = 0.95\n",
    "p_acum(a, 0.95)"
   ]
  },
  {
   "cell_type": "markdown",
   "metadata": {},
   "source": [
    "## Ej 4: Considerando el archivo de datos p8-chalets.csv se pide:"
   ]
  },
  {
   "cell_type": "code",
   "execution_count": null,
   "metadata": {},
   "outputs": [],
   "source": [
    "# importar p8-chalets.csv\n",
    "chalets_df = pd.read_csv(\"dataset/p8-chalets.csv\")"
   ]
  },
  {
   "cell_type": "markdown",
   "metadata": {},
   "source": [
    "### a) Graficar los diagramas de dispersión de las variables de a pares. Estimar la presencia de correlación entre las variables a partir de estos gráficos."
   ]
  }
 ],
 "metadata": {
  "kernelspec": {
   "display_name": "Python 3",
   "language": "python",
   "name": "python3"
  },
  "language_info": {
   "codemirror_mode": {
    "name": "ipython",
    "version": 3
   },
   "file_extension": ".py",
   "mimetype": "text/x-python",
   "name": "python",
   "nbconvert_exporter": "python",
   "pygments_lexer": "ipython3",
   "version": "3.10.12"
  }
 },
 "nbformat": 4,
 "nbformat_minor": 2
}
