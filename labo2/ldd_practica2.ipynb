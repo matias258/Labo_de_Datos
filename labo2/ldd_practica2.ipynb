{
 "cells": [
  {
   "cell_type": "code",
   "execution_count": null,
   "id": "72fda29a-8b45-47c9-9ef2-f70ca434d896",
   "metadata": {
    "id": "72fda29a-8b45-47c9-9ef2-f70ca434d896"
   },
   "outputs": [],
   "source": [
    "import pandas as pd\n",
    "import numpy as np\n",
    "import seaborn as sb"
   ]
  },
  {
   "cell_type": "code",
   "execution_count": null,
   "id": "c79fad0a-7733-45a3-b971-e08fe4866c48",
   "metadata": {
    "colab": {
     "base_uri": "https://localhost:8080/",
     "height": 173
    },
    "id": "c79fad0a-7733-45a3-b971-e08fe4866c48",
    "outputId": "f2195e3a-e247-4ca8-9e76-fa5ed2cfdf68"
   },
   "outputs": [
    {
     "data": {
      "text/plain": [
       "0    7\n",
       "1    4\n",
       "2   -5\n",
       "3    3\n",
       "dtype: int64"
      ]
     },
     "metadata": {},
     "output_type": "display_data"
    },
    {
     "data": {
      "text/plain": [
       "<PandasArray>\n",
       "[7, 4, -5, 3]\n",
       "Length: 4, dtype: int64"
      ]
     },
     "metadata": {},
     "output_type": "display_data"
    },
    {
     "data": {
      "text/plain": [
       "RangeIndex(start=0, stop=4, step=1)"
      ]
     },
     "metadata": {},
     "output_type": "display_data"
    }
   ],
   "source": [
    "obj = pd.Series([7,4,-5,3])\n",
    "display(obj)\n",
    "display(obj.array)\n",
    "display(obj.index)"
   ]
  },
  {
   "cell_type": "code",
   "execution_count": null,
   "id": "384e45a1-3eb0-49c0-aa96-f6e411f20ed7",
   "metadata": {
    "colab": {
     "base_uri": "https://localhost:8080/",
     "height": 173
    },
    "id": "384e45a1-3eb0-49c0-aa96-f6e411f20ed7",
    "outputId": "782a916c-7220-4f06-ef83-6ce7559b5cf1"
   },
   "outputs": [
    {
     "data": {
      "text/plain": [
       "d    3.141593\n",
       "b    0.000000\n",
       "c   -2.000000\n",
       "a    1.410000\n",
       "dtype: float64"
      ]
     },
     "metadata": {},
     "output_type": "display_data"
    },
    {
     "data": {
      "text/plain": [
       "<PandasArray>\n",
       "[3.141592653589793, 0.0, -2.0, 1.41]\n",
       "Length: 4, dtype: float64"
      ]
     },
     "metadata": {},
     "output_type": "display_data"
    },
    {
     "data": {
      "text/plain": [
       "Index(['d', 'b', 'c', 'a'], dtype='object')"
      ]
     },
     "metadata": {},
     "output_type": "display_data"
    }
   ],
   "source": [
    "obj2 = pd.Series ([np.pi,0 , -2 ,1.41] , index = [ \"d\" , \"b\" , \"c\" , \"a\" ])\n",
    "display ( obj2 )\n",
    "display ( obj2.array )\n",
    "display ( obj2.index )"
   ]
  },
  {
   "cell_type": "code",
   "execution_count": null,
   "id": "86c86ec9-37a1-40b0-be38-30f178320ab6",
   "metadata": {
    "colab": {
     "base_uri": "https://localhost:8080/"
    },
    "id": "86c86ec9-37a1-40b0-be38-30f178320ab6",
    "outputId": "695f0170-2f82-444f-e9a1-166a72832f1a"
   },
   "outputs": [
    {
     "data": {
      "text/plain": [
       "Index(['a', 'b'], dtype='object')"
      ]
     },
     "execution_count": 4,
     "metadata": {},
     "output_type": "execute_result"
    }
   ],
   "source": [
    "obj3 = obj2 [[\"a\",\"b\"]]\n",
    "obj3\n",
    "obj3.index"
   ]
  },
  {
   "cell_type": "code",
   "execution_count": null,
   "id": "6293eae8-b3bb-4530-b499-335bd23f81cb",
   "metadata": {
    "colab": {
     "base_uri": "https://localhost:8080/"
    },
    "id": "6293eae8-b3bb-4530-b499-335bd23f81cb",
    "outputId": "4f504a3e-b5de-487f-a462-fa2e88a68332"
   },
   "outputs": [
    {
     "data": {
      "text/plain": [
       "d    9.424778\n",
       "b    0.000000\n",
       "c   -6.000000\n",
       "a    4.230000\n",
       "dtype: float64"
      ]
     },
     "execution_count": 5,
     "metadata": {},
     "output_type": "execute_result"
    }
   ],
   "source": [
    "np.exp(obj2)\n",
    "obj2 * 3"
   ]
  },
  {
   "cell_type": "code",
   "execution_count": null,
   "id": "1491e3d8-65a0-415d-90cf-df91420858e8",
   "metadata": {
    "colab": {
     "base_uri": "https://localhost:8080/"
    },
    "id": "1491e3d8-65a0-415d-90cf-df91420858e8",
    "outputId": "cedc1b9f-edf0-4b86-d466-02ac8da8ed5e"
   },
   "outputs": [
    {
     "data": {
      "text/plain": [
       "0    False\n",
       "1     True\n",
       "2     True\n",
       "3     True\n",
       "4    False\n",
       "5     True\n",
       "6     True\n",
       "7    False\n",
       "dtype: bool"
      ]
     },
     "execution_count": 6,
     "metadata": {},
     "output_type": "execute_result"
    }
   ],
   "source": [
    "series1 = pd . Series ([ \" a \" , \" b \" , \" c \" , \" b \" , \" a \" , \" c \" , \" c \" , \" x \" ])\n",
    "series1 . isin ([ \" b \" , \" c \" ])\n"
   ]
  },
  {
   "cell_type": "code",
   "execution_count": null,
   "id": "f2fbd80b-f1be-49f8-939a-279ada0fdebf",
   "metadata": {
    "colab": {
     "base_uri": "https://localhost:8080/",
     "height": 258
    },
    "id": "f2fbd80b-f1be-49f8-939a-279ada0fdebf",
    "outputId": "28eb3ec4-c290-4ab9-b087-71cef81088a8"
   },
   "outputs": [
    {
     "data": {
      "text/plain": [
       "{'nombre': ['Rodrigo', 'Sergio', 'Cristina', 'Diana'],\n",
       " 'altura': array([178, 172, 175, 168]),\n",
       " 'peso': array([81.2, 76.1, 68.5, 64. ])}"
      ]
     },
     "metadata": {},
     "output_type": "display_data"
    },
    {
     "data": {
      "application/vnd.google.colaboratory.intrinsic+json": {
       "summary": "{\n  \"name\": \"pacientes\",\n  \"rows\": 4,\n  \"fields\": [\n    {\n      \"column\": \"nombre\",\n      \"properties\": {\n        \"dtype\": \"string\",\n        \"num_unique_values\": 4,\n        \"samples\": [\n          \"Sergio\",\n          \"Diana\",\n          \"Rodrigo\"\n        ],\n        \"semantic_type\": \"\",\n        \"description\": \"\"\n      }\n    },\n    {\n      \"column\": \"altura\",\n      \"properties\": {\n        \"dtype\": \"number\",\n        \"std\": 4,\n        \"min\": 168,\n        \"max\": 178,\n        \"num_unique_values\": 4,\n        \"samples\": [\n          172,\n          168,\n          178\n        ],\n        \"semantic_type\": \"\",\n        \"description\": \"\"\n      }\n    },\n    {\n      \"column\": \"peso\",\n      \"properties\": {\n        \"dtype\": \"number\",\n        \"std\": 7.678758580222023,\n        \"min\": 64.0,\n        \"max\": 81.2,\n        \"num_unique_values\": 4,\n        \"samples\": [\n          76.1,\n          64.0,\n          81.2\n        ],\n        \"semantic_type\": \"\",\n        \"description\": \"\"\n      }\n    }\n  ]\n}",
       "type": "dataframe",
       "variable_name": "pacientes"
      },
      "text/html": [
       "\n",
       "  <div id=\"df-de766c73-cd19-490c-b4f8-fe90fc95a5a2\" class=\"colab-df-container\">\n",
       "    <div>\n",
       "<style scoped>\n",
       "    .dataframe tbody tr th:only-of-type {\n",
       "        vertical-align: middle;\n",
       "    }\n",
       "\n",
       "    .dataframe tbody tr th {\n",
       "        vertical-align: top;\n",
       "    }\n",
       "\n",
       "    .dataframe thead th {\n",
       "        text-align: right;\n",
       "    }\n",
       "</style>\n",
       "<table border=\"1\" class=\"dataframe\">\n",
       "  <thead>\n",
       "    <tr style=\"text-align: right;\">\n",
       "      <th></th>\n",
       "      <th>altura</th>\n",
       "      <th>peso</th>\n",
       "    </tr>\n",
       "    <tr>\n",
       "      <th>nombre</th>\n",
       "      <th></th>\n",
       "      <th></th>\n",
       "    </tr>\n",
       "  </thead>\n",
       "  <tbody>\n",
       "    <tr>\n",
       "      <th>Rodrigo</th>\n",
       "      <td>178</td>\n",
       "      <td>81.2</td>\n",
       "    </tr>\n",
       "    <tr>\n",
       "      <th>Sergio</th>\n",
       "      <td>172</td>\n",
       "      <td>76.1</td>\n",
       "    </tr>\n",
       "    <tr>\n",
       "      <th>Cristina</th>\n",
       "      <td>175</td>\n",
       "      <td>68.5</td>\n",
       "    </tr>\n",
       "    <tr>\n",
       "      <th>Diana</th>\n",
       "      <td>168</td>\n",
       "      <td>64.0</td>\n",
       "    </tr>\n",
       "  </tbody>\n",
       "</table>\n",
       "</div>\n",
       "    <div class=\"colab-df-buttons\">\n",
       "\n",
       "  <div class=\"colab-df-container\">\n",
       "    <button class=\"colab-df-convert\" onclick=\"convertToInteractive('df-de766c73-cd19-490c-b4f8-fe90fc95a5a2')\"\n",
       "            title=\"Convert this dataframe to an interactive table.\"\n",
       "            style=\"display:none;\">\n",
       "\n",
       "  <svg xmlns=\"http://www.w3.org/2000/svg\" height=\"24px\" viewBox=\"0 -960 960 960\">\n",
       "    <path d=\"M120-120v-720h720v720H120Zm60-500h600v-160H180v160Zm220 220h160v-160H400v160Zm0 220h160v-160H400v160ZM180-400h160v-160H180v160Zm440 0h160v-160H620v160ZM180-180h160v-160H180v160Zm440 0h160v-160H620v160Z\"/>\n",
       "  </svg>\n",
       "    </button>\n",
       "\n",
       "  <style>\n",
       "    .colab-df-container {\n",
       "      display:flex;\n",
       "      gap: 12px;\n",
       "    }\n",
       "\n",
       "    .colab-df-convert {\n",
       "      background-color: #E8F0FE;\n",
       "      border: none;\n",
       "      border-radius: 50%;\n",
       "      cursor: pointer;\n",
       "      display: none;\n",
       "      fill: #1967D2;\n",
       "      height: 32px;\n",
       "      padding: 0 0 0 0;\n",
       "      width: 32px;\n",
       "    }\n",
       "\n",
       "    .colab-df-convert:hover {\n",
       "      background-color: #E2EBFA;\n",
       "      box-shadow: 0px 1px 2px rgba(60, 64, 67, 0.3), 0px 1px 3px 1px rgba(60, 64, 67, 0.15);\n",
       "      fill: #174EA6;\n",
       "    }\n",
       "\n",
       "    .colab-df-buttons div {\n",
       "      margin-bottom: 4px;\n",
       "    }\n",
       "\n",
       "    [theme=dark] .colab-df-convert {\n",
       "      background-color: #3B4455;\n",
       "      fill: #D2E3FC;\n",
       "    }\n",
       "\n",
       "    [theme=dark] .colab-df-convert:hover {\n",
       "      background-color: #434B5C;\n",
       "      box-shadow: 0px 1px 3px 1px rgba(0, 0, 0, 0.15);\n",
       "      filter: drop-shadow(0px 1px 2px rgba(0, 0, 0, 0.3));\n",
       "      fill: #FFFFFF;\n",
       "    }\n",
       "  </style>\n",
       "\n",
       "    <script>\n",
       "      const buttonEl =\n",
       "        document.querySelector('#df-de766c73-cd19-490c-b4f8-fe90fc95a5a2 button.colab-df-convert');\n",
       "      buttonEl.style.display =\n",
       "        google.colab.kernel.accessAllowed ? 'block' : 'none';\n",
       "\n",
       "      async function convertToInteractive(key) {\n",
       "        const element = document.querySelector('#df-de766c73-cd19-490c-b4f8-fe90fc95a5a2');\n",
       "        const dataTable =\n",
       "          await google.colab.kernel.invokeFunction('convertToInteractive',\n",
       "                                                    [key], {});\n",
       "        if (!dataTable) return;\n",
       "\n",
       "        const docLinkHtml = 'Like what you see? Visit the ' +\n",
       "          '<a target=\"_blank\" href=https://colab.research.google.com/notebooks/data_table.ipynb>data table notebook</a>'\n",
       "          + ' to learn more about interactive tables.';\n",
       "        element.innerHTML = '';\n",
       "        dataTable['output_type'] = 'display_data';\n",
       "        await google.colab.output.renderOutput(dataTable, element);\n",
       "        const docLink = document.createElement('div');\n",
       "        docLink.innerHTML = docLinkHtml;\n",
       "        element.appendChild(docLink);\n",
       "      }\n",
       "    </script>\n",
       "  </div>\n",
       "\n",
       "\n",
       "<div id=\"df-9ef6fad9-97af-4ce6-aaba-a3574f29b59f\">\n",
       "  <button class=\"colab-df-quickchart\" onclick=\"quickchart('df-9ef6fad9-97af-4ce6-aaba-a3574f29b59f')\"\n",
       "            title=\"Suggest charts\"\n",
       "            style=\"display:none;\">\n",
       "\n",
       "<svg xmlns=\"http://www.w3.org/2000/svg\" height=\"24px\"viewBox=\"0 0 24 24\"\n",
       "     width=\"24px\">\n",
       "    <g>\n",
       "        <path d=\"M19 3H5c-1.1 0-2 .9-2 2v14c0 1.1.9 2 2 2h14c1.1 0 2-.9 2-2V5c0-1.1-.9-2-2-2zM9 17H7v-7h2v7zm4 0h-2V7h2v10zm4 0h-2v-4h2v4z\"/>\n",
       "    </g>\n",
       "</svg>\n",
       "  </button>\n",
       "\n",
       "<style>\n",
       "  .colab-df-quickchart {\n",
       "      --bg-color: #E8F0FE;\n",
       "      --fill-color: #1967D2;\n",
       "      --hover-bg-color: #E2EBFA;\n",
       "      --hover-fill-color: #174EA6;\n",
       "      --disabled-fill-color: #AAA;\n",
       "      --disabled-bg-color: #DDD;\n",
       "  }\n",
       "\n",
       "  [theme=dark] .colab-df-quickchart {\n",
       "      --bg-color: #3B4455;\n",
       "      --fill-color: #D2E3FC;\n",
       "      --hover-bg-color: #434B5C;\n",
       "      --hover-fill-color: #FFFFFF;\n",
       "      --disabled-bg-color: #3B4455;\n",
       "      --disabled-fill-color: #666;\n",
       "  }\n",
       "\n",
       "  .colab-df-quickchart {\n",
       "    background-color: var(--bg-color);\n",
       "    border: none;\n",
       "    border-radius: 50%;\n",
       "    cursor: pointer;\n",
       "    display: none;\n",
       "    fill: var(--fill-color);\n",
       "    height: 32px;\n",
       "    padding: 0;\n",
       "    width: 32px;\n",
       "  }\n",
       "\n",
       "  .colab-df-quickchart:hover {\n",
       "    background-color: var(--hover-bg-color);\n",
       "    box-shadow: 0 1px 2px rgba(60, 64, 67, 0.3), 0 1px 3px 1px rgba(60, 64, 67, 0.15);\n",
       "    fill: var(--button-hover-fill-color);\n",
       "  }\n",
       "\n",
       "  .colab-df-quickchart-complete:disabled,\n",
       "  .colab-df-quickchart-complete:disabled:hover {\n",
       "    background-color: var(--disabled-bg-color);\n",
       "    fill: var(--disabled-fill-color);\n",
       "    box-shadow: none;\n",
       "  }\n",
       "\n",
       "  .colab-df-spinner {\n",
       "    border: 2px solid var(--fill-color);\n",
       "    border-color: transparent;\n",
       "    border-bottom-color: var(--fill-color);\n",
       "    animation:\n",
       "      spin 1s steps(1) infinite;\n",
       "  }\n",
       "\n",
       "  @keyframes spin {\n",
       "    0% {\n",
       "      border-color: transparent;\n",
       "      border-bottom-color: var(--fill-color);\n",
       "      border-left-color: var(--fill-color);\n",
       "    }\n",
       "    20% {\n",
       "      border-color: transparent;\n",
       "      border-left-color: var(--fill-color);\n",
       "      border-top-color: var(--fill-color);\n",
       "    }\n",
       "    30% {\n",
       "      border-color: transparent;\n",
       "      border-left-color: var(--fill-color);\n",
       "      border-top-color: var(--fill-color);\n",
       "      border-right-color: var(--fill-color);\n",
       "    }\n",
       "    40% {\n",
       "      border-color: transparent;\n",
       "      border-right-color: var(--fill-color);\n",
       "      border-top-color: var(--fill-color);\n",
       "    }\n",
       "    60% {\n",
       "      border-color: transparent;\n",
       "      border-right-color: var(--fill-color);\n",
       "    }\n",
       "    80% {\n",
       "      border-color: transparent;\n",
       "      border-right-color: var(--fill-color);\n",
       "      border-bottom-color: var(--fill-color);\n",
       "    }\n",
       "    90% {\n",
       "      border-color: transparent;\n",
       "      border-bottom-color: var(--fill-color);\n",
       "    }\n",
       "  }\n",
       "</style>\n",
       "\n",
       "  <script>\n",
       "    async function quickchart(key) {\n",
       "      const quickchartButtonEl =\n",
       "        document.querySelector('#' + key + ' button');\n",
       "      quickchartButtonEl.disabled = true;  // To prevent multiple clicks.\n",
       "      quickchartButtonEl.classList.add('colab-df-spinner');\n",
       "      try {\n",
       "        const charts = await google.colab.kernel.invokeFunction(\n",
       "            'suggestCharts', [key], {});\n",
       "      } catch (error) {\n",
       "        console.error('Error during call to suggestCharts:', error);\n",
       "      }\n",
       "      quickchartButtonEl.classList.remove('colab-df-spinner');\n",
       "      quickchartButtonEl.classList.add('colab-df-quickchart-complete');\n",
       "    }\n",
       "    (() => {\n",
       "      let quickchartButtonEl =\n",
       "        document.querySelector('#df-9ef6fad9-97af-4ce6-aaba-a3574f29b59f button');\n",
       "      quickchartButtonEl.style.display =\n",
       "        google.colab.kernel.accessAllowed ? 'block' : 'none';\n",
       "    })();\n",
       "  </script>\n",
       "</div>\n",
       "\n",
       "  <div id=\"id_d55926ea-3a84-4e6f-99a6-07ebe8ee1fa6\">\n",
       "    <style>\n",
       "      .colab-df-generate {\n",
       "        background-color: #E8F0FE;\n",
       "        border: none;\n",
       "        border-radius: 50%;\n",
       "        cursor: pointer;\n",
       "        display: none;\n",
       "        fill: #1967D2;\n",
       "        height: 32px;\n",
       "        padding: 0 0 0 0;\n",
       "        width: 32px;\n",
       "      }\n",
       "\n",
       "      .colab-df-generate:hover {\n",
       "        background-color: #E2EBFA;\n",
       "        box-shadow: 0px 1px 2px rgba(60, 64, 67, 0.3), 0px 1px 3px 1px rgba(60, 64, 67, 0.15);\n",
       "        fill: #174EA6;\n",
       "      }\n",
       "\n",
       "      [theme=dark] .colab-df-generate {\n",
       "        background-color: #3B4455;\n",
       "        fill: #D2E3FC;\n",
       "      }\n",
       "\n",
       "      [theme=dark] .colab-df-generate:hover {\n",
       "        background-color: #434B5C;\n",
       "        box-shadow: 0px 1px 3px 1px rgba(0, 0, 0, 0.15);\n",
       "        filter: drop-shadow(0px 1px 2px rgba(0, 0, 0, 0.3));\n",
       "        fill: #FFFFFF;\n",
       "      }\n",
       "    </style>\n",
       "    <button class=\"colab-df-generate\" onclick=\"generateWithVariable('pacientes')\"\n",
       "            title=\"Generate code using this dataframe.\"\n",
       "            style=\"display:none;\">\n",
       "\n",
       "  <svg xmlns=\"http://www.w3.org/2000/svg\" height=\"24px\"viewBox=\"0 0 24 24\"\n",
       "       width=\"24px\">\n",
       "    <path d=\"M7,19H8.4L18.45,9,17,7.55,7,17.6ZM5,21V16.75L18.45,3.32a2,2,0,0,1,2.83,0l1.4,1.43a1.91,1.91,0,0,1,.58,1.4,1.91,1.91,0,0,1-.58,1.4L9.25,21ZM18.45,9,17,7.55Zm-12,3A5.31,5.31,0,0,0,4.9,8.1,5.31,5.31,0,0,0,1,6.5,5.31,5.31,0,0,0,4.9,4.9,5.31,5.31,0,0,0,6.5,1,5.31,5.31,0,0,0,8.1,4.9,5.31,5.31,0,0,0,12,6.5,5.46,5.46,0,0,0,6.5,12Z\"/>\n",
       "  </svg>\n",
       "    </button>\n",
       "    <script>\n",
       "      (() => {\n",
       "      const buttonEl =\n",
       "        document.querySelector('#id_d55926ea-3a84-4e6f-99a6-07ebe8ee1fa6 button.colab-df-generate');\n",
       "      buttonEl.style.display =\n",
       "        google.colab.kernel.accessAllowed ? 'block' : 'none';\n",
       "\n",
       "      buttonEl.onclick = () => {\n",
       "        google.colab.notebook.generateWithVariable('pacientes');\n",
       "      }\n",
       "      })();\n",
       "    </script>\n",
       "  </div>\n",
       "\n",
       "    </div>\n",
       "  </div>\n"
      ],
      "text/plain": [
       "          altura  peso\n",
       "nombre                \n",
       "Rodrigo      178  81.2\n",
       "Sergio       172  76.1\n",
       "Cristina     175  68.5\n",
       "Diana        168  64.0"
      ]
     },
     "metadata": {},
     "output_type": "display_data"
    }
   ],
   "source": [
    "data = {\"nombre\": [\"Rodrigo\", \"Sergio\", \"Cristina\", \"Diana\"], \"altura\": np.array([178, 172, 175, 168]), \"peso\": np.array([81.2, 76.1, 68.5, 64.0])}\n",
    "display(data)\n",
    "pacientes = pd.DataFrame(data).set_index(\"nombre\")\n",
    "display(pacientes)"
   ]
  },
  {
   "cell_type": "code",
   "execution_count": null,
   "id": "7371f0bd-f63e-4634-9d74-6278063179b6",
   "metadata": {
    "colab": {
     "base_uri": "https://localhost:8080/"
    },
    "id": "7371f0bd-f63e-4634-9d74-6278063179b6",
    "outputId": "4b23a424-e425-4346-cbee-fe850df53b78"
   },
   "outputs": [
    {
     "data": {
      "text/plain": [
       "178"
      ]
     },
     "execution_count": 8,
     "metadata": {},
     "output_type": "execute_result"
    }
   ],
   "source": [
    "pacientes[ \"altura\" ].Rodrigo"
   ]
  },
  {
   "cell_type": "code",
   "execution_count": null,
   "id": "530f90db-66aa-4b48-838d-1b5df61d8329",
   "metadata": {
    "id": "530f90db-66aa-4b48-838d-1b5df61d8329"
   },
   "outputs": [],
   "source": [
    "from gapminder import gapminder"
   ]
  },
  {
   "cell_type": "code",
   "execution_count": null,
   "id": "3e316f72-6784-406a-a81f-067155ea14a8",
   "metadata": {
    "colab": {
     "base_uri": "https://localhost:8080/"
    },
    "id": "3e316f72-6784-406a-a81f-067155ea14a8",
    "outputId": "45fbfecc-f4b5-41cd-f54b-86d2c6cab9b8"
   },
   "outputs": [
    {
     "name": "stdout",
     "output_type": "stream",
     "text": [
      "Collecting gapminder\n",
      "  Downloading gapminder-0.1-py3-none-any.whl (32 kB)\n",
      "Requirement already satisfied: pandas in /usr/local/lib/python3.10/dist-packages (from gapminder) (2.0.3)\n",
      "Requirement already satisfied: python-dateutil>=2.8.2 in /usr/local/lib/python3.10/dist-packages (from pandas->gapminder) (2.8.2)\n",
      "Requirement already satisfied: pytz>=2020.1 in /usr/local/lib/python3.10/dist-packages (from pandas->gapminder) (2023.4)\n",
      "Requirement already satisfied: tzdata>=2022.1 in /usr/local/lib/python3.10/dist-packages (from pandas->gapminder) (2024.1)\n",
      "Requirement already satisfied: numpy>=1.21.0 in /usr/local/lib/python3.10/dist-packages (from pandas->gapminder) (1.25.2)\n",
      "Requirement already satisfied: six>=1.5 in /usr/local/lib/python3.10/dist-packages (from python-dateutil>=2.8.2->pandas->gapminder) (1.16.0)\n",
      "Installing collected packages: gapminder\n",
      "Successfully installed gapminder-0.1\n"
     ]
    }
   ],
   "source": [
    "pip install gapminder"
   ]
  },
  {
   "cell_type": "code",
   "execution_count": null,
   "id": "7dcdf42d-b334-4a5b-b3ef-5b038ac5b444",
   "metadata": {
    "id": "7dcdf42d-b334-4a5b-b3ef-5b038ac5b444"
   },
   "outputs": [],
   "source": [
    "#11.\n",
    "type(gapminder)\n",
    "# devuelve pandas.core.frame.DataFrame\n",
    "\n",
    "display(gapminder)\n",
    "# tiene 6 variables, 4 floats y 2 strings, usa indices del 0 al 1703\n"
   ]
  },
  {
   "cell_type": "code",
   "execution_count": null,
   "id": "c3bdee96-7374-4fca-9564-100c9b4cf334",
   "metadata": {
    "colab": {
     "base_uri": "https://localhost:8080/"
    },
    "id": "c3bdee96-7374-4fca-9564-100c9b4cf334",
    "outputId": "add79364-05aa-4d0c-f39b-d3a9b47be758"
   },
   "outputs": [
    {
     "data": {
      "text/plain": [
       "(1704, 6)"
      ]
     },
     "execution_count": 13,
     "metadata": {},
     "output_type": "execute_result"
    }
   ],
   "source": [
    "#12\n",
    "gapminder.shape"
   ]
  },
  {
   "cell_type": "code",
   "execution_count": null,
   "id": "00f98488-6163-46b9-b981-7c7243e71d1d",
   "metadata": {
    "id": "00f98488-6163-46b9-b981-7c7243e71d1d"
   },
   "outputs": [],
   "source": [
    "#13\n",
    "gapminder.country.nunique() #hay datos de 142 paises\n"
   ]
  },
  {
   "cell_type": "code",
   "execution_count": null,
   "id": "b969a0ef-a47a-4639-94fa-2cfe1daeb343",
   "metadata": {
    "id": "b969a0ef-a47a-4639-94fa-2cfe1daeb343",
    "scrolled": true
   },
   "outputs": [],
   "source": [
    "#14\n",
    "gm_sur = gapminder.isin([\"Argentina\", \"Chile\", \"Uruguay\"]).copy()\n",
    "display(gm_sur)\n",
    "#Con esto conseguimos despejar Argentina, Chile y Uruguay de la base de datos"
   ]
  },
  {
   "cell_type": "code",
   "execution_count": null,
   "id": "a7b58aaf-bc99-4ba6-be15-3a8e1fa8b277",
   "metadata": {
    "id": "a7b58aaf-bc99-4ba6-be15-3a8e1fa8b277"
   },
   "outputs": [],
   "source": [
    "gm_sur = gapminder[gapminder[\"country\"].isin([\"Argentina\", \"Chile\", \"Uruguay\"])]\n",
    "#Esto nos crea una nueva base de datos con solo estos 3 paises\n",
    "display(gm_sur)"
   ]
  },
  {
   "cell_type": "code",
   "execution_count": null,
   "id": "4a73cfb1-d41a-46c0-9e5b-bd2cdf557606",
   "metadata": {
    "id": "4a73cfb1-d41a-46c0-9e5b-bd2cdf557606"
   },
   "outputs": [],
   "source": [
    "gm_sur.groupby(\"country\").size().sum()\n",
    "#Nos devuelve la cantidad de filas que tiene (con sus repetidos)"
   ]
  },
  {
   "cell_type": "code",
   "execution_count": null,
   "id": "340457b6-51f0-4b5c-a022-c494d4d51ee3",
   "metadata": {
    "id": "340457b6-51f0-4b5c-a022-c494d4d51ee3"
   },
   "outputs": [],
   "source": [
    "gm_argentina = gm_sur[gm_sur[\"country\"].isin([\"Argentina\"])]\n",
    "display(gm_argentina)\n",
    "#Queremos obtener una base de datos solo de Argentina"
   ]
  },
  {
   "cell_type": "code",
   "execution_count": null,
   "id": "a8b1cf4c-eac5-463a-b992-51431b339bc0",
   "metadata": {
    "id": "a8b1cf4c-eac5-463a-b992-51431b339bc0"
   },
   "outputs": [],
   "source": [
    "#Usando iloc obtengo el head ubicado en el indice 0 del dataframe que creamos, es decir gm_argentina\n",
    "display(gm_argentina.iloc[0])"
   ]
  },
  {
   "cell_type": "code",
   "execution_count": null,
   "id": "83cb42b8-70a4-4905-afea-edf93663799d",
   "metadata": {
    "id": "83cb42b8-70a4-4905-afea-edf93663799d"
   },
   "outputs": [],
   "source": [
    "#Usando loc obtengo el head ubicado en el indice 59 del dataframe original, es decir gapminder\n",
    "display(gm_argentina.loc[59])"
   ]
  },
  {
   "cell_type": "code",
   "execution_count": null,
   "id": "89ab5e51-2bd6-42c7-a165-f626f84f17d4",
   "metadata": {
    "id": "89ab5e51-2bd6-42c7-a165-f626f84f17d4"
   },
   "outputs": [],
   "source": [
    "#15.1\n",
    "display(gm_sur.index)\n",
    "#Argentina tiene indices del loc 48 hasta el 59\n",
    "#Chile tiene indices del loc 276 hasta el 287\n",
    "#Uruguay tiene indices del loc 1620 hasta el 1631\n",
    "\n",
    "#15.2\n",
    "\"\"\"\n",
    "loc: sirve para ubicar indices del dataframe original, en nuestro caso gapminder.\n",
    "iloc: sirve para ubicar indices del dataframe con el que estamos trabajando, como recien con gm_argentina.\n",
    "\"\"\""
   ]
  }
 ],
 "metadata": {
  "celltoolbar": "Raw Cell Format",
  "colab": {
   "provenance": []
  },
  "kernelspec": {
   "display_name": "Python 3 (ipykernel)",
   "language": "python",
   "name": "python3"
  },
  "language_info": {
   "codemirror_mode": {
    "name": "ipython",
    "version": 3
   },
   "file_extension": ".py",
   "mimetype": "text/x-python",
   "name": "python",
   "nbconvert_exporter": "python",
   "pygments_lexer": "ipython3",
   "version": "3.11.8"
  }
 },
 "nbformat": 4,
 "nbformat_minor": 5
}
