{
 "cells": [
  {
   "cell_type": "markdown",
   "metadata": {},
   "source": [
    "$$\n",
    "\\text{Universidad de Buenos Aires - Facultad de Ciencias Exactas y Naturales - Ciencias de Datos}\n",
    "$$\n",
    "\n",
    "$$\n",
    "\\textbf{Laboratorio De Datos}\n",
    "$$\n",
    "\n",
    "$$\n",
    "\\small{\\text{Primer Cuatrimestre 2024}}\n",
    "$$\n",
    "\n",
    "\n",
    "$$\n",
    "\\text{Integrantes:}\n",
    "$$\n",
    "\n",
    "$$\n",
    "\\small{\\text{Nombre, LU, Mail}}\n",
    "$$\n",
    "\n",
    "<p align=\"center\">\n",
    "Matias Gangui, 155/20, ganguimatias@gmail.com  <br>\n",
    "Tomas Brucellaria, 287/23, tomasbrus54@gmail.com <br>\n",
    "Lucas Grasso Ramos, 1187/23, lucasgrassoramos@gmail.com <br>\n",
    "</p>\n"
   ]
  },
  {
   "cell_type": "markdown",
   "metadata": {
    "id": "NLIcePvnLX6y"
   },
   "source": [
    "# Instalaciones e Imports"
   ]
  },
  {
   "cell_type": "code",
   "execution_count": 1,
   "metadata": {
    "id": "391FgtQWhO4S",
    "metadata": {}
   },
   "outputs": [],
   "source": [
    "import warnings\n",
    "\n",
    "import numpy as np\n",
    "import pandas as pd\n",
    "import seaborn.objects as so\n",
    "\n",
    "import matplotlib.pyplot as plt\n",
    "plt.style.use(\"ggplot\")\n",
    "\n",
    "from sklearn import linear_model    # Herramientas de modelos lineales\n",
    "from sklearn.metrics import mean_squared_error    # Medidas de desempeño\n",
    "\n",
    "from sklearn.model_selection import KFold\n",
    "from sklearn.model_selection import train_test_split\n",
    "\n",
    "from formulaic import model_matrix\n",
    "from formulaic import Formula\n",
    "\n",
    "from sklearn.model_selection import GridSearchCV\n",
    "from sklearn.linear_model import Ridge"
   ]
  },
  {
   "cell_type": "markdown",
   "metadata": {
    "id": "6bm2Wyy0Qg81"
   },
   "source": [
    "# Parte 1: Procesamiento de datos"
   ]
  },
  {
   "cell_type": "code",
   "execution_count": 2,
   "metadata": {
    "metadata": {}
   },
   "outputs": [
    {
     "data": {
      "text/html": [
       "<div>\n",
       "<style scoped>\n",
       "    .dataframe tbody tr th:only-of-type {\n",
       "        vertical-align: middle;\n",
       "    }\n",
       "\n",
       "    .dataframe tbody tr th {\n",
       "        vertical-align: top;\n",
       "    }\n",
       "\n",
       "    .dataframe thead th {\n",
       "        text-align: right;\n",
       "    }\n",
       "</style>\n",
       "<table border=\"1\" class=\"dataframe\">\n",
       "  <thead>\n",
       "    <tr style=\"text-align: right;\">\n",
       "      <th></th>\n",
       "      <th>DIA_TRANSPORTE</th>\n",
       "      <th>NOMBRE_EMPRESA</th>\n",
       "      <th>LINEA</th>\n",
       "      <th>AMBA</th>\n",
       "      <th>TIPO_TRANSPORTE</th>\n",
       "      <th>JURISDICCION</th>\n",
       "      <th>PROVINCIA</th>\n",
       "      <th>MUNICIPIO</th>\n",
       "      <th>CANTIDAD</th>\n",
       "      <th>DATO_PRELIMINAR</th>\n",
       "    </tr>\n",
       "  </thead>\n",
       "  <tbody>\n",
       "    <tr>\n",
       "      <th>0</th>\n",
       "      <td>2023-01-01</td>\n",
       "      <td>MUNICIPALIDAD DE MERCEDES PROVINCIA DE BUENOS ...</td>\n",
       "      <td>1</td>\n",
       "      <td>SI</td>\n",
       "      <td>COLECTIVO</td>\n",
       "      <td>MUNICIPAL</td>\n",
       "      <td>BUENOS AIRES</td>\n",
       "      <td>MERCEDES</td>\n",
       "      <td>61</td>\n",
       "      <td>NO</td>\n",
       "    </tr>\n",
       "    <tr>\n",
       "      <th>1</th>\n",
       "      <td>2023-01-01</td>\n",
       "      <td>MUNICIPALIDAD DE MERCEDES PROVINCIA DE BUENOS ...</td>\n",
       "      <td>2B</td>\n",
       "      <td>SI</td>\n",
       "      <td>COLECTIVO</td>\n",
       "      <td>MUNICIPAL</td>\n",
       "      <td>BUENOS AIRES</td>\n",
       "      <td>MERCEDES</td>\n",
       "      <td>11</td>\n",
       "      <td>NO</td>\n",
       "    </tr>\n",
       "    <tr>\n",
       "      <th>2</th>\n",
       "      <td>2023-01-01</td>\n",
       "      <td>EMPRESA BATAN S.A.</td>\n",
       "      <td>BS_AS_LINEA 715M</td>\n",
       "      <td>NO</td>\n",
       "      <td>COLECTIVO</td>\n",
       "      <td>MUNICIPAL</td>\n",
       "      <td>BUENOS AIRES</td>\n",
       "      <td>GENERAL PUEYRREDON</td>\n",
       "      <td>1707</td>\n",
       "      <td>NO</td>\n",
       "    </tr>\n",
       "    <tr>\n",
       "      <th>3</th>\n",
       "      <td>2023-01-01</td>\n",
       "      <td>COMPAÑIA  DE TRANSPORTE VECINAL S.A.</td>\n",
       "      <td>BS_AS_LINEA_326</td>\n",
       "      <td>SI</td>\n",
       "      <td>COLECTIVO</td>\n",
       "      <td>PROVINCIAL</td>\n",
       "      <td>BUENOS AIRES</td>\n",
       "      <td>SN</td>\n",
       "      <td>438</td>\n",
       "      <td>NO</td>\n",
       "    </tr>\n",
       "    <tr>\n",
       "      <th>4</th>\n",
       "      <td>2023-01-01</td>\n",
       "      <td>EMPRESA DE TRANSPORTE PERALTA RAMOS SACI</td>\n",
       "      <td>BS_AS_LINEA_512</td>\n",
       "      <td>NO</td>\n",
       "      <td>COLECTIVO</td>\n",
       "      <td>MUNICIPAL</td>\n",
       "      <td>BUENOS AIRES</td>\n",
       "      <td>GENERAL PUEYRREDON</td>\n",
       "      <td>1189</td>\n",
       "      <td>NO</td>\n",
       "    </tr>\n",
       "  </tbody>\n",
       "</table>\n",
       "</div>"
      ],
      "text/plain": [
       "  DIA_TRANSPORTE                                     NOMBRE_EMPRESA  \\\n",
       "0     2023-01-01  MUNICIPALIDAD DE MERCEDES PROVINCIA DE BUENOS ...   \n",
       "1     2023-01-01  MUNICIPALIDAD DE MERCEDES PROVINCIA DE BUENOS ...   \n",
       "2     2023-01-01                                 EMPRESA BATAN S.A.   \n",
       "3     2023-01-01               COMPAÑIA  DE TRANSPORTE VECINAL S.A.   \n",
       "4     2023-01-01           EMPRESA DE TRANSPORTE PERALTA RAMOS SACI   \n",
       "\n",
       "              LINEA AMBA TIPO_TRANSPORTE JURISDICCION     PROVINCIA  \\\n",
       "0                 1   SI       COLECTIVO    MUNICIPAL  BUENOS AIRES   \n",
       "1                2B   SI       COLECTIVO    MUNICIPAL  BUENOS AIRES   \n",
       "2  BS_AS_LINEA 715M   NO       COLECTIVO    MUNICIPAL  BUENOS AIRES   \n",
       "3   BS_AS_LINEA_326   SI       COLECTIVO   PROVINCIAL  BUENOS AIRES   \n",
       "4   BS_AS_LINEA_512   NO       COLECTIVO    MUNICIPAL  BUENOS AIRES   \n",
       "\n",
       "            MUNICIPIO  CANTIDAD DATO_PRELIMINAR  \n",
       "0            MERCEDES        61              NO  \n",
       "1            MERCEDES        11              NO  \n",
       "2  GENERAL PUEYRREDON      1707              NO  \n",
       "3                  SN       438              NO  \n",
       "4  GENERAL PUEYRREDON      1189              NO  "
      ]
     },
     "execution_count": 2,
     "metadata": {},
     "output_type": "execute_result"
    }
   ],
   "source": [
    "df = pd.read_csv('./datasets/sube-2023.csv')\n",
    "df.head()"
   ]
  },
  {
   "cell_type": "markdown",
   "metadata": {
    "id": "iWcXcQtYjw6Z"
   },
   "source": [
    "## Ejercicio 1"
   ]
  },
  {
   "cell_type": "markdown",
   "metadata": {
    "id": "ClAADfgnOqhN"
   },
   "source": [
    "**a)** Visualizar el tipo de datos de cada columna.Transformar la columna `\"DIA_TRANSPORTE\"` para que sea reconocida como una fecha.\n"
   ]
  },
  {
   "cell_type": "code",
   "execution_count": 3,
   "metadata": {
    "colab": {
     "base_uri": "https://localhost:8080/"
    },
    "id": "Y3xgpirAQtIN",
    "metadata": {},
    "outputId": "4e655cc2-56f3-4998-d941-ea39da7d262f"
   },
   "outputs": [
    {
     "data": {
      "text/plain": [
       "DIA_TRANSPORTE     object\n",
       "NOMBRE_EMPRESA     object\n",
       "LINEA              object\n",
       "AMBA               object\n",
       "TIPO_TRANSPORTE    object\n",
       "JURISDICCION       object\n",
       "PROVINCIA          object\n",
       "MUNICIPIO          object\n",
       "CANTIDAD            int64\n",
       "DATO_PRELIMINAR    object\n",
       "dtype: object"
      ]
     },
     "execution_count": 3,
     "metadata": {},
     "output_type": "execute_result"
    }
   ],
   "source": [
    "df.dtypes"
   ]
  },
  {
   "cell_type": "code",
   "execution_count": 4,
   "metadata": {
    "colab": {
     "base_uri": "https://localhost:8080/"
    },
    "id": "kcGuO2NdiwdW",
    "metadata": {},
    "outputId": "d394f4e1-e176-4e44-b7d9-60d0b39e4149"
   },
   "outputs": [
    {
     "name": "stdout",
     "output_type": "stream",
     "text": [
      "Tipo de df['DIA_TRANSPORTE'] antes: object\n",
      "Tipo de df['DIA_TRANSPORTE'] despues: datetime64[ns]\n"
     ]
    }
   ],
   "source": [
    "print(f\"Tipo de df['DIA_TRANSPORTE'] antes: {df.DIA_TRANSPORTE.dtype}\")\n",
    "df['DIA_TRANSPORTE'] = pd.to_datetime(df['DIA_TRANSPORTE'])\n",
    "print(f\"Tipo de df['DIA_TRANSPORTE'] despues: {df.DIA_TRANSPORTE.dtype}\")"
   ]
  },
  {
   "cell_type": "markdown",
   "metadata": {
    "id": "2OakkUvOPPIa"
   },
   "source": [
    "**b)** Agregar tres columnas al DataFrame:"
   ]
  },
  {
   "cell_type": "code",
   "execution_count": 5,
   "metadata": {
    "metadata": {}
   },
   "outputs": [],
   "source": [
    "dias = {\n",
    "\t\t'Monday': 'Lunes',\n",
    "\t\t'Tuesday': 'Martes',\n",
    "\t\t'Wednesday': 'Miércoles',\n",
    "\t\t'Thursday': 'Jueves',\n",
    "\t\t'Friday': 'Viernes',\n",
    "\t\t'Saturday': 'Sábado',\n",
    "\t\t'Sunday': 'Domingo'\n",
    "\t}\n",
    "\n",
    "def traducir_dia(dia:str):\n",
    "\treturn dias[dia]"
   ]
  },
  {
   "cell_type": "code",
   "execution_count": 6,
   "metadata": {
    "colab": {
     "base_uri": "https://localhost:8080/",
     "height": 913
    },
    "id": "SJKs89TyjHHe",
    "metadata": {},
    "outputId": "e2450ead-8232-4bd3-ac52-554026dd2f87"
   },
   "outputs": [
    {
     "data": {
      "text/html": [
       "<div>\n",
       "<style scoped>\n",
       "    .dataframe tbody tr th:only-of-type {\n",
       "        vertical-align: middle;\n",
       "    }\n",
       "\n",
       "    .dataframe tbody tr th {\n",
       "        vertical-align: top;\n",
       "    }\n",
       "\n",
       "    .dataframe thead th {\n",
       "        text-align: right;\n",
       "    }\n",
       "</style>\n",
       "<table border=\"1\" class=\"dataframe\">\n",
       "  <thead>\n",
       "    <tr style=\"text-align: right;\">\n",
       "      <th></th>\n",
       "      <th>DIA_TRANSPORTE</th>\n",
       "      <th>NOMBRE_EMPRESA</th>\n",
       "      <th>LINEA</th>\n",
       "      <th>AMBA</th>\n",
       "      <th>TIPO_TRANSPORTE</th>\n",
       "      <th>JURISDICCION</th>\n",
       "      <th>PROVINCIA</th>\n",
       "      <th>MUNICIPIO</th>\n",
       "      <th>CANTIDAD</th>\n",
       "      <th>DATO_PRELIMINAR</th>\n",
       "      <th>FECHA_DIA</th>\n",
       "      <th>FECHA_MES</th>\n",
       "      <th>FECHA_ORDINAL</th>\n",
       "    </tr>\n",
       "  </thead>\n",
       "  <tbody>\n",
       "    <tr>\n",
       "      <th>0</th>\n",
       "      <td>2023-01-01</td>\n",
       "      <td>MUNICIPALIDAD DE MERCEDES PROVINCIA DE BUENOS ...</td>\n",
       "      <td>1</td>\n",
       "      <td>SI</td>\n",
       "      <td>COLECTIVO</td>\n",
       "      <td>MUNICIPAL</td>\n",
       "      <td>BUENOS AIRES</td>\n",
       "      <td>MERCEDES</td>\n",
       "      <td>61</td>\n",
       "      <td>NO</td>\n",
       "      <td>Domingo</td>\n",
       "      <td>1</td>\n",
       "      <td>1</td>\n",
       "    </tr>\n",
       "    <tr>\n",
       "      <th>1</th>\n",
       "      <td>2023-01-01</td>\n",
       "      <td>MUNICIPALIDAD DE MERCEDES PROVINCIA DE BUENOS ...</td>\n",
       "      <td>2B</td>\n",
       "      <td>SI</td>\n",
       "      <td>COLECTIVO</td>\n",
       "      <td>MUNICIPAL</td>\n",
       "      <td>BUENOS AIRES</td>\n",
       "      <td>MERCEDES</td>\n",
       "      <td>11</td>\n",
       "      <td>NO</td>\n",
       "      <td>Domingo</td>\n",
       "      <td>1</td>\n",
       "      <td>1</td>\n",
       "    </tr>\n",
       "    <tr>\n",
       "      <th>2</th>\n",
       "      <td>2023-01-01</td>\n",
       "      <td>EMPRESA BATAN S.A.</td>\n",
       "      <td>BS_AS_LINEA 715M</td>\n",
       "      <td>NO</td>\n",
       "      <td>COLECTIVO</td>\n",
       "      <td>MUNICIPAL</td>\n",
       "      <td>BUENOS AIRES</td>\n",
       "      <td>GENERAL PUEYRREDON</td>\n",
       "      <td>1707</td>\n",
       "      <td>NO</td>\n",
       "      <td>Domingo</td>\n",
       "      <td>1</td>\n",
       "      <td>1</td>\n",
       "    </tr>\n",
       "    <tr>\n",
       "      <th>3</th>\n",
       "      <td>2023-01-01</td>\n",
       "      <td>COMPAÑIA  DE TRANSPORTE VECINAL S.A.</td>\n",
       "      <td>BS_AS_LINEA_326</td>\n",
       "      <td>SI</td>\n",
       "      <td>COLECTIVO</td>\n",
       "      <td>PROVINCIAL</td>\n",
       "      <td>BUENOS AIRES</td>\n",
       "      <td>SN</td>\n",
       "      <td>438</td>\n",
       "      <td>NO</td>\n",
       "      <td>Domingo</td>\n",
       "      <td>1</td>\n",
       "      <td>1</td>\n",
       "    </tr>\n",
       "    <tr>\n",
       "      <th>4</th>\n",
       "      <td>2023-01-01</td>\n",
       "      <td>EMPRESA DE TRANSPORTE PERALTA RAMOS SACI</td>\n",
       "      <td>BS_AS_LINEA_512</td>\n",
       "      <td>NO</td>\n",
       "      <td>COLECTIVO</td>\n",
       "      <td>MUNICIPAL</td>\n",
       "      <td>BUENOS AIRES</td>\n",
       "      <td>GENERAL PUEYRREDON</td>\n",
       "      <td>1189</td>\n",
       "      <td>NO</td>\n",
       "      <td>Domingo</td>\n",
       "      <td>1</td>\n",
       "      <td>1</td>\n",
       "    </tr>\n",
       "  </tbody>\n",
       "</table>\n",
       "</div>"
      ],
      "text/plain": [
       "  DIA_TRANSPORTE                                     NOMBRE_EMPRESA  \\\n",
       "0     2023-01-01  MUNICIPALIDAD DE MERCEDES PROVINCIA DE BUENOS ...   \n",
       "1     2023-01-01  MUNICIPALIDAD DE MERCEDES PROVINCIA DE BUENOS ...   \n",
       "2     2023-01-01                                 EMPRESA BATAN S.A.   \n",
       "3     2023-01-01               COMPAÑIA  DE TRANSPORTE VECINAL S.A.   \n",
       "4     2023-01-01           EMPRESA DE TRANSPORTE PERALTA RAMOS SACI   \n",
       "\n",
       "              LINEA AMBA TIPO_TRANSPORTE JURISDICCION     PROVINCIA  \\\n",
       "0                 1   SI       COLECTIVO    MUNICIPAL  BUENOS AIRES   \n",
       "1                2B   SI       COLECTIVO    MUNICIPAL  BUENOS AIRES   \n",
       "2  BS_AS_LINEA 715M   NO       COLECTIVO    MUNICIPAL  BUENOS AIRES   \n",
       "3   BS_AS_LINEA_326   SI       COLECTIVO   PROVINCIAL  BUENOS AIRES   \n",
       "4   BS_AS_LINEA_512   NO       COLECTIVO    MUNICIPAL  BUENOS AIRES   \n",
       "\n",
       "            MUNICIPIO  CANTIDAD DATO_PRELIMINAR FECHA_DIA  FECHA_MES  \\\n",
       "0            MERCEDES        61              NO   Domingo          1   \n",
       "1            MERCEDES        11              NO   Domingo          1   \n",
       "2  GENERAL PUEYRREDON      1707              NO   Domingo          1   \n",
       "3                  SN       438              NO   Domingo          1   \n",
       "4  GENERAL PUEYRREDON      1189              NO   Domingo          1   \n",
       "\n",
       "   FECHA_ORDINAL  \n",
       "0              1  \n",
       "1              1  \n",
       "2              1  \n",
       "3              1  \n",
       "4              1  "
      ]
     },
     "execution_count": 6,
     "metadata": {},
     "output_type": "execute_result"
    }
   ],
   "source": [
    "df[\"FECHA_DIA\"] = df[\"DIA_TRANSPORTE\"].dt.day_name().apply(traducir_dia)\n",
    "df[\"FECHA_MES\"] = df[\"DIA_TRANSPORTE\"].dt.month\n",
    "df[\"FECHA_ORDINAL\"] = df[\"DIA_TRANSPORTE\"].dt.day_of_year\n",
    "df.head()"
   ]
  },
  {
   "cell_type": "markdown",
   "metadata": {
    "id": "V4PsT0ggPS7F"
   },
   "source": [
    "## Ejercicio 2\n",
    "\n",
    "Crear el DataFrame `\"datos_amba\"`, el cual solo debe tener datos de AMBA y debe excluir datos preliminares."
   ]
  },
  {
   "cell_type": "code",
   "execution_count": 7,
   "metadata": {
    "colab": {
     "base_uri": "https://localhost:8080/"
    },
    "id": "M8eHNo9rLkMC",
    "metadata": {},
    "outputId": "af508d33-c88f-4258-dab8-c9111ee0ba78"
   },
   "outputs": [
    {
     "data": {
      "text/html": [
       "<div>\n",
       "<style scoped>\n",
       "    .dataframe tbody tr th:only-of-type {\n",
       "        vertical-align: middle;\n",
       "    }\n",
       "\n",
       "    .dataframe tbody tr th {\n",
       "        vertical-align: top;\n",
       "    }\n",
       "\n",
       "    .dataframe thead th {\n",
       "        text-align: right;\n",
       "    }\n",
       "</style>\n",
       "<table border=\"1\" class=\"dataframe\">\n",
       "  <thead>\n",
       "    <tr style=\"text-align: right;\">\n",
       "      <th></th>\n",
       "      <th>fecha</th>\n",
       "      <th>fecha_dia</th>\n",
       "      <th>fecha_mes</th>\n",
       "      <th>fecha_ordinal</th>\n",
       "      <th>jurisdiccion</th>\n",
       "      <th>linea</th>\n",
       "      <th>pasajeros</th>\n",
       "      <th>tipo_transporte</th>\n",
       "    </tr>\n",
       "  </thead>\n",
       "  <tbody>\n",
       "    <tr>\n",
       "      <th>0</th>\n",
       "      <td>2023-01-01</td>\n",
       "      <td>Domingo</td>\n",
       "      <td>1</td>\n",
       "      <td>1</td>\n",
       "      <td>MUNICIPAL</td>\n",
       "      <td>1</td>\n",
       "      <td>61</td>\n",
       "      <td>COLECTIVO</td>\n",
       "    </tr>\n",
       "    <tr>\n",
       "      <th>1</th>\n",
       "      <td>2023-01-01</td>\n",
       "      <td>Domingo</td>\n",
       "      <td>1</td>\n",
       "      <td>1</td>\n",
       "      <td>MUNICIPAL</td>\n",
       "      <td>2B</td>\n",
       "      <td>11</td>\n",
       "      <td>COLECTIVO</td>\n",
       "    </tr>\n",
       "    <tr>\n",
       "      <th>2</th>\n",
       "      <td>2023-01-01</td>\n",
       "      <td>Domingo</td>\n",
       "      <td>1</td>\n",
       "      <td>1</td>\n",
       "      <td>PROVINCIAL</td>\n",
       "      <td>BS_AS_LINEA_326</td>\n",
       "      <td>438</td>\n",
       "      <td>COLECTIVO</td>\n",
       "    </tr>\n",
       "    <tr>\n",
       "      <th>3</th>\n",
       "      <td>2023-01-01</td>\n",
       "      <td>Domingo</td>\n",
       "      <td>1</td>\n",
       "      <td>1</td>\n",
       "      <td>MUNICIPAL</td>\n",
       "      <td>BS_AS_LINEA_514</td>\n",
       "      <td>3067</td>\n",
       "      <td>COLECTIVO</td>\n",
       "    </tr>\n",
       "    <tr>\n",
       "      <th>4</th>\n",
       "      <td>2023-01-01</td>\n",
       "      <td>Domingo</td>\n",
       "      <td>1</td>\n",
       "      <td>1</td>\n",
       "      <td>MUNICIPAL</td>\n",
       "      <td>BS_AS_LINEA_522</td>\n",
       "      <td>332</td>\n",
       "      <td>COLECTIVO</td>\n",
       "    </tr>\n",
       "  </tbody>\n",
       "</table>\n",
       "</div>"
      ],
      "text/plain": [
       "       fecha fecha_dia  fecha_mes  fecha_ordinal jurisdiccion  \\\n",
       "0 2023-01-01   Domingo          1              1    MUNICIPAL   \n",
       "1 2023-01-01   Domingo          1              1    MUNICIPAL   \n",
       "2 2023-01-01   Domingo          1              1   PROVINCIAL   \n",
       "3 2023-01-01   Domingo          1              1    MUNICIPAL   \n",
       "4 2023-01-01   Domingo          1              1    MUNICIPAL   \n",
       "\n",
       "             linea  pasajeros tipo_transporte  \n",
       "0                1         61       COLECTIVO  \n",
       "1               2B         11       COLECTIVO  \n",
       "2  BS_AS_LINEA_326        438       COLECTIVO  \n",
       "3  BS_AS_LINEA_514       3067       COLECTIVO  \n",
       "4  BS_AS_LINEA_522        332       COLECTIVO  "
      ]
     },
     "execution_count": 7,
     "metadata": {},
     "output_type": "execute_result"
    }
   ],
   "source": [
    "datos_amba = (\n",
    "\tdf.copy()\n",
    "\t.query(\"DATO_PRELIMINAR != 'SI' and AMBA == 'SI'\")\n",
    "\t.drop(columns=[\"DATO_PRELIMINAR\", \"AMBA\", \"PROVINCIA\", \"NOMBRE_EMPRESA\", \"MUNICIPIO\"])\n",
    "\t.reset_index(drop=True)\n",
    ")\n",
    "\n",
    "datos_amba.columns = datos_amba.columns.str.lower()\n",
    "datos_amba = datos_amba.rename(columns={\"cantidad\": \"pasajeros\", \"dia_transporte\": \"fecha\"})\n",
    "datos_amba = datos_amba.reindex(sorted(datos_amba.columns), axis=1)\n",
    "datos_amba.head()"
   ]
  },
  {
   "cell_type": "markdown",
   "metadata": {},
   "source": [
    "## Ejercicio 3"
   ]
  },
  {
   "cell_type": "markdown",
   "metadata": {},
   "source": [
    "**a)** Mostrar la proporción de la cantidad total anual de _pasajeros_ que le corresponde a cada medio de transporte"
   ]
  },
  {
   "cell_type": "code",
   "execution_count": 8,
   "metadata": {
    "metadata": {}
   },
   "outputs": [
    {
     "data": {
      "image/png": "[encoded data removed]",
      "text/plain": [
       "<Figure size 800x500 with 1 Axes>"
      ]
     },
     "metadata": {},
     "output_type": "display_data"
    }
   ],
   "source": [
    "total_pasajeros_anuales = datos_amba[\"pasajeros\"].sum()\n",
    "proporciones = datos_amba.groupby(\"tipo_transporte\")[\"pasajeros\"].sum() / total_pasajeros_anuales\n",
    "plt.figure(figsize=(8, 5))\n",
    "plt.pie(proporciones, labels=proporciones.index, autopct='%1.1f%%', startangle=140)\n",
    "plt.axis('equal')\n",
    "plt.title(\"Proporción de pasajeros anual por tipo de transporte (AMBA)\")\n",
    "plt.show()"
   ]
  },
  {
   "cell_type": "markdown",
   "metadata": {},
   "source": [
    "**b)** La tupla (_mes_, _línea de subte_) donde viajó la mayor cantidad de pasajeros"
   ]
  },
  {
   "cell_type": "code",
   "execution_count": 9,
   "metadata": {
    "metadata": {}
   },
   "outputs": [
    {
     "name": "stdout",
     "output_type": "stream",
     "text": [
      "La línea LINEA_B fue la que más pasajeros tuvo en el mes de 8\n",
      "Es decir, obtenemos la tupla (8, 'LINEA_B')\n"
     ]
    }
   ],
   "source": [
    "lineas_de_subte = datos_amba.query(\"tipo_transporte == 'SUBTE'\")\n",
    "# la siguiente linea agrupa por linea y mes, y suma la cantidad de pasajeros, luego desapila para devolver un dataframe\n",
    "lineas_de_subte_por_mes = lineas_de_subte.groupby([\"linea\", \"fecha_mes\"])[\"pasajeros\"].sum().unstack()\n",
    "mes_con_mas_pasajeros = lineas_de_subte_por_mes.max().idxmax() # Agarra el indice x (Que seria el mes) del maximo de cada columna\n",
    "linea_con_mas_pasajeros = lineas_de_subte_por_mes.idxmax()[mes_con_mas_pasajeros] # lineas_de_subte_por_mes.idxmax() devuelve el indice de la fila con el maximo de cada columna\n",
    "res = (mes_con_mas_pasajeros, linea_con_mas_pasajeros)\n",
    "print(f\"La línea {res[1]} fue la que más pasajeros tuvo en el mes de {res[0]}\")\n",
    "print(f\"Es decir, obtenemos la tupla {res}\")"
   ]
  },
  {
   "cell_type": "markdown",
   "metadata": {},
   "source": [
    "**c)** El día hábil con menor desvío estándar en cantidad de pasajeros"
   ]
  },
  {
   "cell_type": "code",
   "execution_count": 10,
   "metadata": {
    "metadata": {}
   },
   "outputs": [
    {
     "name": "stdout",
     "output_type": "stream",
     "text": [
      "El día hábil con menor desvío estándar en la cantidad de pasajeros es el día Lunes\n"
     ]
    }
   ],
   "source": [
    "dias_habiles = [\"Lunes\", \"Martes\", \"Miércoles\", \"Jueves\", \"Viernes\"]\n",
    "dias_habiles_ordinales = [1, 2, 3, 4, 5]\n",
    "datos_amba_dias_habiles = datos_amba.query(\"fecha_dia in @dias_habiles\")\n",
    "dia_min = datos_amba_dias_habiles.groupby(\"fecha_dia\")[\"pasajeros\"].std().idxmin()\n",
    "print(f\"El día hábil con menor desvío estándar en la cantidad de pasajeros es el día {dia_min}\")"
   ]
  },
  {
   "cell_type": "markdown",
   "metadata": {
    "id": "OSM4PWIdRBx0"
   },
   "source": [
    "# Parte 2: EDA"
   ]
  },
  {
   "cell_type": "markdown",
   "metadata": {},
   "source": [
    "## Variación de Estudiantes entre Abril y Julio"
   ]
  },
  {
   "cell_type": "markdown",
   "metadata": {},
   "source": [
    "Proponemos ver la variación de personas que usa colectivos (y tren) que llegan a Ciudad Universitaria en la fecha de inicio de cursada (03/04/23), y compararlas con la fecha de fin de cursada (13/07/23). La idea es analizar si el uso de colectivos que llegan a Ciudad Universitaria decrece a lo largo del cuatrimestre y rompe con la tendencia general del resto de los colectivos. Usaremos el DataFrame `datos_amba` previamente definido."
   ]
  },
  {
   "cell_type": "markdown",
   "metadata": {},
   "source": [
    "Para ésto, vamos a querer filtrar nuestro dataframe por los medios de transporte publico que pasan por Ciudad Universitaria:\n",
    "- Líneas 107, 28, 33, 42, 37, 45, 160  \n",
    "- Ferrocaril Belgrano Norte"
   ]
  },
  {
   "cell_type": "code",
   "execution_count": 11,
   "metadata": {
    "metadata": {}
   },
   "outputs": [],
   "source": [
    "lineas_universitaria = ['LINEA 107','LINEA 28','LINEA 33' ,'LINEA 42','BSAS_LINEA_037', 'BSAS_LINEA_045', 'BSAS_LINEA_160', 'FFCC_BELGRANO_NORTE'] # bondis que pasan por cdad universitaria\n",
    "mes_inicio = 4 # Abril\n",
    "mes_fin = 7 # Julio\n",
    "dia_inicio = 93  # 3 de abril\n",
    "dia_fin = 194  # 13 de julio\n",
    "semana_inicio = 0\n",
    "semana_fin = 13"
   ]
  },
  {
   "cell_type": "markdown",
   "metadata": {},
   "source": [
    "Luego, le asignamos un peso a cada línea basándonos en estos términos:\n",
    "$$\\text{peso} = \\dfrac{\\text{cantidad de ramales que pasan por ciudad universitaria}}{\\text{cantidad de ramales totales de la línea}}$$\n",
    "\n",
    "Por ejemplo, El 33 tiene 9 ramales donde sólo 4 pasan por ciudad universitaria."
   ]
  },
  {
   "cell_type": "code",
   "execution_count": 12,
   "metadata": {
    "metadata": {}
   },
   "outputs": [],
   "source": [
    "pesos = {\n",
    "    'LINEA 107': 1,\n",
    "    'LINEA 28': 5/12,\n",
    "    'LINEA 33': 4/9 ,\n",
    "    'LINEA 42': 1,\n",
    "    'BSAS_LINEA_037': 2/3,\n",
    "    'BSAS_LINEA_045': 3/4,\n",
    "    'BSAS_LINEA_160': 10/15,\n",
    "    'FFCC_BELGRANO_NORTE' : 1\n",
    "}"
   ]
  },
  {
   "cell_type": "markdown",
   "metadata": {},
   "source": [
    "Tomamos como semana habil a aquella que tiene 6 días hábiles. Ya que hay cursada el día sábado."
   ]
  },
  {
   "cell_type": "code",
   "execution_count": 13,
   "metadata": {
    "metadata": {}
   },
   "outputs": [
    {
     "data": {
      "text/plain": [
       "0.9556470278513705"
      ]
     },
     "execution_count": 13,
     "metadata": {},
     "output_type": "execute_result"
    }
   ],
   "source": [
    "# Creamos \"datos_amba_universitaria\" que contiene sólo las líneas que pasan por Ciudad Universitaria\n",
    "datos_amba_universitaria = datos_amba.query(\n",
    "    \"linea in @lineas_universitaria and fecha_dia != 'Domingo'\"\n",
    ")\n",
    "\n",
    "# Creamos otras 2 bases de datos que contengan la fecha de inicio, y la fecha de final del dataset creado anteriormente.\n",
    "datos_amba_universitaria_inicio = datos_amba_universitaria.query(\"fecha_mes == @mes_inicio\")\n",
    "datos_amba_universitaria_fin = datos_amba_universitaria.query(\"fecha_mes == @mes_fin\")\n",
    "\n",
    "# Una vez que tenemos estas 2, podemos calcular la variación entre el mes de inicio y de final.\n",
    "datos_amba_universitaria_fin[\"pasajeros\"].sum() / datos_amba_universitaria_inicio[\"pasajeros\"].sum()"
   ]
  },
  {
   "cell_type": "markdown",
   "metadata": {},
   "source": [
    "Este valor es la proporcion de pasajeros que viajaron a final de cursada respecto al inicio de cursada.\n",
    "\n",
    "Esto significa que hubo un decrecimiento del 5% en el uso de éstos colectivos."
   ]
  },
  {
   "cell_type": "markdown",
   "metadata": {},
   "source": [
    "Ahora veamos cómo quedaría con nuestros \"pesos\".\n",
    "\n",
    "Empezamos creando una funcion que nos permita modificar cada población por el peso indicado en el diccionario `\"pesos\"`."
   ]
  },
  {
   "cell_type": "code",
   "execution_count": 14,
   "metadata": {
    "metadata": {}
   },
   "outputs": [],
   "source": [
    "def suma_ponderada(data, weights):\n",
    "    res = 0\n",
    "    for linea in lineas_universitaria:\n",
    "        data_linea = data.query(\"linea == @linea\")\n",
    "        res += weights[linea] * data_linea[\"pasajeros\"].sum()\n",
    "    return res"
   ]
  },
  {
   "cell_type": "code",
   "execution_count": 15,
   "metadata": {
    "metadata": {}
   },
   "outputs": [
    {
     "data": {
      "text/plain": [
       "0.9445054250024284"
      ]
     },
     "execution_count": 15,
     "metadata": {},
     "output_type": "execute_result"
    }
   ],
   "source": [
    "# Comparamos nuestros nuevos valores de Abril y Julio\n",
    "suma_ponderada(datos_amba_universitaria_fin, pesos) / suma_ponderada(datos_amba_universitaria_inicio, pesos)"
   ]
  },
  {
   "cell_type": "markdown",
   "metadata": {},
   "source": [
    "Notamos un decrecimiento aún mayor que antes.\n",
    "\n",
    "Comparemos con el total de colectivos que **no** pasan por Ciudad Universitaria:"
   ]
  },
  {
   "cell_type": "code",
   "execution_count": 16,
   "metadata": {
    "metadata": {}
   },
   "outputs": [
    {
     "data": {
      "text/plain": [
       "0.9859513173626909"
      ]
     },
     "execution_count": 16,
     "metadata": {},
     "output_type": "execute_result"
    }
   ],
   "source": [
    "datos_amba_no_universitaria = datos_amba.query(\"linea not in @lineas_universitaria and fecha_dia != 'Domingo'\")\n",
    "datos_amba_no_universitaria_inicio = datos_amba_no_universitaria.query(\"fecha_mes == @mes_inicio\")\n",
    "datos_amba_no_universitaria_fin = datos_amba_no_universitaria.query(\"fecha_mes == @mes_fin\")\n",
    "datos_amba_no_universitaria_fin[\"pasajeros\"].sum() / datos_amba_no_universitaria_inicio[\"pasajeros\"].sum()"
   ]
  },
  {
   "cell_type": "markdown",
   "metadata": {},
   "source": [
    "Veamos de generalizarlo, para poder comparar más meses y para ver así la tendencia."
   ]
  },
  {
   "cell_type": "code",
   "execution_count": 17,
   "metadata": {},
   "outputs": [],
   "source": [
    "fechas_feriados = pd.to_datetime([ \"2023-1-1\", \"2023-2-20\", \"2023-2-21\", \"2023-3-24\", \"2023-4-2\", \"2023-4-7\", \"2023-5-1\", \"2023-5-25\", \"2023-6-20\", \"2023-7-9\", \"2023-8-21\", \"2023-10-16\", \"2023-11-20\", \"2023-12-8\", \"2023-12-25\", \"2023-6-17\", \"2023-8-17\", \"2023-10-13\", \"2023-5-26\", \"2023-6-19\", \"2023-10-13\"])\n",
    "univ_sin_feriados = datos_amba_universitaria.query(\n",
    "    \"fecha not in @fechas_feriados and fecha_ordinal >= @dia_inicio and fecha_ordinal <= (@dia_fin + 6)\"\n",
    ")\n",
    "no_univ_sin_feriados = datos_amba_no_universitaria.query(\n",
    "    \"fecha not in @fechas_feriados and fecha_ordinal >= @dia_inicio  and fecha_ordinal <= (@dia_fin + 6)\"\n",
    ")"
   ]
  },
  {
   "cell_type": "code",
   "execution_count": 18,
   "metadata": {
    "metadata": {}
   },
   "outputs": [
    {
     "data": {
      "text/plain": [
       "0     2391004\n",
       "1     2702686\n",
       "2     2621282\n",
       "3     2684486\n",
       "4     2687525\n",
       "5     2709924\n",
       "6     2596379\n",
       "7     2504492\n",
       "8     2694178\n",
       "9     2576750\n",
       "10    2584782\n",
       "11    2498365\n",
       "12    2194378\n",
       "13    2323659\n",
       "14     812808\n",
       "Name: pasajeros, dtype: int64"
      ]
     },
     "execution_count": 18,
     "metadata": {},
     "output_type": "execute_result"
    }
   ],
   "source": [
    "groups = univ_sin_feriados.groupby(\n",
    "    np.arange(len(univ_sin_feriados)) // (8 * 6)\n",
    ")  # 7 entradas x dia\n",
    "univ_semanal = groups[\"pasajeros\"].sum()\n",
    "univ_semanal"
   ]
  },
  {
   "cell_type": "code",
   "execution_count": 19,
   "metadata": {},
   "outputs": [
    {
     "data": {
      "text/plain": [
       "0    60559046\n",
       "1    68172271\n",
       "2    66647327\n",
       "3    67725005\n",
       "4    67706001\n",
       "Name: pasajeros, dtype: int64"
      ]
     },
     "execution_count": 19,
     "metadata": {},
     "output_type": "execute_result"
    }
   ],
   "source": [
    "n_lineas_no_univ = len(no_univ_sin_feriados[\"linea\"].unique())\n",
    "groups = no_univ_sin_feriados.groupby(\n",
    "    np.arange(len(no_univ_sin_feriados)) // (n_lineas_no_univ * 6)\n",
    ")  # n_lineas_no_univ entradas x dia, 6 dias habiles\n",
    "no_univ_semanal = groups[\"pasajeros\"].sum()\n",
    "no_univ_semanal.head()"
   ]
  },
  {
   "cell_type": "markdown",
   "metadata": {},
   "source": [
    "Deseamos comparar la proporcion de pasajeros por semana respecto a la primera semana de cursada."
   ]
  },
  {
   "cell_type": "code",
   "execution_count": 20,
   "metadata": {},
   "outputs": [
    {
     "data": {
      "image/png": "[encoded data removed]",
      "text/plain": [
       "<Figure size 1000x600 with 1 Axes>"
      ]
     },
     "metadata": {},
     "output_type": "display_data"
    }
   ],
   "source": [
    "p_univ_semanal = univ_semanal / univ_semanal[0]\n",
    "p_no_univ_semanal = no_univ_semanal / no_univ_semanal[0]\n",
    "\n",
    "plt.figure(figsize=(10, 6))\n",
    "plt.plot(p_univ_semanal, label=\"Universitaria\")\n",
    "plt.plot(p_no_univ_semanal, label=\"No universitaria\")\n",
    "plt.title(\"Proporción de pasajeros por semana\")\n",
    "plt.axvline(x=semana_fin, color=\"black\", linestyle=\"--\")\n",
    "plt.xticks(\n",
    "    [x for x in range(0, 15)],\n",
    "    [\"Inicio de Cuatrimestre\"] + [\"\" for _ in range(0, 13)] + [\"Fin de Cuatrimestre\"],\n",
    ")\n",
    "plt.yticks([])\n",
    "plt.ylim(0.49, 1.2)\n",
    "plt.xlim(0, 14)\n",
    "plt.legend()\n",
    "plt.show()"
   ]
  },
  {
   "cell_type": "markdown",
   "metadata": {},
   "source": [
    "Se puede ver que la tendencia general es decreciente, pero las lineas \"universitarias\" rompen tendencia decreciendo más que el resto cercano a la fecha de los segundos parciales."
   ]
  },
  {
   "cell_type": "markdown",
   "metadata": {},
   "source": [
    "Probamos graficando ahora las cantidades escaladas, para ver si se puede apreciar mejor la tendencia."
   ]
  },
  {
   "cell_type": "code",
   "execution_count": 21,
   "metadata": {},
   "outputs": [],
   "source": [
    "def minmax(s: pd.Series):\n",
    "    return (s - s.min()) / (s.max() - s.min())"
   ]
  },
  {
   "cell_type": "code",
   "execution_count": 22,
   "metadata": {},
   "outputs": [
    {
     "data": {
      "image/png": "[encoded data removed]",
      "text/plain": [
       "<Figure size 1000x600 with 1 Axes>"
      ]
     },
     "metadata": {},
     "output_type": "display_data"
    }
   ],
   "source": [
    "scaled_univ_semanal = minmax(univ_semanal)\n",
    "scaled_no_univ_semanal = minmax(no_univ_semanal)\n",
    "\n",
    "# Graficamos la cantidad de pasajeros por semana para las líneas universitarias\n",
    "plt.figure(figsize=(10, 6))\n",
    "plt.plot(scaled_univ_semanal)\n",
    "plt.plot(scaled_no_univ_semanal)\n",
    "plt.title(\"Cantidad de pasajeros por semana (escalado)\")\n",
    "plt.axvline(x=semana_fin, color=\"black\", linestyle=\"--\")\n",
    "plt.xticks(\n",
    "    [x for x in range(0, 15)],\n",
    "    [\"Inicio de Cuatrimestre\"]+ [\"\" for _ in range(0, 13)] + [\"Fin de Cuatrimestre\"],\n",
    ")\n",
    "# disable y ticks\n",
    "plt.yticks([])\n",
    "plt.ylim(0, 1.1)\n",
    "plt.xlim(0, 14)\n",
    "plt.legend([\"Universitarias\", \"No universitarias\"])\n",
    "plt.show()"
   ]
  },
  {
   "cell_type": "markdown",
   "metadata": {},
   "source": [
    "Se continua observando que el uso de los colectivos que pasan por Ciudad Universitaria decrece más que el resto llegando a final de cursada."
   ]
  },
  {
   "cell_type": "markdown",
   "metadata": {},
   "source": [
    "## Línea más usada por Estudiantes de Ciudad Universitaria"
   ]
  },
  {
   "cell_type": "markdown",
   "metadata": {},
   "source": [
    "Usando nuestra suma ponderada, buscamos la linea mas \"usada\":"
   ]
  },
  {
   "cell_type": "code",
   "execution_count": 23,
   "metadata": {},
   "outputs": [
    {
     "data": {
      "image/png": "[encoded data removed]",
      "text/plain": [
       "<Figure size 800x500 with 1 Axes>"
      ]
     },
     "metadata": {},
     "output_type": "display_data"
    }
   ],
   "source": [
    "datos_amba_universitaria_ponderados = datos_amba_universitaria.copy()\n",
    "datos_amba_universitaria_ponderados[\"peso\"] = datos_amba_universitaria_ponderados[\"linea\"].map(pesos)\n",
    "datos_amba_universitaria_ponderados[\"pasajeros_ponderados\"] = datos_amba_universitaria_ponderados[\"pasajeros\"] * datos_amba_universitaria_ponderados[\"peso\"]\n",
    "pasajeros_totales = datos_amba_universitaria_ponderados[\"pasajeros\"].sum()\n",
    "proporciones = datos_amba_universitaria_ponderados.groupby(\"linea\")[\"pasajeros\"].sum() / pasajeros_totales\n",
    "\n",
    "plt.figure(figsize=(8, 5))\n",
    "plt.pie(proporciones, labels=proporciones.index, autopct='%1.1f%%', startangle=140)\n",
    "plt.axis('equal')\n",
    "plt.title(\"Distribucion de pasajeros por linea de transporte universitaria\")\n",
    "plt.show()"
   ]
  },
  {
   "cell_type": "markdown",
   "metadata": {},
   "source": [
    "Lo cual tiene sentido, uno esperaria que el \"Belgrano Norte\"\" y el \"28\" sean los mas usados. Esperabamos mas del \"107\", pero no es sorprendente que no sea el mas usado."
   ]
  },
  {
   "cell_type": "markdown",
   "metadata": {},
   "source": [
    "## Tendencia Estudiantes en Ciudad Universitaria"
   ]
  },
  {
   "cell_type": "markdown",
   "metadata": {},
   "source": [
    "Nos gustaria estimar la cantidad de estudiantes que se tomaron cada colectivo en Ciudad Universitaria."
   ]
  },
  {
   "cell_type": "code",
   "execution_count": 24,
   "metadata": {},
   "outputs": [
    {
     "data": {
      "text/html": [
       "<div>\n",
       "<style scoped>\n",
       "    .dataframe tbody tr th:only-of-type {\n",
       "        vertical-align: middle;\n",
       "    }\n",
       "\n",
       "    .dataframe tbody tr th {\n",
       "        vertical-align: top;\n",
       "    }\n",
       "\n",
       "    .dataframe thead th {\n",
       "        text-align: right;\n",
       "    }\n",
       "</style>\n",
       "<table border=\"1\" class=\"dataframe\">\n",
       "  <thead>\n",
       "    <tr style=\"text-align: right;\">\n",
       "      <th></th>\n",
       "      <th>Año</th>\n",
       "      <th>Estudiantes Facultad</th>\n",
       "    </tr>\n",
       "  </thead>\n",
       "  <tbody>\n",
       "    <tr>\n",
       "      <th>0</th>\n",
       "      <td>2017</td>\n",
       "      <td>6381</td>\n",
       "    </tr>\n",
       "    <tr>\n",
       "      <th>1</th>\n",
       "      <td>2018</td>\n",
       "      <td>6647</td>\n",
       "    </tr>\n",
       "    <tr>\n",
       "      <th>2</th>\n",
       "      <td>2019</td>\n",
       "      <td>6764</td>\n",
       "    </tr>\n",
       "    <tr>\n",
       "      <th>3</th>\n",
       "      <td>2020</td>\n",
       "      <td>7207</td>\n",
       "    </tr>\n",
       "    <tr>\n",
       "      <th>4</th>\n",
       "      <td>2021</td>\n",
       "      <td>8029</td>\n",
       "    </tr>\n",
       "    <tr>\n",
       "      <th>5</th>\n",
       "      <td>2022</td>\n",
       "      <td>7751</td>\n",
       "    </tr>\n",
       "  </tbody>\n",
       "</table>\n",
       "</div>"
      ],
      "text/plain": [
       "    Año  Estudiantes Facultad\n",
       "0  2017                  6381\n",
       "1  2018                  6647\n",
       "2  2019                  6764\n",
       "3  2020                  7207\n",
       "4  2021                  8029\n",
       "5  2022                  7751"
      ]
     },
     "execution_count": 24,
     "metadata": {},
     "output_type": "execute_result"
    }
   ],
   "source": [
    "exactas = pd.read_csv('./datasets/Estudiantes_exactas.csv')\n",
    "exactas.head(6)"
   ]
  },
  {
   "cell_type": "code",
   "execution_count": 25,
   "metadata": {},
   "outputs": [
    {
     "data": {
      "text/html": [
       "<div>\n",
       "<style scoped>\n",
       "    .dataframe tbody tr th:only-of-type {\n",
       "        vertical-align: middle;\n",
       "    }\n",
       "\n",
       "    .dataframe tbody tr th {\n",
       "        vertical-align: top;\n",
       "    }\n",
       "\n",
       "    .dataframe thead th {\n",
       "        text-align: right;\n",
       "    }\n",
       "</style>\n",
       "<table border=\"1\" class=\"dataframe\">\n",
       "  <thead>\n",
       "    <tr style=\"text-align: right;\">\n",
       "      <th></th>\n",
       "      <th>Año</th>\n",
       "      <th>Estudiantes Facultad</th>\n",
       "    </tr>\n",
       "  </thead>\n",
       "  <tbody>\n",
       "    <tr>\n",
       "      <th>0</th>\n",
       "      <td>2017</td>\n",
       "      <td>23039</td>\n",
       "    </tr>\n",
       "    <tr>\n",
       "      <th>1</th>\n",
       "      <td>2018</td>\n",
       "      <td>22334</td>\n",
       "    </tr>\n",
       "    <tr>\n",
       "      <th>2</th>\n",
       "      <td>2019</td>\n",
       "      <td>22518</td>\n",
       "    </tr>\n",
       "    <tr>\n",
       "      <th>3</th>\n",
       "      <td>2020</td>\n",
       "      <td>22412</td>\n",
       "    </tr>\n",
       "    <tr>\n",
       "      <th>4</th>\n",
       "      <td>2021</td>\n",
       "      <td>23959</td>\n",
       "    </tr>\n",
       "    <tr>\n",
       "      <th>5</th>\n",
       "      <td>2022</td>\n",
       "      <td>22595</td>\n",
       "    </tr>\n",
       "  </tbody>\n",
       "</table>\n",
       "</div>"
      ],
      "text/plain": [
       "    Año  Estudiantes Facultad\n",
       "0  2017                 23039\n",
       "1  2018                 22334\n",
       "2  2019                 22518\n",
       "3  2020                 22412\n",
       "4  2021                 23959\n",
       "5  2022                 22595"
      ]
     },
     "execution_count": 25,
     "metadata": {},
     "output_type": "execute_result"
    }
   ],
   "source": [
    "fadu = pd.read_csv('./datasets/Estudiantes_fadu.csv')\n",
    "fadu.head(6)"
   ]
  },
  {
   "cell_type": "markdown",
   "metadata": {},
   "source": [
    "Como queremos la cantidad de Estudiantes de todo Ciudad Universitaria, agrupamos los Datasets"
   ]
  },
  {
   "cell_type": "code",
   "execution_count": 26,
   "metadata": {},
   "outputs": [
    {
     "data": {
      "text/html": [
       "<div>\n",
       "<style scoped>\n",
       "    .dataframe tbody tr th:only-of-type {\n",
       "        vertical-align: middle;\n",
       "    }\n",
       "\n",
       "    .dataframe tbody tr th {\n",
       "        vertical-align: top;\n",
       "    }\n",
       "\n",
       "    .dataframe thead th {\n",
       "        text-align: right;\n",
       "    }\n",
       "</style>\n",
       "<table border=\"1\" class=\"dataframe\">\n",
       "  <thead>\n",
       "    <tr style=\"text-align: right;\">\n",
       "      <th></th>\n",
       "      <th>Año</th>\n",
       "      <th>fadu</th>\n",
       "      <th>exactas</th>\n",
       "      <th>totales</th>\n",
       "    </tr>\n",
       "  </thead>\n",
       "  <tbody>\n",
       "    <tr>\n",
       "      <th>0</th>\n",
       "      <td>2017</td>\n",
       "      <td>23039</td>\n",
       "      <td>6381</td>\n",
       "      <td>29420</td>\n",
       "    </tr>\n",
       "    <tr>\n",
       "      <th>1</th>\n",
       "      <td>2018</td>\n",
       "      <td>22334</td>\n",
       "      <td>6647</td>\n",
       "      <td>28981</td>\n",
       "    </tr>\n",
       "    <tr>\n",
       "      <th>2</th>\n",
       "      <td>2019</td>\n",
       "      <td>22518</td>\n",
       "      <td>6764</td>\n",
       "      <td>29282</td>\n",
       "    </tr>\n",
       "    <tr>\n",
       "      <th>3</th>\n",
       "      <td>2020</td>\n",
       "      <td>22412</td>\n",
       "      <td>7207</td>\n",
       "      <td>29619</td>\n",
       "    </tr>\n",
       "    <tr>\n",
       "      <th>4</th>\n",
       "      <td>2021</td>\n",
       "      <td>23959</td>\n",
       "      <td>8029</td>\n",
       "      <td>31988</td>\n",
       "    </tr>\n",
       "    <tr>\n",
       "      <th>5</th>\n",
       "      <td>2022</td>\n",
       "      <td>22595</td>\n",
       "      <td>7751</td>\n",
       "      <td>30346</td>\n",
       "    </tr>\n",
       "  </tbody>\n",
       "</table>\n",
       "</div>"
      ],
      "text/plain": [
       "    Año   fadu  exactas  totales\n",
       "0  2017  23039     6381    29420\n",
       "1  2018  22334     6647    28981\n",
       "2  2019  22518     6764    29282\n",
       "3  2020  22412     7207    29619\n",
       "4  2021  23959     8029    31988\n",
       "5  2022  22595     7751    30346"
      ]
     },
     "execution_count": 26,
     "metadata": {},
     "output_type": "execute_result"
    }
   ],
   "source": [
    "estudiantes = fadu.copy().drop(columns=[\"Estudiantes Facultad\"])\n",
    "estudiantes[\"fadu\"] = fadu[\"Estudiantes Facultad\"]\n",
    "estudiantes[\"exactas\"] = exactas[\"Estudiantes Facultad\"]\n",
    "estudiantes[\"totales\"] = fadu[\"Estudiantes Facultad\"] + exactas[\"Estudiantes Facultad\"]\n",
    "estudiantes.head(10)"
   ]
  },
  {
   "cell_type": "markdown",
   "metadata": {},
   "source": [
    "Ploteamos estudiantes totales por año, luego separamos por facultad."
   ]
  },
  {
   "cell_type": "code",
   "execution_count": 27,
   "metadata": {
    "vscode": {
     "languageId": "ruby"
    }
   },
   "outputs": [
    {
     "data": {
      "image/png": "[encoded data removed]",
      "text/plain": [
       "<Figure size 640x480 with 1 Axes>"
      ]
     },
     "metadata": {},
     "output_type": "display_data"
    }
   ],
   "source": [
    "plt.plot(estudiantes[\"Año\"], estudiantes[\"totales\"], color='blue')\n",
    "plt.xlabel('Año')\n",
    "plt.ylabel('Estudiantes')\n",
    "plt.title('Estudiantes totales (Ciudad Universitaria)')\n",
    "plt.show()"
   ]
  },
  {
   "cell_type": "code",
   "execution_count": 28,
   "metadata": {
    "vscode": {
     "languageId": "ruby"
    }
   },
   "outputs": [
    {
     "data": {
      "image/png": "[encoded data removed]",
      "text/plain": [
       "<Figure size 640x480 with 1 Axes>"
      ]
     },
     "metadata": {},
     "output_type": "display_data"
    }
   ],
   "source": [
    "plt.plot(estudiantes[\"Año\"],exactas[\"Estudiantes Facultad\"], color='green', label=\"FCEyN\")\n",
    "plt.plot(estudiantes[\"Año\"],fadu[\"Estudiantes Facultad\"], color='purple', label=\"FADU\")\n",
    "plt.xlabel('Año')\n",
    "plt.ylabel('Estudiantes')\n",
    "plt.title('Estudiantes por facultad (Ciudad Universitaria)')\n",
    "plt.legend()\n",
    "plt.show()"
   ]
  },
  {
   "cell_type": "code",
   "execution_count": 29,
   "metadata": {},
   "outputs": [],
   "source": [
    "# Replicamos lo que hicimos con sube 2023 para sube 2022\n",
    "\n",
    "sube_2022 = pd.read_csv(\"./datasets/sube-2022.csv\")\n",
    "datos_amba_2022 = (\n",
    "    df.copy()\n",
    "    .query(\"DATO_PRELIMINAR != 'SI' and AMBA == 'SI'\")\n",
    "    .drop(\n",
    "        columns=[\"DATO_PRELIMINAR\", \"AMBA\", \"PROVINCIA\", \"NOMBRE_EMPRESA\", \"MUNICIPIO\"]\n",
    "    )\n",
    "    .reset_index(drop=True)\n",
    ")\n",
    "\n",
    "datos_amba_2022.columns = datos_amba_2022.columns.str.lower()\n",
    "datos_amba_2022 = datos_amba_2022.rename(\n",
    "    columns={\"cantidad\": \"pasajeros\", \"dia_transporte\": \"fecha\"}\n",
    ")\n",
    "datos_amba_2022 = datos_amba_2022.reindex(sorted(datos_amba_2022.columns), axis=1)\n",
    "\n",
    "datos_amba_2022[\"fecha\"] = pd.to_datetime(datos_amba_2022[\"fecha\"])\n",
    "datos_amba_2022[\"fecha_mes\"] = datos_amba_2022[\"fecha\"].dt.month\n",
    "datos_amba_2022[\"fecha_ordinal\"] = datos_amba_2022[\"fecha\"].dt.day_of_year"
   ]
  },
  {
   "cell_type": "code",
   "execution_count": 30,
   "metadata": {},
   "outputs": [
    {
     "data": {
      "image/png": "[encoded data removed]",
      "text/plain": [
       "<Figure size 800x500 with 1 Axes>"
      ]
     },
     "metadata": {},
     "output_type": "display_data"
    }
   ],
   "source": [
    "datos_amba_2022_universitaria = datos_amba_2022.query(\n",
    "\t\"linea in @lineas_universitaria and fecha_dia != 'Domingo'\"\n",
    ")\n",
    "\n",
    "datos_amba_2022_universitaria_ponderados = datos_amba_2022_universitaria.copy()\n",
    "datos_amba_2022_universitaria_ponderados[\"peso\"] = datos_amba_2022_universitaria_ponderados[\"linea\"].map(pesos)\n",
    "datos_amba_2022_universitaria_ponderados[\"pasajeros_ponderados\"] = datos_amba_2022_universitaria_ponderados[\"pasajeros\"] * datos_amba_2022_universitaria_ponderados[\"peso\"]\n",
    "pasajeros_totales_2022 = datos_amba_2022_universitaria_ponderados[\"pasajeros\"].sum()\n",
    "proporciones_2022 = datos_amba_2022_universitaria_ponderados.groupby(\"linea\")[\"pasajeros\"].sum() / pasajeros_totales_2022\n",
    "\n",
    "plt.figure(figsize=(8, 5))\n",
    "plt.pie(proporciones_2022, labels=proporciones_2022.index, autopct='%1.1f%%', startangle=140)\n",
    "plt.axis('equal')\n",
    "plt.title(\"Distribucion de pasajeros por linea de transporte universitaria 2022\")\n",
    "plt.show()"
   ]
  },
  {
   "cell_type": "code",
   "execution_count": 58,
   "metadata": {},
   "outputs": [
    {
     "name": "stdout",
     "output_type": "stream",
     "text": [
      "En 2022, Se estima que 7155 estudiantes eligieron viajar en el ferrocarril BELGRANO NORTE\n",
      "En 2022, Se estima que 2466 estudiantes eligieron viajar en la línea 107\n",
      "En 2022, Se estima que 5970 estudiantes eligieron viajar en la línea 28\n",
      "En 2022, Se estima que 2168 estudiantes eligieron viajar en la línea 42\n"
     ]
    }
   ],
   "source": [
    "estudiantes_totales_2022 = estudiantes.query(\"Año == 2022\")[\"totales\"].values[0]\n",
    "print(\n",
    "    f\"En 2022, Se estima que {np.round(estudiantes_totales_2022 * proporciones_2022['FFCC_BELGRANO_NORTE']):.0f} estudiantes eligieron viajar en el ferrocarril BELGRANO NORTE\"\n",
    ")\n",
    "print(\n",
    "    f\"En 2022, Se estima que {np.round(estudiantes_totales_2022 * proporciones_2022['LINEA 107']):.0f} estudiantes eligieron viajar en la línea 107\"\n",
    ")\n",
    "print(\n",
    "    f\"En 2022, Se estima que {np.round(estudiantes_totales_2022 * proporciones_2022['LINEA 28']):.0f} estudiantes eligieron viajar en la línea 28\"\n",
    ")\n",
    "print(\n",
    "    f\"En 2022, Se estima que {np.round(estudiantes_totales_2022 * proporciones_2022['LINEA 42']):.0f} estudiantes eligieron viajar en la línea 42\"\n",
    ")"
   ]
  },
  {
   "cell_type": "markdown",
   "metadata": {},
   "source": [
    "# Parte 3: Modelado"
   ]
  },
  {
   "cell_type": "code",
   "execution_count": 32,
   "metadata": {},
   "outputs": [
    {
     "name": "stdout",
     "output_type": "stream",
     "text": [
      "<class 'pandas.core.frame.DataFrame'>\n",
      "RangeIndex: 323326 entries, 0 to 323325\n",
      "Data columns (total 10 columns):\n",
      " #   Column           Non-Null Count   Dtype \n",
      "---  ------           --------------   ----- \n",
      " 0   DIA_TRANSPORTE   323326 non-null  object\n",
      " 1   NOMBRE_EMPRESA   323326 non-null  object\n",
      " 2   LINEA            323326 non-null  object\n",
      " 3   AMBA             323326 non-null  object\n",
      " 4   TIPO_TRANSPORTE  323326 non-null  object\n",
      " 5   JURISDICCION     321581 non-null  object\n",
      " 6   PROVINCIA        321566 non-null  object\n",
      " 7   MUNICIPIO        321566 non-null  object\n",
      " 8   CANTIDAD         323326 non-null  int64 \n",
      " 9   DATO_PRELIMINAR  323326 non-null  object\n",
      "dtypes: int64(1), object(9)\n",
      "memory usage: 24.7+ MB\n"
     ]
    }
   ],
   "source": [
    "df = pd.read_csv('./datasets/sube-2023-regresion.csv')\n",
    "df.info()"
   ]
  },
  {
   "cell_type": "markdown",
   "metadata": {},
   "source": [
    "**a)**"
   ]
  },
  {
   "cell_type": "code",
   "execution_count": 33,
   "metadata": {},
   "outputs": [
    {
     "data": {
      "text/html": [
       "<div>\n",
       "<style scoped>\n",
       "    .dataframe tbody tr th:only-of-type {\n",
       "        vertical-align: middle;\n",
       "    }\n",
       "\n",
       "    .dataframe tbody tr th {\n",
       "        vertical-align: top;\n",
       "    }\n",
       "\n",
       "    .dataframe thead th {\n",
       "        text-align: right;\n",
       "    }\n",
       "</style>\n",
       "<table border=\"1\" class=\"dataframe\">\n",
       "  <thead>\n",
       "    <tr style=\"text-align: right;\">\n",
       "      <th></th>\n",
       "      <th>BS_ASLINEA_123</th>\n",
       "      <th>BSAS_LINEA_002</th>\n",
       "      <th>BSAS_LINEA_009</th>\n",
       "      <th>BSAS_LINEA_010</th>\n",
       "      <th>BSAS_LINEA_015</th>\n",
       "      <th>BSAS_LINEA_017</th>\n",
       "      <th>BSAS_LINEA_019</th>\n",
       "      <th>BSAS_LINEA_020</th>\n",
       "      <th>BSAS_LINEA_021</th>\n",
       "      <th>BSAS_LINEA_022</th>\n",
       "      <th>...</th>\n",
       "      <th>LINEA 5</th>\n",
       "      <th>LINEA 50</th>\n",
       "      <th>LINEA 6</th>\n",
       "      <th>LINEA 7</th>\n",
       "      <th>LINEA 76</th>\n",
       "      <th>LINEA 8</th>\n",
       "      <th>LINEA_099</th>\n",
       "      <th>LINEA_119_AMBA</th>\n",
       "      <th>LINEA_164_AMBA</th>\n",
       "      <th>LINEA 119</th>\n",
       "    </tr>\n",
       "  </thead>\n",
       "  <tbody>\n",
       "    <tr>\n",
       "      <th>1</th>\n",
       "      <td>1681</td>\n",
       "      <td>5670</td>\n",
       "      <td>5644</td>\n",
       "      <td>5177</td>\n",
       "      <td>9109</td>\n",
       "      <td>7013</td>\n",
       "      <td>1604</td>\n",
       "      <td>2617</td>\n",
       "      <td>11235</td>\n",
       "      <td>2202</td>\n",
       "      <td>...</td>\n",
       "      <td>4832.0</td>\n",
       "      <td>4839</td>\n",
       "      <td>2449</td>\n",
       "      <td>2184</td>\n",
       "      <td>3797</td>\n",
       "      <td>5317</td>\n",
       "      <td>1882</td>\n",
       "      <td>1573.0</td>\n",
       "      <td>3210</td>\n",
       "      <td>NaN</td>\n",
       "    </tr>\n",
       "    <tr>\n",
       "      <th>2</th>\n",
       "      <td>9440</td>\n",
       "      <td>21759</td>\n",
       "      <td>23284</td>\n",
       "      <td>21176</td>\n",
       "      <td>45269</td>\n",
       "      <td>29962</td>\n",
       "      <td>13921</td>\n",
       "      <td>11934</td>\n",
       "      <td>55611</td>\n",
       "      <td>13823</td>\n",
       "      <td>...</td>\n",
       "      <td>20333.0</td>\n",
       "      <td>16221</td>\n",
       "      <td>10486</td>\n",
       "      <td>12774</td>\n",
       "      <td>17374</td>\n",
       "      <td>23250</td>\n",
       "      <td>10322</td>\n",
       "      <td>7345.0</td>\n",
       "      <td>19362</td>\n",
       "      <td>NaN</td>\n",
       "    </tr>\n",
       "    <tr>\n",
       "      <th>4</th>\n",
       "      <td>10540</td>\n",
       "      <td>24755</td>\n",
       "      <td>25405</td>\n",
       "      <td>23806</td>\n",
       "      <td>52873</td>\n",
       "      <td>33659</td>\n",
       "      <td>16172</td>\n",
       "      <td>13366</td>\n",
       "      <td>61721</td>\n",
       "      <td>16206</td>\n",
       "      <td>...</td>\n",
       "      <td>23041.0</td>\n",
       "      <td>18448</td>\n",
       "      <td>12193</td>\n",
       "      <td>13949</td>\n",
       "      <td>19860</td>\n",
       "      <td>26294</td>\n",
       "      <td>11981</td>\n",
       "      <td>7925.0</td>\n",
       "      <td>21784</td>\n",
       "      <td>NaN</td>\n",
       "    </tr>\n",
       "    <tr>\n",
       "      <th>5</th>\n",
       "      <td>10408</td>\n",
       "      <td>25772</td>\n",
       "      <td>26489</td>\n",
       "      <td>24688</td>\n",
       "      <td>53436</td>\n",
       "      <td>35182</td>\n",
       "      <td>16569</td>\n",
       "      <td>12929</td>\n",
       "      <td>62510</td>\n",
       "      <td>16863</td>\n",
       "      <td>...</td>\n",
       "      <td>23928.0</td>\n",
       "      <td>18481</td>\n",
       "      <td>12888</td>\n",
       "      <td>14668</td>\n",
       "      <td>21235</td>\n",
       "      <td>27216</td>\n",
       "      <td>11787</td>\n",
       "      <td>7597.0</td>\n",
       "      <td>22972</td>\n",
       "      <td>NaN</td>\n",
       "    </tr>\n",
       "    <tr>\n",
       "      <th>6</th>\n",
       "      <td>10530</td>\n",
       "      <td>26021</td>\n",
       "      <td>26458</td>\n",
       "      <td>24167</td>\n",
       "      <td>53163</td>\n",
       "      <td>35212</td>\n",
       "      <td>16459</td>\n",
       "      <td>12955</td>\n",
       "      <td>63528</td>\n",
       "      <td>16846</td>\n",
       "      <td>...</td>\n",
       "      <td>24247.0</td>\n",
       "      <td>19300</td>\n",
       "      <td>12703</td>\n",
       "      <td>14199</td>\n",
       "      <td>23472</td>\n",
       "      <td>27073</td>\n",
       "      <td>11567</td>\n",
       "      <td>7811.0</td>\n",
       "      <td>23411</td>\n",
       "      <td>NaN</td>\n",
       "    </tr>\n",
       "  </tbody>\n",
       "</table>\n",
       "<p>5 rows × 136 columns</p>\n",
       "</div>"
      ],
      "text/plain": [
       "   BS_ASLINEA_123  BSAS_LINEA_002  BSAS_LINEA_009  BSAS_LINEA_010  \\\n",
       "1            1681            5670            5644            5177   \n",
       "2            9440           21759           23284           21176   \n",
       "4           10540           24755           25405           23806   \n",
       "5           10408           25772           26489           24688   \n",
       "6           10530           26021           26458           24167   \n",
       "\n",
       "   BSAS_LINEA_015  BSAS_LINEA_017  BSAS_LINEA_019  BSAS_LINEA_020  \\\n",
       "1            9109            7013            1604            2617   \n",
       "2           45269           29962           13921           11934   \n",
       "4           52873           33659           16172           13366   \n",
       "5           53436           35182           16569           12929   \n",
       "6           53163           35212           16459           12955   \n",
       "\n",
       "   BSAS_LINEA_021  BSAS_LINEA_022  ...  LINEA 5  LINEA 50  LINEA 6  LINEA 7  \\\n",
       "1           11235            2202  ...   4832.0      4839     2449     2184   \n",
       "2           55611           13823  ...  20333.0     16221    10486    12774   \n",
       "4           61721           16206  ...  23041.0     18448    12193    13949   \n",
       "5           62510           16863  ...  23928.0     18481    12888    14668   \n",
       "6           63528           16846  ...  24247.0     19300    12703    14199   \n",
       "\n",
       "   LINEA 76  LINEA 8  LINEA_099  LINEA_119_AMBA  LINEA_164_AMBA  LINEA 119  \n",
       "1      3797     5317       1882          1573.0            3210        NaN  \n",
       "2     17374    23250      10322          7345.0           19362        NaN  \n",
       "4     19860    26294      11981          7925.0           21784        NaN  \n",
       "5     21235    27216      11787          7597.0           22972        NaN  \n",
       "6     23472    27073      11567          7811.0           23411        NaN  \n",
       "\n",
       "[5 rows x 136 columns]"
      ]
     },
     "execution_count": 33,
     "metadata": {},
     "output_type": "execute_result"
    }
   ],
   "source": [
    "df = df.query(\n",
    "    \"TIPO_TRANSPORTE == 'COLECTIVO' and PROVINCIA == 'JN' and DATO_PRELIMINAR == 'NO' and AMBA == 'SI'\"\n",
    ")\n",
    "df[\"DIA_TRANSPORTE\"] = pd.to_datetime(df[\"DIA_TRANSPORTE\"])\n",
    "df[\"DIA_ORDINAL\"] = df[\"DIA_TRANSPORTE\"].dt.dayofyear\n",
    "\n",
    "colectivos = df[\"LINEA\"].unique()\n",
    "pasajeros_por_linea = pd.DataFrame(index=df[\"DIA_ORDINAL\"].unique(), columns=colectivos)\n",
    "\n",
    "for linea in colectivos:\n",
    "\tpasajeros_por_linea[linea] = df.query(\"LINEA == @linea\").groupby(\"DIA_ORDINAL\")[\"CANTIDAD\"].sum()\n",
    "\n",
    "pasajeros_por_linea.head()"
   ]
  },
  {
   "cell_type": "markdown",
   "metadata": {},
   "source": [
    "**b)**"
   ]
  },
  {
   "cell_type": "code",
   "execution_count": 34,
   "metadata": {},
   "outputs": [
    {
     "data": {
      "text/html": [
       "<div>\n",
       "<style scoped>\n",
       "    .dataframe tbody tr th:only-of-type {\n",
       "        vertical-align: middle;\n",
       "    }\n",
       "\n",
       "    .dataframe tbody tr th {\n",
       "        vertical-align: top;\n",
       "    }\n",
       "\n",
       "    .dataframe thead th {\n",
       "        text-align: right;\n",
       "    }\n",
       "</style>\n",
       "<table border=\"1\" class=\"dataframe\">\n",
       "  <thead>\n",
       "    <tr style=\"text-align: right;\">\n",
       "      <th></th>\n",
       "      <th>BS_ASLINEA_123</th>\n",
       "      <th>BSAS_LINEA_002</th>\n",
       "      <th>BSAS_LINEA_009</th>\n",
       "      <th>BSAS_LINEA_010</th>\n",
       "      <th>BSAS_LINEA_015</th>\n",
       "      <th>BSAS_LINEA_017</th>\n",
       "      <th>BSAS_LINEA_019</th>\n",
       "      <th>BSAS_LINEA_020</th>\n",
       "      <th>BSAS_LINEA_021</th>\n",
       "      <th>BSAS_LINEA_022</th>\n",
       "      <th>...</th>\n",
       "      <th>LINEA_4</th>\n",
       "      <th>LINEA_42</th>\n",
       "      <th>LINEA_44</th>\n",
       "      <th>LINEA_50</th>\n",
       "      <th>LINEA_6</th>\n",
       "      <th>LINEA_7</th>\n",
       "      <th>LINEA_76</th>\n",
       "      <th>LINEA_8</th>\n",
       "      <th>LINEA_099</th>\n",
       "      <th>LINEA_164_AMBA</th>\n",
       "    </tr>\n",
       "  </thead>\n",
       "  <tbody>\n",
       "    <tr>\n",
       "      <th>1</th>\n",
       "      <td>1681</td>\n",
       "      <td>5670</td>\n",
       "      <td>5644</td>\n",
       "      <td>5177</td>\n",
       "      <td>9109</td>\n",
       "      <td>7013</td>\n",
       "      <td>1604</td>\n",
       "      <td>2617</td>\n",
       "      <td>11235</td>\n",
       "      <td>2202</td>\n",
       "      <td>...</td>\n",
       "      <td>2942</td>\n",
       "      <td>4029</td>\n",
       "      <td>4649</td>\n",
       "      <td>4839</td>\n",
       "      <td>2449</td>\n",
       "      <td>2184</td>\n",
       "      <td>3797</td>\n",
       "      <td>5317</td>\n",
       "      <td>1882</td>\n",
       "      <td>3210</td>\n",
       "    </tr>\n",
       "    <tr>\n",
       "      <th>2</th>\n",
       "      <td>9440</td>\n",
       "      <td>21759</td>\n",
       "      <td>23284</td>\n",
       "      <td>21176</td>\n",
       "      <td>45269</td>\n",
       "      <td>29962</td>\n",
       "      <td>13921</td>\n",
       "      <td>11934</td>\n",
       "      <td>55611</td>\n",
       "      <td>13823</td>\n",
       "      <td>...</td>\n",
       "      <td>15329</td>\n",
       "      <td>19072</td>\n",
       "      <td>20387</td>\n",
       "      <td>16221</td>\n",
       "      <td>10486</td>\n",
       "      <td>12774</td>\n",
       "      <td>17374</td>\n",
       "      <td>23250</td>\n",
       "      <td>10322</td>\n",
       "      <td>19362</td>\n",
       "    </tr>\n",
       "    <tr>\n",
       "      <th>4</th>\n",
       "      <td>10540</td>\n",
       "      <td>24755</td>\n",
       "      <td>25405</td>\n",
       "      <td>23806</td>\n",
       "      <td>52873</td>\n",
       "      <td>33659</td>\n",
       "      <td>16172</td>\n",
       "      <td>13366</td>\n",
       "      <td>61721</td>\n",
       "      <td>16206</td>\n",
       "      <td>...</td>\n",
       "      <td>17836</td>\n",
       "      <td>21609</td>\n",
       "      <td>23595</td>\n",
       "      <td>18448</td>\n",
       "      <td>12193</td>\n",
       "      <td>13949</td>\n",
       "      <td>19860</td>\n",
       "      <td>26294</td>\n",
       "      <td>11981</td>\n",
       "      <td>21784</td>\n",
       "    </tr>\n",
       "    <tr>\n",
       "      <th>5</th>\n",
       "      <td>10408</td>\n",
       "      <td>25772</td>\n",
       "      <td>26489</td>\n",
       "      <td>24688</td>\n",
       "      <td>53436</td>\n",
       "      <td>35182</td>\n",
       "      <td>16569</td>\n",
       "      <td>12929</td>\n",
       "      <td>62510</td>\n",
       "      <td>16863</td>\n",
       "      <td>...</td>\n",
       "      <td>18044</td>\n",
       "      <td>21993</td>\n",
       "      <td>23687</td>\n",
       "      <td>18481</td>\n",
       "      <td>12888</td>\n",
       "      <td>14668</td>\n",
       "      <td>21235</td>\n",
       "      <td>27216</td>\n",
       "      <td>11787</td>\n",
       "      <td>22972</td>\n",
       "    </tr>\n",
       "    <tr>\n",
       "      <th>6</th>\n",
       "      <td>10530</td>\n",
       "      <td>26021</td>\n",
       "      <td>26458</td>\n",
       "      <td>24167</td>\n",
       "      <td>53163</td>\n",
       "      <td>35212</td>\n",
       "      <td>16459</td>\n",
       "      <td>12955</td>\n",
       "      <td>63528</td>\n",
       "      <td>16846</td>\n",
       "      <td>...</td>\n",
       "      <td>18122</td>\n",
       "      <td>22421</td>\n",
       "      <td>23731</td>\n",
       "      <td>19300</td>\n",
       "      <td>12703</td>\n",
       "      <td>14199</td>\n",
       "      <td>23472</td>\n",
       "      <td>27073</td>\n",
       "      <td>11567</td>\n",
       "      <td>23411</td>\n",
       "    </tr>\n",
       "  </tbody>\n",
       "</table>\n",
       "<p>5 rows × 124 columns</p>\n",
       "</div>"
      ],
      "text/plain": [
       "   BS_ASLINEA_123  BSAS_LINEA_002  BSAS_LINEA_009  BSAS_LINEA_010  \\\n",
       "1            1681            5670            5644            5177   \n",
       "2            9440           21759           23284           21176   \n",
       "4           10540           24755           25405           23806   \n",
       "5           10408           25772           26489           24688   \n",
       "6           10530           26021           26458           24167   \n",
       "\n",
       "   BSAS_LINEA_015  BSAS_LINEA_017  BSAS_LINEA_019  BSAS_LINEA_020  \\\n",
       "1            9109            7013            1604            2617   \n",
       "2           45269           29962           13921           11934   \n",
       "4           52873           33659           16172           13366   \n",
       "5           53436           35182           16569           12929   \n",
       "6           53163           35212           16459           12955   \n",
       "\n",
       "   BSAS_LINEA_021  BSAS_LINEA_022  ...  LINEA_4  LINEA_42  LINEA_44  LINEA_50  \\\n",
       "1           11235            2202  ...     2942      4029      4649      4839   \n",
       "2           55611           13823  ...    15329     19072     20387     16221   \n",
       "4           61721           16206  ...    17836     21609     23595     18448   \n",
       "5           62510           16863  ...    18044     21993     23687     18481   \n",
       "6           63528           16846  ...    18122     22421     23731     19300   \n",
       "\n",
       "   LINEA_6  LINEA_7  LINEA_76  LINEA_8  LINEA_099  LINEA_164_AMBA  \n",
       "1     2449     2184      3797     5317       1882            3210  \n",
       "2    10486    12774     17374    23250      10322           19362  \n",
       "4    12193    13949     19860    26294      11981           21784  \n",
       "5    12888    14668     21235    27216      11787           22972  \n",
       "6    12703    14199     23472    27073      11567           23411  \n",
       "\n",
       "[5 rows x 124 columns]"
      ]
     },
     "execution_count": 34,
     "metadata": {},
     "output_type": "execute_result"
    }
   ],
   "source": [
    "pasajeros_por_linea_clean = pasajeros_por_linea.dropna(axis=1)\n",
    "pasajeros_por_linea_clean.columns = list(\n",
    "    map(lambda c: c.replace(\" \", \"_\"), pasajeros_por_linea_clean.columns)\n",
    ")\n",
    "pasajeros_por_linea_clean.head()"
   ]
  },
  {
   "cell_type": "markdown",
   "metadata": {},
   "source": [
    "**Desarrollo y Evaluación de Modelos**\n",
    "\n",
    "\n",
    "Usaremos K-fold Cross-Validation para evaluar los distintos modelos."
   ]
  },
  {
   "cell_type": "code",
   "execution_count": 35,
   "metadata": {},
   "outputs": [
    {
     "name": "stdout",
     "output_type": "stream",
     "text": [
      "Hay, en promedio, 26755.688 pasajeros por dia de la linea BSAS_LINEA_009\n"
     ]
    }
   ],
   "source": [
    "print(f\"Hay, en promedio, {pasajeros_por_linea_clean['BSAS_LINEA_009'].mean()} pasajeros por dia de la linea BSAS_LINEA_009\")"
   ]
  },
  {
   "cell_type": "code",
   "execution_count": 36,
   "metadata": {},
   "outputs": [],
   "source": [
    "test_size = 0.2\n",
    "random_state = 23\n",
    "\n",
    "df_lineas_clean_train, df_lineas_clean_test = train_test_split(\n",
    "    pasajeros_por_linea_clean, test_size=test_size, random_state=random_state\n",
    ")"
   ]
  },
  {
   "cell_type": "code",
   "execution_count": 37,
   "metadata": {},
   "outputs": [],
   "source": [
    "cv = KFold(n_splits=5, random_state=42, shuffle=True)\n",
    "\n",
    "lr = linear_model.LinearRegression(fit_intercept=True)"
   ]
  },
  {
   "cell_type": "markdown",
   "metadata": {},
   "source": [
    "**Modelo 1:**\n",
    "\n",
    "Buscamos los 5 colectivos con mayor correlacion con la cantidad de pasajeros de la linea 9.\n",
    "No usamos Ridge ya que es evidente que las variables son LI."
   ]
  },
  {
   "cell_type": "code",
   "execution_count": 38,
   "metadata": {},
   "outputs": [
    {
     "data": {
      "text/plain": [
       "LINEA_101         0.976802\n",
       "BSAS_LINEA_146    0.975382\n",
       "LINEA_7           0.974210\n",
       "BSAS_LINEA_024    0.973111\n",
       "LINEA_107         0.972397\n",
       "Name: BSAS_LINEA_009, dtype: float64"
      ]
     },
     "execution_count": 38,
     "metadata": {},
     "output_type": "execute_result"
    }
   ],
   "source": [
    "lineas_mejor_corr = pasajeros_por_linea_clean.corr()[\"BSAS_LINEA_009\"].sort_values(ascending=False).head(6).tail(5)\n",
    "lineas_mejor_corr"
   ]
  },
  {
   "cell_type": "code",
   "execution_count": 39,
   "metadata": {},
   "outputs": [],
   "source": [
    "f1 = \"BSAS_LINEA_009 ~ \" + \" + \".join(lineas_mejor_corr.index)\n",
    "\n",
    "y1, X1 = model_matrix(Formula(f1), df_lineas_clean_train)"
   ]
  },
  {
   "cell_type": "code",
   "execution_count": 40,
   "metadata": {},
   "outputs": [
    {
     "name": "stdout",
     "output_type": "stream",
     "text": [
      "RMSE promedio: 1796.1528360559073\n"
     ]
    }
   ],
   "source": [
    "rmse1 = np.zeros(cv.get_n_splits())  # Vamos a guardar el error en cada pliego\n",
    "\n",
    "i = 0\n",
    "\n",
    "for train_index, val_index in cv.split(df_lineas_clean_train):\n",
    "\tX_train, X_val, y_train, y_val = (\n",
    "\t\tX1.iloc[train_index],\n",
    "\t\tX1.iloc[val_index],\n",
    "\t\ty1.iloc[train_index],\n",
    "\t\ty1.iloc[val_index],\n",
    "\t)\n",
    "\tlr.fit(X_train, y_train)\n",
    "\n",
    "\ty_pred = lr.predict(X_val)\n",
    "\trmse1[i] = np.sqrt(mean_squared_error(y_val, y_pred))\n",
    "\ti = i + 1\n",
    "\n",
    "print(f\"RMSE promedio: {rmse1.mean()}\")"
   ]
  },
  {
   "cell_type": "markdown",
   "metadata": {},
   "source": [
    "**Modelo 2:**\n",
    "\n",
    "Usando como referencia esta [pagina](https://www.omnilineas.com.ar/buenos-aires/colectivos/bd.0000000005-drg-bhj-4jf-fyy-4tc-f9p), sabemos que el 28,20,75 y 45 estan \"relacionados\" por trayecto con el 9. Agregamos el 150 ya que sabemos que tambien pasa cerca [(fuente)](https://www.omnilineas.com.ar/buenos-aires/colectivos/bc.jyr1upgddj-4i9-fx3-9en-dnk-91c-dhm)."
   ]
  },
  {
   "cell_type": "code",
   "execution_count": 41,
   "metadata": {},
   "outputs": [
    {
     "name": "stdout",
     "output_type": "stream",
     "text": [
      "RMSE promedio: 2170.8664863503027\n"
     ]
    }
   ],
   "source": [
    "f2 = \"BSAS_LINEA_009 ~ BSAS_LINEA_020 + BSAS_LINEA_045 + BSAS_LINEA_075 + BSAS_LINEA_128 + BSAS_LINEA_150 + LINEA_28\"\n",
    "\n",
    "y2, X2 = model_matrix(Formula(f2), df_lineas_clean_train)\n",
    "\n",
    "rmse2 = np.zeros(cv.get_n_splits())  # Vamos a guardar el error en cada pliego\n",
    "\n",
    "i = 0\n",
    "\n",
    "for train_index, val_index in cv.split(df_lineas_clean_train):\n",
    "\tX_train, X_val, y_train, y_val = (\n",
    "\t\tX2.iloc[train_index],\n",
    "\t\tX2.iloc[val_index],\n",
    "\t\ty2.iloc[train_index],\n",
    "\t\ty2.iloc[val_index],\n",
    "\t)\n",
    "\tlr.fit(X_train, y_train)\n",
    "\n",
    "\ty_pred = lr.predict(X_val)\n",
    "\trmse2[i] = np.sqrt(mean_squared_error(y_val, y_pred))\n",
    "\ti = i + 1\n",
    "\n",
    "print(f\"RMSE promedio: {rmse2.mean()}\")"
   ]
  },
  {
   "cell_type": "markdown",
   "metadata": {},
   "source": [
    "**Modelo 3:**\n",
    "\n",
    "Revisando las lineas usadas en el modelo 1, vemos que algunas no tienen sentido (24 y 107), no se relacionan por trayecto. Nos quedamos con las mas representativas, que serian el 101 porque pasa por Villa Soldati y Retiro; el 146 porque para en Retiro; El 7 porque pasa cerca de Retiro. Por ultimo elegimos el 23 y el 75 por similitud de recorrido.\n",
    "\n",
    "Luego, probamos con Ridge y GridSearch interaccionando todos con todos."
   ]
  },
  {
   "cell_type": "code",
   "execution_count": 54,
   "metadata": {},
   "outputs": [],
   "source": [
    "f3 = \"BSAS_LINEA_009 ~ (LINEA_101 + BSAS_LINEA_146 + LINEA_7 + LINEA_23 + BSAS_LINEA_075) * (LINEA_101 + BSAS_LINEA_146 + LINEA_7 + LINEA_23 + BSAS_LINEA_075)\"\n",
    "\n",
    "alphas = np.array([0.1, 0.2, 0.3, 0.4, 0.5, 0.6, 0.7, 1, 2, 3])\n",
    "\n",
    "y3, X3 = model_matrix(Formula(f3), df_lineas_clean_train)"
   ]
  },
  {
   "cell_type": "code",
   "execution_count": 43,
   "metadata": {},
   "outputs": [
    {
     "name": "stdout",
     "output_type": "stream",
     "text": [
      "Mejor alpha: 10000.0\n",
      "Mejor RMSE: 1982.2020063630466\n"
     ]
    }
   ],
   "source": [
    "alfas = np.logspace(-4, 4, 41)\n",
    "param_grid = {\"alpha\": alfas}\n",
    "mas_alfas = np.unique(np.concatenate([alfas, np.logspace(-4, 4, 41)]))\n",
    "param_grid = {\"alpha\": mas_alfas}\n",
    "\n",
    "gs = None\n",
    "\n",
    "with warnings.catch_warnings():\n",
    "    warnings.simplefilter(\"ignore\")\n",
    "    gs = GridSearchCV(\n",
    "        Ridge(),\n",
    "        param_grid,\n",
    "        cv=5,\n",
    "        scoring=\"neg_root_mean_squared_error\",\n",
    "        return_train_score=True,\n",
    "    )\n",
    "    gs.fit(X3,y3)\n",
    "\n",
    "print(f\"Mejor alpha: {gs.best_params_['alpha']}\")\n",
    "print(f\"Mejor RMSE: {-gs.best_score_}\")"
   ]
  },
  {
   "cell_type": "markdown",
   "metadata": {},
   "source": [
    "**Modelo 4:**\n",
    "\n",
    "\n",
    "Mismas lineas que el modelo 3, pero no tomamos en cuenta las interacciones"
   ]
  },
  {
   "cell_type": "code",
   "execution_count": 44,
   "metadata": {},
   "outputs": [
    {
     "name": "stdout",
     "output_type": "stream",
     "text": [
      "RMSE promedio: 1796.313501238832\n"
     ]
    }
   ],
   "source": [
    "f4 = \"BSAS_LINEA_009 ~ LINEA_101 + BSAS_LINEA_146 + LINEA_7 + LINEA_23 + BSAS_LINEA_075\"\n",
    "\n",
    "y4, X4 = model_matrix(Formula(f4), df_lineas_clean_train)\n",
    "\n",
    "lr.fit(X4, y4)\n",
    "\n",
    "rmse4 = np.zeros(cv.get_n_splits())  # Vamos a guardar el error en cada pliego\n",
    "\n",
    "i = 0\n",
    "\n",
    "for train_index, val_index in cv.split(df_lineas_clean_train):\n",
    "    X_train, X_val, y_train, y_val = (\n",
    "        X4.iloc[train_index],\n",
    "        X4.iloc[val_index],\n",
    "        y4.iloc[train_index],\n",
    "        y4.iloc[val_index],\n",
    "    )\n",
    "    lr.fit(X_train, y_train)\n",
    "\n",
    "    y_pred = lr.predict(X_val)\n",
    "    rmse4[i] = np.sqrt(mean_squared_error(y_val, y_pred))\n",
    "    i = i + 1\n",
    "\n",
    "print(f\"RMSE promedio: {rmse4.mean()}\")"
   ]
  },
  {
   "cell_type": "markdown",
   "metadata": {},
   "source": [
    "Comparamos entre el modelo 1 y el modelo 4."
   ]
  },
  {
   "cell_type": "code",
   "execution_count": 51,
   "metadata": {},
   "outputs": [
    {
     "name": "stdout",
     "output_type": "stream",
     "text": [
      "RMSE1 promedio: 1796.1528360559073\n",
      "--------------------------------------\n",
      "RMSE4 promedio: 1796.313501238832\n"
     ]
    }
   ],
   "source": [
    "print(f\"RMSE1 promedio: {rmse1.mean()}\")\n",
    "print(\"--------------------------------------\")\n",
    "print(f\"RMSE4 promedio: {rmse4.mean()}\")"
   ]
  },
  {
   "cell_type": "markdown",
   "metadata": {},
   "source": [
    "Como el primer y cuarto modelo performan similarmente (Tienen $RMSE$  que difieren en el orden de $10^{-1}$), decidimos quedarnos con el cuarto modelo ya que las lineas elegidas para este tienen mas sentido pues son similares en trayecto con la linea 9."
   ]
  },
  {
   "cell_type": "code",
   "execution_count": 55,
   "metadata": {},
   "outputs": [
    {
     "name": "stdout",
     "output_type": "stream",
     "text": [
      "R2: 1.0\n",
      "sqrt(ecm): 2342.07648245939\n"
     ]
    }
   ],
   "source": [
    "y_test, X_test = (\n",
    "    Formula(f4)\n",
    "    .get_model_matrix(df_lineas_clean_test)\n",
    ")\n",
    "\n",
    "lr.fit(X_test, y_test)\n",
    "\n",
    "# Predicciones\n",
    "y_pred = lr.predict(X_test)\n",
    "\n",
    "r2 = lr.score(X_test, y_pred)\n",
    "print(\"R2:\", r2)\n",
    "ecm = mean_squared_error(y_test, y_pred)\n",
    "print(\"sqrt(ecm):\", np.sqrt(ecm))"
   ]
  },
  {
   "cell_type": "markdown",
   "metadata": {},
   "source": [
    "**Conclusión**\n",
    "\n",
    "Entonces, la formula del Modelo 4 es:\n",
    "\n",
    "$$BSAS\\_LINEA\\_009 = \\beta_{0} + \\beta_{1}LINEA\\_101 + \\beta_{2}BSAS\\_LINEA\\_146 + \\beta_{3}LINEA\\_7 + \\beta_{4}LINEA\\_23 + \\beta_{5}BSAS\\_LINEA\\_075$$\n",
    "En notacion de Wilkinson-Rogers:\n",
    "$$BSAS\\_LINEA\\_009 \\sim LINEA\\_101 + BSAS\\_LINEA\\_146 + LINEA\\_7 + LINEA\\_23 + BSAS\\_LINEA\\_075$$\n",
    "\n",
    "\n",
    "---"
   ]
  },
  {
   "cell_type": "markdown",
   "metadata": {},
   "source": []
  }
 ],
 "metadata": {
  "colab": {
   "provenance": [],
   "toc_visible": true
  },
  "kernelspec": {
   "display_name": "Python 3 (ipykernel)",
   "language": "python",
   "name": "python3"
  },
  "language_info": {
   "codemirror_mode": {
    "name": "ipython",
    "version": 3
   },
   "file_extension": ".py",
   "mimetype": "text/x-python",
   "name": "python",
   "nbconvert_exporter": "python",
   "pygments_lexer": "ipython3",
   "version": "3.10.4"
  }
 },
 "nbformat": 4,
 "nbformat_minor": 4
}
