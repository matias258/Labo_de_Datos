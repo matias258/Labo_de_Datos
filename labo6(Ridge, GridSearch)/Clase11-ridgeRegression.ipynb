{
 "cells": [
  {
   "cell_type": "code",
   "execution_count": 2,
   "id": "ab0d4b23-8a44-46ac-ba0c-10d33955c1d9",
   "metadata": {},
   "outputs": [],
   "source": [
    "import scipy\n",
    "import numpy as np\n",
    "import pandas as pd\n",
    "import seaborn as sns\n",
    "import seaborn.objects as so\n",
    "\n",
    "from sklearn import linear_model    # Herramientas de modelos lineales\n",
    "from sklearn.metrics import mean_squared_error, r2_score    # Medidas de desempeño\n",
    "from sklearn.preprocessing import PolynomialFeatures    # Herramientas de polinomios\n",
    "\n",
    "from sklearn.model_selection import train_test_split, KFold, cross_val_score\n",
    "from sklearn.datasets import make_regression\n",
    "from formulaic import Formula\n",
    "\n",
    "import matplotlib.pyplot as plt\n"
   ]
  },
  {
   "cell_type": "code",
   "execution_count": 3,
   "id": "a860ad52-6e0b-407c-a279-358e06dd4e79",
   "metadata": {},
   "outputs": [
    {
     "name": "stdout",
     "output_type": "stream",
     "text": [
      "Defaulting to user installation because normal site-packages is not writeable\n",
      "Requirement already satisfied: gapminder in /home/Estudiante/.local/lib/python3.10/site-packages (0.1)\n",
      "Requirement already satisfied: pandas in /opt/miniconda3/envs/alc/lib/python3.10/site-packages (from gapminder) (1.5.3)\n",
      "Requirement already satisfied: python-dateutil>=2.8.1 in /opt/miniconda3/envs/alc/lib/python3.10/site-packages (from pandas->gapminder) (2.8.2)\n",
      "Requirement already satisfied: pytz>=2020.1 in /opt/miniconda3/envs/alc/lib/python3.10/site-packages (from pandas->gapminder) (2022.7.1)\n",
      "Requirement already satisfied: numpy>=1.21.0 in /opt/miniconda3/envs/alc/lib/python3.10/site-packages (from pandas->gapminder) (1.23.1)\n",
      "Requirement already satisfied: six>=1.5 in /opt/miniconda3/envs/alc/lib/python3.10/site-packages (from python-dateutil>=2.8.1->pandas->gapminder) (1.16.0)\n",
      "Defaulting to user installation because normal site-packages is not writeable\n",
      "Requirement already satisfied: formulaic in /home/Estudiante/.local/lib/python3.10/site-packages (1.0.1)\n",
      "Requirement already satisfied: numpy>=1.16.5 in /opt/miniconda3/envs/alc/lib/python3.10/site-packages (from formulaic) (1.23.1)\n",
      "Requirement already satisfied: typing-extensions>=4.2.0 in /opt/miniconda3/envs/alc/lib/python3.10/site-packages (from formulaic) (4.4.0)\n",
      "Requirement already satisfied: scipy>=1.6 in /opt/miniconda3/envs/alc/lib/python3.10/site-packages (from formulaic) (1.8.1)\n",
      "Requirement already satisfied: interface-meta>=1.2.0 in /home/Estudiante/.local/lib/python3.10/site-packages (from formulaic) (1.3.0)\n",
      "Requirement already satisfied: wrapt>=1.0 in /opt/miniconda3/envs/alc/lib/python3.10/site-packages (from formulaic) (1.14.1)\n",
      "Requirement already satisfied: pandas>=1.0 in /opt/miniconda3/envs/alc/lib/python3.10/site-packages (from formulaic) (1.5.3)\n",
      "Requirement already satisfied: python-dateutil>=2.8.1 in /opt/miniconda3/envs/alc/lib/python3.10/site-packages (from pandas>=1.0->formulaic) (2.8.2)\n",
      "Requirement already satisfied: pytz>=2020.1 in /opt/miniconda3/envs/alc/lib/python3.10/site-packages (from pandas>=1.0->formulaic) (2022.7.1)\n",
      "Requirement already satisfied: six>=1.5 in /opt/miniconda3/envs/alc/lib/python3.10/site-packages (from python-dateutil>=2.8.1->pandas>=1.0->formulaic) (1.16.0)\n"
     ]
    }
   ],
   "source": [
    "# Si necesitan instalar algún paquete\n",
    "!pip install gapminder\n",
    "!pip install formulaic"
   ]
  },
  {
   "cell_type": "markdown",
   "id": "f08cb394",
   "metadata": {},
   "source": [
    "## Colinealidad y explosión de coeficientes\n",
    "\n",
    "Para cada una de los conjuntos de datos A y B, calcular los coeficientes de regresión por mínimos cuadrados al ajustar la variable y."
   ]
  },
  {
   "cell_type": "code",
   "execution_count": 4,
   "id": "5850ef35",
   "metadata": {},
   "outputs": [
    {
     "data": {
      "text/plain": [
       "array([[1.   ],\n",
       "       [0.001],\n",
       "       [0.001]])"
      ]
     },
     "metadata": {},
     "output_type": "display_data"
    },
    {
     "data": {
      "text/plain": [
       "array([[1.000e+00, 1.001e+00],\n",
       "       [1.000e-03, 1.000e-03],\n",
       "       [1.000e-03, 1.000e-03]])"
      ]
     },
     "metadata": {},
     "output_type": "display_data"
    },
    {
     "data": {
      "text/plain": [
       "array([1, 0, 0])"
      ]
     },
     "metadata": {},
     "output_type": "display_data"
    }
   ],
   "source": [
    "X_A = np.array([[1], [0.001], [0.001]])\n",
    "X_B = np.array([[1, 1.001], [0.001, 0.001], [0.001, 0.001]])\n",
    "y = np.array([1,0,0])\n",
    "display(X_A)\n",
    "display(X_B)\n",
    "display(y)"
   ]
  },
  {
   "cell_type": "code",
   "execution_count": 8,
   "id": "8d3cb996",
   "metadata": {},
   "outputs": [
    {
     "data": {
      "text/plain": [
       "array([0.999998])"
      ]
     },
     "execution_count": 8,
     "metadata": {},
     "output_type": "execute_result"
    }
   ],
   "source": [
    "# Modelo A\n",
    "modeloA = linear_model.LinearRegression(fit_intercept = False) \n",
    "modeloA.fit(X_A, y)\n",
    "modeloA.coef_"
   ]
  },
  {
   "cell_type": "code",
   "execution_count": 9,
   "id": "83def2b0",
   "metadata": {},
   "outputs": [
    {
     "data": {
      "text/plain": [
       "array([-1000.,  1000.])"
      ]
     },
     "execution_count": 9,
     "metadata": {},
     "output_type": "execute_result"
    }
   ],
   "source": [
    "# Modelo B\n",
    "modeloA = linear_model.LinearRegression(fit_intercept = False) \n",
    "modeloA.fit(X_B, y)\n",
    "modeloA.coef_"
   ]
  },
  {
   "cell_type": "markdown",
   "id": "96079a7e",
   "metadata": {},
   "source": [
    "## Un error común que genera colinealidad\n",
    "Si tenemos una columna constante en la matriz X y usamos también intercept al hacer el ajuste, vamos a tener colinealidad y podemos obtener resultados catastróficos.\n",
    "\n",
    "Enseguida vamos a ver este ejemplo en detalle, pero veamos ahora qué pasa si usamos dos intercepts..."
   ]
  },
  {
   "cell_type": "code",
   "execution_count": 11,
   "id": "62b0971d",
   "metadata": {},
   "outputs": [
    {
     "data": {
      "text/plain": [
       "(506, 92)"
      ]
     },
     "metadata": {},
     "output_type": "display_data"
    },
    {
     "data": {
      "text/html": [
       "<div>\n",
       "<style scoped>\n",
       "    .dataframe tbody tr th:only-of-type {\n",
       "        vertical-align: middle;\n",
       "    }\n",
       "\n",
       "    .dataframe tbody tr th {\n",
       "        vertical-align: top;\n",
       "    }\n",
       "\n",
       "    .dataframe thead th {\n",
       "        text-align: right;\n",
       "    }\n",
       "</style>\n",
       "<table border=\"1\" class=\"dataframe\">\n",
       "  <thead>\n",
       "    <tr style=\"text-align: right;\">\n",
       "      <th></th>\n",
       "      <th>Intercept</th>\n",
       "      <th>crim</th>\n",
       "      <th>zn</th>\n",
       "      <th>indus</th>\n",
       "      <th>chas</th>\n",
       "      <th>nox</th>\n",
       "      <th>rm</th>\n",
       "      <th>age</th>\n",
       "      <th>dis</th>\n",
       "      <th>rad</th>\n",
       "      <th>...</th>\n",
       "      <th>rad:tax</th>\n",
       "      <th>rad:ptratio</th>\n",
       "      <th>rad:lstat</th>\n",
       "      <th>rad:b</th>\n",
       "      <th>tax:ptratio</th>\n",
       "      <th>tax:lstat</th>\n",
       "      <th>tax:b</th>\n",
       "      <th>ptratio:lstat</th>\n",
       "      <th>ptratio:b</th>\n",
       "      <th>lstat:b</th>\n",
       "    </tr>\n",
       "  </thead>\n",
       "  <tbody>\n",
       "    <tr>\n",
       "      <th>0</th>\n",
       "      <td>1.0</td>\n",
       "      <td>0.00632</td>\n",
       "      <td>18.0</td>\n",
       "      <td>2.31</td>\n",
       "      <td>0</td>\n",
       "      <td>0.538</td>\n",
       "      <td>6.575</td>\n",
       "      <td>65.2</td>\n",
       "      <td>4.0900</td>\n",
       "      <td>1</td>\n",
       "      <td>...</td>\n",
       "      <td>296</td>\n",
       "      <td>15.3</td>\n",
       "      <td>4.98</td>\n",
       "      <td>396.90</td>\n",
       "      <td>4528.8</td>\n",
       "      <td>1474.08</td>\n",
       "      <td>117482.40</td>\n",
       "      <td>76.194</td>\n",
       "      <td>6072.570</td>\n",
       "      <td>1976.5620</td>\n",
       "    </tr>\n",
       "    <tr>\n",
       "      <th>1</th>\n",
       "      <td>1.0</td>\n",
       "      <td>0.02731</td>\n",
       "      <td>0.0</td>\n",
       "      <td>7.07</td>\n",
       "      <td>0</td>\n",
       "      <td>0.469</td>\n",
       "      <td>6.421</td>\n",
       "      <td>78.9</td>\n",
       "      <td>4.9671</td>\n",
       "      <td>2</td>\n",
       "      <td>...</td>\n",
       "      <td>484</td>\n",
       "      <td>35.6</td>\n",
       "      <td>18.28</td>\n",
       "      <td>793.80</td>\n",
       "      <td>4307.6</td>\n",
       "      <td>2211.88</td>\n",
       "      <td>96049.80</td>\n",
       "      <td>162.692</td>\n",
       "      <td>7064.820</td>\n",
       "      <td>3627.6660</td>\n",
       "    </tr>\n",
       "    <tr>\n",
       "      <th>2</th>\n",
       "      <td>1.0</td>\n",
       "      <td>0.02729</td>\n",
       "      <td>0.0</td>\n",
       "      <td>7.07</td>\n",
       "      <td>0</td>\n",
       "      <td>0.469</td>\n",
       "      <td>7.185</td>\n",
       "      <td>61.1</td>\n",
       "      <td>4.9671</td>\n",
       "      <td>2</td>\n",
       "      <td>...</td>\n",
       "      <td>484</td>\n",
       "      <td>35.6</td>\n",
       "      <td>8.06</td>\n",
       "      <td>785.66</td>\n",
       "      <td>4307.6</td>\n",
       "      <td>975.26</td>\n",
       "      <td>95064.86</td>\n",
       "      <td>71.734</td>\n",
       "      <td>6992.374</td>\n",
       "      <td>1583.1049</td>\n",
       "    </tr>\n",
       "    <tr>\n",
       "      <th>3</th>\n",
       "      <td>1.0</td>\n",
       "      <td>0.03237</td>\n",
       "      <td>0.0</td>\n",
       "      <td>2.18</td>\n",
       "      <td>0</td>\n",
       "      <td>0.458</td>\n",
       "      <td>6.998</td>\n",
       "      <td>45.8</td>\n",
       "      <td>6.0622</td>\n",
       "      <td>3</td>\n",
       "      <td>...</td>\n",
       "      <td>666</td>\n",
       "      <td>56.1</td>\n",
       "      <td>8.82</td>\n",
       "      <td>1183.89</td>\n",
       "      <td>4151.4</td>\n",
       "      <td>652.68</td>\n",
       "      <td>87607.86</td>\n",
       "      <td>54.978</td>\n",
       "      <td>7379.581</td>\n",
       "      <td>1160.2122</td>\n",
       "    </tr>\n",
       "    <tr>\n",
       "      <th>4</th>\n",
       "      <td>1.0</td>\n",
       "      <td>0.06905</td>\n",
       "      <td>0.0</td>\n",
       "      <td>2.18</td>\n",
       "      <td>0</td>\n",
       "      <td>0.458</td>\n",
       "      <td>7.147</td>\n",
       "      <td>54.2</td>\n",
       "      <td>6.0622</td>\n",
       "      <td>3</td>\n",
       "      <td>...</td>\n",
       "      <td>666</td>\n",
       "      <td>56.1</td>\n",
       "      <td>15.99</td>\n",
       "      <td>1190.70</td>\n",
       "      <td>4151.4</td>\n",
       "      <td>1183.26</td>\n",
       "      <td>88111.80</td>\n",
       "      <td>99.671</td>\n",
       "      <td>7422.030</td>\n",
       "      <td>2115.4770</td>\n",
       "    </tr>\n",
       "  </tbody>\n",
       "</table>\n",
       "<p>5 rows × 92 columns</p>\n",
       "</div>"
      ],
      "text/plain": [
       "   Intercept     crim    zn  indus  chas    nox     rm   age     dis  rad  \\\n",
       "0        1.0  0.00632  18.0   2.31     0  0.538  6.575  65.2  4.0900    1   \n",
       "1        1.0  0.02731   0.0   7.07     0  0.469  6.421  78.9  4.9671    2   \n",
       "2        1.0  0.02729   0.0   7.07     0  0.469  7.185  61.1  4.9671    2   \n",
       "3        1.0  0.03237   0.0   2.18     0  0.458  6.998  45.8  6.0622    3   \n",
       "4        1.0  0.06905   0.0   2.18     0  0.458  7.147  54.2  6.0622    3   \n",
       "\n",
       "   ...  rad:tax  rad:ptratio  rad:lstat    rad:b  tax:ptratio  tax:lstat  \\\n",
       "0  ...      296         15.3       4.98   396.90       4528.8    1474.08   \n",
       "1  ...      484         35.6      18.28   793.80       4307.6    2211.88   \n",
       "2  ...      484         35.6       8.06   785.66       4307.6     975.26   \n",
       "3  ...      666         56.1       8.82  1183.89       4151.4     652.68   \n",
       "4  ...      666         56.1      15.99  1190.70       4151.4    1183.26   \n",
       "\n",
       "       tax:b  ptratio:lstat  ptratio:b    lstat:b  \n",
       "0  117482.40         76.194   6072.570  1976.5620  \n",
       "1   96049.80        162.692   7064.820  3627.6660  \n",
       "2   95064.86         71.734   6992.374  1583.1049  \n",
       "3   87607.86         54.978   7379.581  1160.2122  \n",
       "4   88111.80         99.671   7422.030  2115.4770  \n",
       "\n",
       "[5 rows x 92 columns]"
      ]
     },
     "metadata": {},
     "output_type": "display_data"
    }
   ],
   "source": [
    "# medv: valor medio de las propiedades (mediana)\n",
    "data = pd.read_csv(\"BostonHousing.csv\")\n",
    "formula = 'medv ~ (crim+zn+indus+chas+nox+rm+age+dis+rad+tax+ptratio+lstat+b)*(crim+zn+indus+chas+nox+rm+age+dis+rad+tax+ptratio+lstat+b)'\n",
    "y, X =  Formula(formula).get_model_matrix(data)\n",
    "y = y.squeeze()\n",
    "display(X.shape)\n",
    "display(X.head())"
   ]
  },
  {
   "cell_type": "code",
   "execution_count": 12,
   "id": "873cde0f",
   "metadata": {},
   "outputs": [
    {
     "name": "stdout",
     "output_type": "stream",
     "text": [
      "Mean Squared Error: 427.08\n",
      "11989164419.707016\n",
      "[-1.19891645e+10 -3.87381529e+01  4.15602731e+00  7.28424922e+00\n",
      " -2.82104829e-01]\n"
     ]
    }
   ],
   "source": [
    "# Separamos en entrenamiento y validación\n",
    "X_train, X_test, y_train, y_test = train_test_split(X, y, test_size=0.7, random_state=42)\n",
    "\n",
    "# Si no agregamos ninguna opción, el programa va a agregar un nuevo intercept al realizar la regresión.\n",
    "modelo = linear_model.LinearRegression() \n",
    "\n",
    "# Train the model\n",
    "modelo.fit(X_train, y_train)\n",
    "\n",
    "# Make predictions\n",
    "y_pred = modelo.predict(X_test)\n",
    "\n",
    "# Evaluate the model using mean squared error\n",
    "mse = mean_squared_error(y_test, y_pred)\n",
    "print(f\"Mean Squared Error: {mse:.2f}\")\n",
    "\n",
    "print(modelo.intercept_)\n",
    "print(modelo.coef_[0:5])"
   ]
  },
  {
   "cell_type": "markdown",
   "id": "dce56cf3",
   "metadata": {},
   "source": [
    "Obtuvimos valores altísimos para el intecept."
   ]
  },
  {
   "cell_type": "code",
   "execution_count": 13,
   "id": "dbeb1041",
   "metadata": {},
   "outputs": [
    {
     "name": "stdout",
     "output_type": "stream",
     "text": [
      "Raiz del Error Cuadratico Medio: 6.94\n",
      "0.0\n",
      "[ 16.22007767 -41.2433177    4.25261255   7.90079499  -0.14417318]\n"
     ]
    }
   ],
   "source": [
    "# No agregamos el intercept al realizar la regresión.\n",
    "modelo = linear_model.LinearRegression(fit_intercept = False) \n",
    "\n",
    "# Train the model\n",
    "modelo.fit(X_train, y_train)\n",
    "\n",
    "# Make predictions\n",
    "y_pred = modelo.predict(X_test)\n",
    "\n",
    "# Evaluate the model using mean squared error\n",
    "rmse = np.sqrt(mean_squared_error(y_test, y_pred))\n",
    "print(f\"Raiz del Error Cuadratico Medio: {rmse:.2f}\")\n",
    "\n",
    "print(modelo.intercept_)\n",
    "print(modelo.coef_[0:5])"
   ]
  },
  {
   "cell_type": "markdown",
   "id": "3e13ac31",
   "metadata": {},
   "source": [
    "En el primer caso obtuvimos coeficientes altísimos con signos opuestos para el intercept. Los demás coeficientes también se vieron afectados y la capacidad predictiva empeoró drásticametne."
   ]
  },
  {
   "cell_type": "markdown",
   "id": "998f648b",
   "metadata": {},
   "source": [
    "# Mínimos cuadrados regularizados\n",
    "\n",
    "Consideramos datos de los precios de viviendas en distintos barrios de Boston. Queremos predecir el precio en función de datos demográficos de cada barrio."
   ]
  },
  {
   "cell_type": "code",
   "execution_count": 14,
   "id": "caddc7d8",
   "metadata": {},
   "outputs": [
    {
     "data": {
      "text/html": [
       "<div>\n",
       "<style scoped>\n",
       "    .dataframe tbody tr th:only-of-type {\n",
       "        vertical-align: middle;\n",
       "    }\n",
       "\n",
       "    .dataframe tbody tr th {\n",
       "        vertical-align: top;\n",
       "    }\n",
       "\n",
       "    .dataframe thead th {\n",
       "        text-align: right;\n",
       "    }\n",
       "</style>\n",
       "<table border=\"1\" class=\"dataframe\">\n",
       "  <thead>\n",
       "    <tr style=\"text-align: right;\">\n",
       "      <th></th>\n",
       "      <th>crim</th>\n",
       "      <th>zn</th>\n",
       "      <th>indus</th>\n",
       "      <th>chas</th>\n",
       "      <th>nox</th>\n",
       "      <th>rm</th>\n",
       "      <th>age</th>\n",
       "      <th>dis</th>\n",
       "      <th>rad</th>\n",
       "      <th>tax</th>\n",
       "      <th>ptratio</th>\n",
       "      <th>b</th>\n",
       "      <th>lstat</th>\n",
       "      <th>medv</th>\n",
       "    </tr>\n",
       "  </thead>\n",
       "  <tbody>\n",
       "    <tr>\n",
       "      <th>0</th>\n",
       "      <td>0.00632</td>\n",
       "      <td>18.0</td>\n",
       "      <td>2.31</td>\n",
       "      <td>0</td>\n",
       "      <td>0.538</td>\n",
       "      <td>6.575</td>\n",
       "      <td>65.2</td>\n",
       "      <td>4.0900</td>\n",
       "      <td>1</td>\n",
       "      <td>296</td>\n",
       "      <td>15.3</td>\n",
       "      <td>396.90</td>\n",
       "      <td>4.98</td>\n",
       "      <td>24.0</td>\n",
       "    </tr>\n",
       "    <tr>\n",
       "      <th>1</th>\n",
       "      <td>0.02731</td>\n",
       "      <td>0.0</td>\n",
       "      <td>7.07</td>\n",
       "      <td>0</td>\n",
       "      <td>0.469</td>\n",
       "      <td>6.421</td>\n",
       "      <td>78.9</td>\n",
       "      <td>4.9671</td>\n",
       "      <td>2</td>\n",
       "      <td>242</td>\n",
       "      <td>17.8</td>\n",
       "      <td>396.90</td>\n",
       "      <td>9.14</td>\n",
       "      <td>21.6</td>\n",
       "    </tr>\n",
       "    <tr>\n",
       "      <th>2</th>\n",
       "      <td>0.02729</td>\n",
       "      <td>0.0</td>\n",
       "      <td>7.07</td>\n",
       "      <td>0</td>\n",
       "      <td>0.469</td>\n",
       "      <td>7.185</td>\n",
       "      <td>61.1</td>\n",
       "      <td>4.9671</td>\n",
       "      <td>2</td>\n",
       "      <td>242</td>\n",
       "      <td>17.8</td>\n",
       "      <td>392.83</td>\n",
       "      <td>4.03</td>\n",
       "      <td>34.7</td>\n",
       "    </tr>\n",
       "    <tr>\n",
       "      <th>3</th>\n",
       "      <td>0.03237</td>\n",
       "      <td>0.0</td>\n",
       "      <td>2.18</td>\n",
       "      <td>0</td>\n",
       "      <td>0.458</td>\n",
       "      <td>6.998</td>\n",
       "      <td>45.8</td>\n",
       "      <td>6.0622</td>\n",
       "      <td>3</td>\n",
       "      <td>222</td>\n",
       "      <td>18.7</td>\n",
       "      <td>394.63</td>\n",
       "      <td>2.94</td>\n",
       "      <td>33.4</td>\n",
       "    </tr>\n",
       "    <tr>\n",
       "      <th>4</th>\n",
       "      <td>0.06905</td>\n",
       "      <td>0.0</td>\n",
       "      <td>2.18</td>\n",
       "      <td>0</td>\n",
       "      <td>0.458</td>\n",
       "      <td>7.147</td>\n",
       "      <td>54.2</td>\n",
       "      <td>6.0622</td>\n",
       "      <td>3</td>\n",
       "      <td>222</td>\n",
       "      <td>18.7</td>\n",
       "      <td>396.90</td>\n",
       "      <td>5.33</td>\n",
       "      <td>36.2</td>\n",
       "    </tr>\n",
       "  </tbody>\n",
       "</table>\n",
       "</div>"
      ],
      "text/plain": [
       "      crim    zn  indus  chas    nox     rm   age     dis  rad  tax  ptratio  \\\n",
       "0  0.00632  18.0   2.31     0  0.538  6.575  65.2  4.0900    1  296     15.3   \n",
       "1  0.02731   0.0   7.07     0  0.469  6.421  78.9  4.9671    2  242     17.8   \n",
       "2  0.02729   0.0   7.07     0  0.469  7.185  61.1  4.9671    2  242     17.8   \n",
       "3  0.03237   0.0   2.18     0  0.458  6.998  45.8  6.0622    3  222     18.7   \n",
       "4  0.06905   0.0   2.18     0  0.458  7.147  54.2  6.0622    3  222     18.7   \n",
       "\n",
       "        b  lstat  medv  \n",
       "0  396.90   4.98  24.0  \n",
       "1  396.90   9.14  21.6  \n",
       "2  392.83   4.03  34.7  \n",
       "3  394.63   2.94  33.4  \n",
       "4  396.90   5.33  36.2  "
      ]
     },
     "execution_count": 14,
     "metadata": {},
     "output_type": "execute_result"
    }
   ],
   "source": [
    "data = pd.read_csv(\"BostonHousing.csv\")\n",
    "data.head()"
   ]
  },
  {
   "cell_type": "markdown",
   "id": "09fa9291",
   "metadata": {},
   "source": [
    "## Primero, modelo lineal"
   ]
  },
  {
   "cell_type": "code",
   "execution_count": 15,
   "id": "4d0deeca",
   "metadata": {},
   "outputs": [],
   "source": [
    "# Consideramos primero un modelo lineal con todas las variables\n",
    "formula = 'medv ~ crim+zn+indus+chas+nox+rm+age+dis+rad+tax+ptratio+lstat+b'\n",
    "y, X =  Formula(formula).get_model_matrix(data)\n",
    "y = y.squeeze()"
   ]
  },
  {
   "cell_type": "code",
   "execution_count": 16,
   "id": "67b2d692",
   "metadata": {},
   "outputs": [],
   "source": [
    "# Separamos en entrenamiento y testeo\n",
    "X_train, X_test, y_train, y_test = train_test_split(X, y, test_size=0.2, random_state=42)"
   ]
  },
  {
   "cell_type": "code",
   "execution_count": 17,
   "id": "65e1dad9",
   "metadata": {},
   "outputs": [
    {
     "name": "stdout",
     "output_type": "stream",
     "text": [
      "Raiz del Error Cuadratico Medio: 4.92860\n"
     ]
    }
   ],
   "source": [
    "# Regresión lineal\n",
    "modeloLineal = linear_model.LinearRegression(fit_intercept = False)  # alpha is the hyperparameter equivalent to lambda\n",
    "\n",
    "# Entrenamos el modelo\n",
    "modeloLineal.fit(X_train, y_train)\n",
    "\n",
    "# Hacemos las predicciones\n",
    "y_pred = modeloLineal.predict(X_test)\n",
    "\n",
    "# Evaluamos el desempeño del modelo\n",
    "rmse = np.sqrt(mean_squared_error(y_test, y_pred))\n",
    "print(f\"Raiz del Error Cuadratico Medio: {rmse:.5f}\")"
   ]
  },
  {
   "cell_type": "markdown",
   "id": "9b9794c2",
   "metadata": {},
   "source": [
    "Como tenemos datos poblaciones, puede ser útil considerar interacciones, por ejemplo tiene sentido multiplicar cantidad de habitantes por salario promedio.\n",
    "\n",
    "Sin pensarlo mucho ni mirar mucho las variables, incorporamos las interacciones entre las variables para ver si podemos mejorar el modelo."
   ]
  },
  {
   "cell_type": "code",
   "execution_count": 18,
   "id": "c12b77ea",
   "metadata": {},
   "outputs": [
    {
     "data": {
      "text/html": [
       "<div>\n",
       "<style scoped>\n",
       "    .dataframe tbody tr th:only-of-type {\n",
       "        vertical-align: middle;\n",
       "    }\n",
       "\n",
       "    .dataframe tbody tr th {\n",
       "        vertical-align: top;\n",
       "    }\n",
       "\n",
       "    .dataframe thead th {\n",
       "        text-align: right;\n",
       "    }\n",
       "</style>\n",
       "<table border=\"1\" class=\"dataframe\">\n",
       "  <thead>\n",
       "    <tr style=\"text-align: right;\">\n",
       "      <th></th>\n",
       "      <th>Intercept</th>\n",
       "      <th>crim</th>\n",
       "      <th>zn</th>\n",
       "      <th>indus</th>\n",
       "      <th>chas</th>\n",
       "      <th>nox</th>\n",
       "      <th>rm</th>\n",
       "      <th>age</th>\n",
       "      <th>dis</th>\n",
       "      <th>rad</th>\n",
       "      <th>...</th>\n",
       "      <th>rad:tax</th>\n",
       "      <th>rad:ptratio</th>\n",
       "      <th>rad:lstat</th>\n",
       "      <th>rad:b</th>\n",
       "      <th>tax:ptratio</th>\n",
       "      <th>tax:lstat</th>\n",
       "      <th>tax:b</th>\n",
       "      <th>ptratio:lstat</th>\n",
       "      <th>ptratio:b</th>\n",
       "      <th>lstat:b</th>\n",
       "    </tr>\n",
       "  </thead>\n",
       "  <tbody>\n",
       "    <tr>\n",
       "      <th>0</th>\n",
       "      <td>1.0</td>\n",
       "      <td>0.00632</td>\n",
       "      <td>18.0</td>\n",
       "      <td>2.31</td>\n",
       "      <td>0</td>\n",
       "      <td>0.538</td>\n",
       "      <td>6.575</td>\n",
       "      <td>65.2</td>\n",
       "      <td>4.0900</td>\n",
       "      <td>1</td>\n",
       "      <td>...</td>\n",
       "      <td>296</td>\n",
       "      <td>15.3</td>\n",
       "      <td>4.98</td>\n",
       "      <td>396.90</td>\n",
       "      <td>4528.8</td>\n",
       "      <td>1474.08</td>\n",
       "      <td>117482.40</td>\n",
       "      <td>76.194</td>\n",
       "      <td>6072.570</td>\n",
       "      <td>1976.5620</td>\n",
       "    </tr>\n",
       "    <tr>\n",
       "      <th>1</th>\n",
       "      <td>1.0</td>\n",
       "      <td>0.02731</td>\n",
       "      <td>0.0</td>\n",
       "      <td>7.07</td>\n",
       "      <td>0</td>\n",
       "      <td>0.469</td>\n",
       "      <td>6.421</td>\n",
       "      <td>78.9</td>\n",
       "      <td>4.9671</td>\n",
       "      <td>2</td>\n",
       "      <td>...</td>\n",
       "      <td>484</td>\n",
       "      <td>35.6</td>\n",
       "      <td>18.28</td>\n",
       "      <td>793.80</td>\n",
       "      <td>4307.6</td>\n",
       "      <td>2211.88</td>\n",
       "      <td>96049.80</td>\n",
       "      <td>162.692</td>\n",
       "      <td>7064.820</td>\n",
       "      <td>3627.6660</td>\n",
       "    </tr>\n",
       "    <tr>\n",
       "      <th>2</th>\n",
       "      <td>1.0</td>\n",
       "      <td>0.02729</td>\n",
       "      <td>0.0</td>\n",
       "      <td>7.07</td>\n",
       "      <td>0</td>\n",
       "      <td>0.469</td>\n",
       "      <td>7.185</td>\n",
       "      <td>61.1</td>\n",
       "      <td>4.9671</td>\n",
       "      <td>2</td>\n",
       "      <td>...</td>\n",
       "      <td>484</td>\n",
       "      <td>35.6</td>\n",
       "      <td>8.06</td>\n",
       "      <td>785.66</td>\n",
       "      <td>4307.6</td>\n",
       "      <td>975.26</td>\n",
       "      <td>95064.86</td>\n",
       "      <td>71.734</td>\n",
       "      <td>6992.374</td>\n",
       "      <td>1583.1049</td>\n",
       "    </tr>\n",
       "    <tr>\n",
       "      <th>3</th>\n",
       "      <td>1.0</td>\n",
       "      <td>0.03237</td>\n",
       "      <td>0.0</td>\n",
       "      <td>2.18</td>\n",
       "      <td>0</td>\n",
       "      <td>0.458</td>\n",
       "      <td>6.998</td>\n",
       "      <td>45.8</td>\n",
       "      <td>6.0622</td>\n",
       "      <td>3</td>\n",
       "      <td>...</td>\n",
       "      <td>666</td>\n",
       "      <td>56.1</td>\n",
       "      <td>8.82</td>\n",
       "      <td>1183.89</td>\n",
       "      <td>4151.4</td>\n",
       "      <td>652.68</td>\n",
       "      <td>87607.86</td>\n",
       "      <td>54.978</td>\n",
       "      <td>7379.581</td>\n",
       "      <td>1160.2122</td>\n",
       "    </tr>\n",
       "    <tr>\n",
       "      <th>4</th>\n",
       "      <td>1.0</td>\n",
       "      <td>0.06905</td>\n",
       "      <td>0.0</td>\n",
       "      <td>2.18</td>\n",
       "      <td>0</td>\n",
       "      <td>0.458</td>\n",
       "      <td>7.147</td>\n",
       "      <td>54.2</td>\n",
       "      <td>6.0622</td>\n",
       "      <td>3</td>\n",
       "      <td>...</td>\n",
       "      <td>666</td>\n",
       "      <td>56.1</td>\n",
       "      <td>15.99</td>\n",
       "      <td>1190.70</td>\n",
       "      <td>4151.4</td>\n",
       "      <td>1183.26</td>\n",
       "      <td>88111.80</td>\n",
       "      <td>99.671</td>\n",
       "      <td>7422.030</td>\n",
       "      <td>2115.4770</td>\n",
       "    </tr>\n",
       "  </tbody>\n",
       "</table>\n",
       "<p>5 rows × 92 columns</p>\n",
       "</div>"
      ],
      "text/plain": [
       "   Intercept     crim    zn  indus  chas    nox     rm   age     dis  rad  \\\n",
       "0        1.0  0.00632  18.0   2.31     0  0.538  6.575  65.2  4.0900    1   \n",
       "1        1.0  0.02731   0.0   7.07     0  0.469  6.421  78.9  4.9671    2   \n",
       "2        1.0  0.02729   0.0   7.07     0  0.469  7.185  61.1  4.9671    2   \n",
       "3        1.0  0.03237   0.0   2.18     0  0.458  6.998  45.8  6.0622    3   \n",
       "4        1.0  0.06905   0.0   2.18     0  0.458  7.147  54.2  6.0622    3   \n",
       "\n",
       "   ...  rad:tax  rad:ptratio  rad:lstat    rad:b  tax:ptratio  tax:lstat  \\\n",
       "0  ...      296         15.3       4.98   396.90       4528.8    1474.08   \n",
       "1  ...      484         35.6      18.28   793.80       4307.6    2211.88   \n",
       "2  ...      484         35.6       8.06   785.66       4307.6     975.26   \n",
       "3  ...      666         56.1       8.82  1183.89       4151.4     652.68   \n",
       "4  ...      666         56.1      15.99  1190.70       4151.4    1183.26   \n",
       "\n",
       "       tax:b  ptratio:lstat  ptratio:b    lstat:b  \n",
       "0  117482.40         76.194   6072.570  1976.5620  \n",
       "1   96049.80        162.692   7064.820  3627.6660  \n",
       "2   95064.86         71.734   6992.374  1583.1049  \n",
       "3   87607.86         54.978   7379.581  1160.2122  \n",
       "4   88111.80         99.671   7422.030  2115.4770  \n",
       "\n",
       "[5 rows x 92 columns]"
      ]
     },
     "execution_count": 18,
     "metadata": {},
     "output_type": "execute_result"
    }
   ],
   "source": [
    "formula = 'medv ~ (crim+zn+indus+chas+nox+rm+age+dis+rad+tax+ptratio+lstat+b)*(crim+zn+indus+chas+nox+rm+age+dis+rad+tax+ptratio+lstat+b)'\n",
    "y, X =  Formula(formula).get_model_matrix(data)\n",
    "X.head()"
   ]
  },
  {
   "cell_type": "code",
   "execution_count": 19,
   "id": "bb05744e",
   "metadata": {},
   "outputs": [],
   "source": [
    "# Separamos en entrenamiento y testeo\n",
    "X_train, X_test, y_train, y_test = train_test_split(X, y, test_size=0.2, random_state=42)"
   ]
  },
  {
   "cell_type": "code",
   "execution_count": 20,
   "id": "b4771665",
   "metadata": {},
   "outputs": [
    {
     "name": "stdout",
     "output_type": "stream",
     "text": [
      "Raíz del Error Cuadrático Medio: 3.38172\n"
     ]
    }
   ],
   "source": [
    "# Inicializamos el modelo lineal\n",
    "modeloLineal = linear_model.LinearRegression(fit_intercept = False)  # alpha is the hyperparameter equivalent to lambda\n",
    "\n",
    "# Entrenamiento\n",
    "modeloLineal.fit(X_train, y_train)\n",
    "\n",
    "# Predicciones\n",
    "y_pred = modeloLineal.predict(X_test)\n",
    "\n",
    "# Evaluación\n",
    "rmse = np.sqrt(mean_squared_error(y_test, y_pred))\n",
    "print(f\"Raíz del Error Cuadrático Medio: {rmse:.5f}\")"
   ]
  },
  {
   "cell_type": "markdown",
   "id": "ddcbbe4d",
   "metadata": {},
   "source": [
    "Logramos una reducción importante del error cuadrático.\n",
    "\n",
    "**Ejercicio:** Mirando los coeficientes con cuidado, seleccionar cuáles interacciones son importantes, y utilizar las técnicas vistas de selección de modelos, seleccionar un modelo lineal con pocas variables y similar poder explicativo."
   ]
  },
  {
   "cell_type": "markdown",
   "id": "aa940b3c",
   "metadata": {},
   "source": [
    "Al introducir tantas variables nuevas, relacionadas con las variables originales, es muy posible que hayamos introducido colinealidad entre las variables.\n",
    "\n",
    "Es razonable entonces intentar un modelo de mínimos cuadrados regularizados."
   ]
  },
  {
   "cell_type": "markdown",
   "id": "0b06a156",
   "metadata": {},
   "source": [
    "**Paso 1:** Separamos los datos en entrenamiento y testeo."
   ]
  },
  {
   "cell_type": "code",
   "execution_count": 24,
   "id": "45854959",
   "metadata": {},
   "outputs": [],
   "source": [
    "# Entrenamiento y testeo\n",
    "df_train, df_test = train_test_split(data, test_size=0.2, random_state=42)\n",
    "\n",
    "# Construimos las matrices X e y para entrenamiento\n",
    "formula = 'medv ~ (crim+zn+indus+chas+nox+rm+age+dis+rad+tax+ptratio+lstat+b)*(crim+zn+indus+chas+nox+rm+age+dis+rad+tax+ptratio+lstat+b)'\n",
    "y, X =  Formula(formula).get_model_matrix(df_train)"
   ]
  },
  {
   "cell_type": "markdown",
   "id": "300e1177",
   "metadata": {},
   "source": [
    "**Paso 2:** Definimos un vector de parámetros a probar"
   ]
  },
  {
   "cell_type": "code",
   "execution_count": 53,
   "id": "f6416a20",
   "metadata": {},
   "outputs": [
    {
     "data": {
      "text/plain": [
       "6"
      ]
     },
     "execution_count": 53,
     "metadata": {},
     "output_type": "execute_result"
    }
   ],
   "source": [
    "alphas = np.array([0.01, 0.1, 0.5, 1, 2, 3])\n",
    "alphas.size"
   ]
  },
  {
   "cell_type": "markdown",
   "id": "86ef3088",
   "metadata": {},
   "source": [
    "**Pasos 3 y 4:** Para cada valor de alpha, calculamos el error promedio al realizar validación cruzada de 5 pliegos en los datos de entrenamiento."
   ]
  },
  {
   "cell_type": "code",
   "execution_count": 55,
   "id": "2752766f",
   "metadata": {},
   "outputs": [
    {
     "name": "stdout",
     "output_type": "stream",
     "text": [
      "Raiz cuadrada del Mean Squared Error: 4.63\n"
     ]
    }
   ],
   "source": [
    "# Comenzamos con un valor de alpha fijo\n",
    "alpha = alphas[0]  # alpha = 0.01\n",
    "\n",
    "cv = KFold(n_splits=5, random_state=42, shuffle=True)  # 5 pliegos\n",
    "\n",
    "modeloRidge = linear_model.Ridge(alpha = alpha, fit_intercept = False)    # Inicializamos un modelo de Regresion Lineal sin intercept\n",
    "rmse = np.zeros(cv.get_n_splits())  # Vamos a guardar el error en cada pliego\n",
    "\n",
    "ind = 0\n",
    "\n",
    "# Para seleccionar algunas filas dados los índices, utilizamos iloc (lo vimos en la clase 2)\n",
    "for train_index, val_index in cv.split(X):\n",
    "    X_train, X_val, y_train, y_val = X.iloc[train_index], X.iloc[val_index], y.iloc[train_index], y.iloc[val_index]\n",
    "    modeloRidge.fit(X_train, y_train)\n",
    "    \n",
    "    y_pred = modeloRidge.predict(X_val)\n",
    "    rmse[ind] = np.sqrt(mean_squared_error(y_val, y_pred))\n",
    "    ind = ind + 1\n",
    "\n",
    "print(f\"Raiz cuadrada del Mean Squared Error: {rmse.mean():.2f}\")"
   ]
  },
  {
   "cell_type": "markdown",
   "id": "e0c375fe",
   "metadata": {},
   "source": [
    "Esto lo hicimos para un solor valor de alpha, podemos hacerlo fácilmente para varios valores."
   ]
  },
  {
   "cell_type": "code",
   "execution_count": 56,
   "id": "a8b41260",
   "metadata": {},
   "outputs": [
    {
     "name": "stdout",
     "output_type": "stream",
     "text": [
      "Para alpha = 0.01000 la raíz del Error Cuadratico Medio es: 4.62878\n",
      "Para alpha = 0.10000 la raíz del Error Cuadratico Medio es: 4.56949\n",
      "Para alpha = 0.50000 la raíz del Error Cuadratico Medio es: 4.54304\n",
      "Para alpha = 1.00000 la raíz del Error Cuadratico Medio es: 4.55236\n",
      "Para alpha = 2.00000 la raíz del Error Cuadratico Medio es: 4.56598\n",
      "Para alpha = 3.00000 la raíz del Error Cuadratico Medio es: 4.57144\n"
     ]
    }
   ],
   "source": [
    "for alpha in alphas:\n",
    "    # Inicializamos un modelo de Regresion Lineal sin intercept\n",
    "    modeloRidge = linear_model.Ridge(alpha = alpha, fit_intercept = False)    \n",
    "    rmse = np.zeros(cv.get_n_splits())  # Vamos a guardar el error en cada pliego\n",
    "\n",
    "    ind = 0\n",
    "\n",
    "    # Para seleccionar algunas filas dados los índices, utilizamos iloc (lo vimos en la clase 2)\n",
    "    for train_index, val_index in cv.split(X):\n",
    "        X_train, X_val, y_train, y_val = X.iloc[train_index], X.iloc[val_index], y.iloc[train_index], y.iloc[val_index]\n",
    "        modeloRidge.fit(X_train, y_train)\n",
    "\n",
    "        y_pred = modeloRidge.predict(X_val)\n",
    "        rmse[ind] = np.sqrt(mean_squared_error(y_val, y_pred))\n",
    "        ind = ind + 1\n",
    "\n",
    "    print(f\"Para alpha = {alpha:.5f} la raíz del Error Cuadratico Medio es: {rmse.mean():.5f}\")"
   ]
  },
  {
   "cell_type": "markdown",
   "id": "6b49e60a",
   "metadata": {},
   "source": [
    "El valor óptimo es alpha = 0.5.\n",
    "En base a los resultados observados agregamos algunos valores de alpha cercanos a 0.5."
   ]
  },
  {
   "cell_type": "code",
   "execution_count": 57,
   "id": "75084ccd",
   "metadata": {},
   "outputs": [
    {
     "name": "stdout",
     "output_type": "stream",
     "text": [
      "Para alpha = 0.10000 la raiz del error cuadratico medio es: 4.56949\n",
      "Para alpha = 0.20000 la raiz del error cuadratico medio es: 4.55082\n",
      "Para alpha = 0.30000 la raiz del error cuadratico medio es: 4.54444\n",
      "Para alpha = 0.40000 la raiz del error cuadratico medio es: 4.54267\n",
      "Para alpha = 0.50000 la raiz del error cuadratico medio es: 4.54304\n",
      "Para alpha = 0.60000 la raiz del error cuadratico medio es: 4.54442\n",
      "Para alpha = 0.70000 la raiz del error cuadratico medio es: 4.54627\n",
      "Para alpha = 1.00000 la raiz del error cuadratico medio es: 4.55236\n",
      "Para alpha = 2.00000 la raiz del error cuadratico medio es: 4.56598\n",
      "Para alpha = 3.00000 la raiz del error cuadratico medio es: 4.57144\n"
     ]
    }
   ],
   "source": [
    "alphas = np.array([0.1, 0.2, 0.3, 0.4, 0.5, 0.6, 0.7, 1, 2, 3])\n",
    "\n",
    "for alpha in alphas:\n",
    "    modeloRidge = linear_model.Ridge(alpha = alpha, fit_intercept = False)    # Inicializamos un modelo de Regresion Lineal sin intercept\n",
    "    rmse = np.zeros(cv.get_n_splits())  # Vamos a guardar el error en cada pliego\n",
    "\n",
    "    ind = 0\n",
    "\n",
    "    # Para seleccionar algunas filas dados los índices, utilizamos iloc (lo vimos en la clase 2)\n",
    "    for train_index, val_index in cv.split(X):\n",
    "        X_train, X_val, y_train, y_val = X.iloc[train_index], X.iloc[val_index], y.iloc[train_index], y.iloc[val_index]\n",
    "        modeloRidge.fit(X_train, y_train)\n",
    "\n",
    "        y_pred = modeloRidge.predict(X_val)\n",
    "        rmse[ind] = np.sqrt(mean_squared_error(y_val, y_pred))\n",
    "        ind = ind + 1\n",
    "\n",
    "    print(f\"Para alpha = {alpha:.5f} la raiz del error cuadratico medio es: {rmse.mean():.5f}\")\n"
   ]
  },
  {
   "cell_type": "markdown",
   "id": "7bc9b0b1",
   "metadata": {},
   "source": [
    "Obtuvimos el valor más chico para $\\alpha = 0.4$. \n",
    "\n",
    "Fijamos este valor y ajustamos el modelo usando todos los datos.\n",
    "\n",
    "**Importante:** \n",
    "1. Los coeficientes de la regresión son **parámetros** y se recalculan utilizando todos los datos.\n",
    "2. El coeficiente $\\alpha$ es un **hiperparámetro**, queda fijo y no se recalcula."
   ]
  },
  {
   "cell_type": "code",
   "execution_count": 59,
   "id": "2f42f219",
   "metadata": {},
   "outputs": [
    {
     "data": {
      "text/plain": [
       "Ridge(alpha=0.4, fit_intercept=False)"
      ]
     },
     "execution_count": 59,
     "metadata": {},
     "output_type": "execute_result"
    }
   ],
   "source": [
    "alpha_optimo = 0.4\n",
    "\n",
    "modeloRidge = linear_model.Ridge(alpha = alpha_optimo, fit_intercept = False)    # Inicializamos un modelo de Regresion Lineal sin intercept\n",
    "modeloRidge.fit(X, y)"
   ]
  },
  {
   "cell_type": "markdown",
   "id": "78de9746",
   "metadata": {},
   "source": [
    "Probamos el modelo obtenido en los datos de testeo."
   ]
  },
  {
   "cell_type": "code",
   "execution_count": 60,
   "id": "bfadbced",
   "metadata": {},
   "outputs": [
    {
     "name": "stdout",
     "output_type": "stream",
     "text": [
      "For alpha = 0.40000 the Root Mean Squared Error is: 3.36832\n"
     ]
    }
   ],
   "source": [
    "# Construimos las matrices X e y para entrenamiento\n",
    "formula = 'medv ~ (crim+zn+indus+chas+nox+rm+age+dis+rad+tax+ptratio+lstat+b)*(crim+zn+indus+chas+nox+rm+age+dis+rad+tax+ptratio+lstat+b)'\n",
    "y_test, X_test =  Formula(formula).get_model_matrix(df_test)\n",
    "        \n",
    "y_pred = modeloRidge.predict(X_test)\n",
    "rmse = np.sqrt(mean_squared_error(y_test, y_pred))\n",
    "print(f\"For alpha = {alpha_optimo:.5f} the Root Mean Squared Error is: {rmse.mean():.5f}\")"
   ]
  },
  {
   "cell_type": "markdown",
   "id": "8b938bea",
   "metadata": {},
   "source": [
    "Obtuvimos un error menor!\n",
    "\n",
    "Podemos comparar los coeficientes gráficamente:"
   ]
  },
  {
   "cell_type": "code",
   "execution_count": 61,
   "id": "9a827e97",
   "metadata": {},
   "outputs": [
    {
     "data": {
      "image/png": "[encoded data removed]",
      "text/plain": [
       "<seaborn._core.plot.Plot at 0x721b48227100>"
      ]
     },
     "execution_count": 61,
     "metadata": {
      "image/png": {
       "height": 378.25,
       "width": 509.15
      }
     },
     "output_type": "execute_result"
    }
   ],
   "source": [
    "(\n",
    "    so.Plot(x = np.arange(X.shape[1]))\n",
    "    .add(so.Dot(color = \"b\"), y = modeloRidge.coef_.squeeze())\n",
    "    .add(so.Dot(color = \"r\"), y = modeloLineal.coef_.squeeze())\n",
    ")"
   ]
  },
  {
   "cell_type": "markdown",
   "id": "5b7d6cac",
   "metadata": {},
   "source": [
    "Los azules son los valores de Ridge\n",
    "Lo rojos son los de nuestra predicion anterior.\n",
    "\n",
    "Vemos que muchos valores que antes modificaban mucho la ecuacion, ahora no modifican tanto, es decir que mejoramos la eficiencia de nuestro codigo gracias a Ridge"
   ]
  },
  {
   "cell_type": "code",
   "execution_count": null,
   "id": "2fe6218c",
   "metadata": {},
   "outputs": [],
   "source": []
  }
 ],
 "metadata": {
  "kernelspec": {
   "display_name": "Python 3 (ipykernel)",
   "language": "python",
   "name": "python3"
  },
  "language_info": {
   "codemirror_mode": {
    "name": "ipython",
    "version": 3
   },
   "file_extension": ".py",
   "mimetype": "text/x-python",
   "name": "python",
   "nbconvert_exporter": "python",
   "pygments_lexer": "ipython3",
   "version": "3.10.4"
  }
 },
 "nbformat": 4,
 "nbformat_minor": 5
}
