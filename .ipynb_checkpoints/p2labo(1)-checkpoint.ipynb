{
 "cells": [
  {
   "cell_type": "code",
   "execution_count": 1,
   "id": "72fda29a-8b45-47c9-9ef2-f70ca434d896",
   "metadata": {},
   "outputs": [],
   "source": [
    "import pandas as pd\n",
    "import numpy as np\n",
    "import seaborn as sb"
   ]
  },
  {
   "cell_type": "code",
   "execution_count": 2,
   "id": "c79fad0a-7733-45a3-b971-e08fe4866c48",
   "metadata": {},
   "outputs": [
    {
     "data": {
      "text/plain": [
       "0    7\n",
       "1    4\n",
       "2   -5\n",
       "3    3\n",
       "dtype: int64"
      ]
     },
     "metadata": {},
     "output_type": "display_data"
    },
    {
     "data": {
      "text/plain": [
       "<PandasArray>\n",
       "[7, 4, -5, 3]\n",
       "Length: 4, dtype: int64"
      ]
     },
     "metadata": {},
     "output_type": "display_data"
    },
    {
     "data": {
      "text/plain": [
       "RangeIndex(start=0, stop=4, step=1)"
      ]
     },
     "metadata": {},
     "output_type": "display_data"
    }
   ],
   "source": [
    "obj = pd.Series([7,4,-5,3])\n",
    "display(obj)\n",
    "display(obj.array)\n",
    "display(obj.index)"
   ]
  },
  {
   "cell_type": "code",
   "execution_count": 3,
   "id": "384e45a1-3eb0-49c0-aa96-f6e411f20ed7",
   "metadata": {},
   "outputs": [
    {
     "data": {
      "text/plain": [
       "d    3.141593\n",
       "b    0.000000\n",
       "c   -2.000000\n",
       "a    1.410000\n",
       "dtype: float64"
      ]
     },
     "metadata": {},
     "output_type": "display_data"
    },
    {
     "data": {
      "text/plain": [
       "<PandasArray>\n",
       "[3.141592653589793, 0.0, -2.0, 1.41]\n",
       "Length: 4, dtype: float64"
      ]
     },
     "metadata": {},
     "output_type": "display_data"
    },
    {
     "data": {
      "text/plain": [
       "Index(['d', 'b', 'c', 'a'], dtype='object')"
      ]
     },
     "metadata": {},
     "output_type": "display_data"
    }
   ],
   "source": [
    "obj2 = pd.Series ([np.pi,0 , -2 ,1.41] , index = [ \"d\" , \"b\" , \"c\" , \"a\" ])\n",
    "display ( obj2 )\n",
    "display ( obj2.array )\n",
    "display ( obj2.index )"
   ]
  },
  {
   "cell_type": "code",
   "execution_count": 4,
   "id": "86c86ec9-37a1-40b0-be38-30f178320ab6",
   "metadata": {},
   "outputs": [
    {
     "data": {
      "text/plain": [
       "Index(['a', 'b'], dtype='object')"
      ]
     },
     "execution_count": 4,
     "metadata": {},
     "output_type": "execute_result"
    }
   ],
   "source": [
    "obj3 = obj2 [[\"a\",\"b\"]]\n",
    "obj3\n",
    "obj3.index"
   ]
  },
  {
   "cell_type": "code",
   "execution_count": 5,
   "id": "6293eae8-b3bb-4530-b499-335bd23f81cb",
   "metadata": {},
   "outputs": [
    {
     "data": {
      "text/plain": [
       "d    9.424778\n",
       "b    0.000000\n",
       "c   -6.000000\n",
       "a    4.230000\n",
       "dtype: float64"
      ]
     },
     "execution_count": 5,
     "metadata": {},
     "output_type": "execute_result"
    }
   ],
   "source": [
    "np.exp(obj2)\n",
    "obj2 * 3"
   ]
  },
  {
   "cell_type": "code",
   "execution_count": 6,
   "id": "1491e3d8-65a0-415d-90cf-df91420858e8",
   "metadata": {},
   "outputs": [
    {
     "data": {
      "text/plain": [
       "0    False\n",
       "1     True\n",
       "2     True\n",
       "3     True\n",
       "4    False\n",
       "5     True\n",
       "6     True\n",
       "7    False\n",
       "dtype: bool"
      ]
     },
     "execution_count": 6,
     "metadata": {},
     "output_type": "execute_result"
    }
   ],
   "source": [
    "series1 = pd . Series ([ \" a \" , \" b \" , \" c \" , \" b \" , \" a \" , \" c \" , \" c \" , \" x \" ])\n",
    "series1 . isin ([ \" b \" , \" c \" ])\n"
   ]
  },
  {
   "cell_type": "code",
   "execution_count": 7,
   "id": "f2fbd80b-f1be-49f8-939a-279ada0fdebf",
   "metadata": {},
   "outputs": [
    {
     "data": {
      "text/plain": [
       "{'nombre': ['Rodrigo', 'Sergio', 'Cristina', 'Diana'],\n",
       " 'altura': array([178, 172, 175, 168]),\n",
       " 'peso': array([81.2, 76.1, 68.5, 64. ])}"
      ]
     },
     "metadata": {},
     "output_type": "display_data"
    },
    {
     "data": {
      "text/html": [
       "<div>\n",
       "<style scoped>\n",
       "    .dataframe tbody tr th:only-of-type {\n",
       "        vertical-align: middle;\n",
       "    }\n",
       "\n",
       "    .dataframe tbody tr th {\n",
       "        vertical-align: top;\n",
       "    }\n",
       "\n",
       "    .dataframe thead th {\n",
       "        text-align: right;\n",
       "    }\n",
       "</style>\n",
       "<table border=\"1\" class=\"dataframe\">\n",
       "  <thead>\n",
       "    <tr style=\"text-align: right;\">\n",
       "      <th></th>\n",
       "      <th>altura</th>\n",
       "      <th>peso</th>\n",
       "    </tr>\n",
       "    <tr>\n",
       "      <th>nombre</th>\n",
       "      <th></th>\n",
       "      <th></th>\n",
       "    </tr>\n",
       "  </thead>\n",
       "  <tbody>\n",
       "    <tr>\n",
       "      <th>Rodrigo</th>\n",
       "      <td>178</td>\n",
       "      <td>81.2</td>\n",
       "    </tr>\n",
       "    <tr>\n",
       "      <th>Sergio</th>\n",
       "      <td>172</td>\n",
       "      <td>76.1</td>\n",
       "    </tr>\n",
       "    <tr>\n",
       "      <th>Cristina</th>\n",
       "      <td>175</td>\n",
       "      <td>68.5</td>\n",
       "    </tr>\n",
       "    <tr>\n",
       "      <th>Diana</th>\n",
       "      <td>168</td>\n",
       "      <td>64.0</td>\n",
       "    </tr>\n",
       "  </tbody>\n",
       "</table>\n",
       "</div>"
      ],
      "text/plain": [
       "          altura  peso\n",
       "nombre                \n",
       "Rodrigo      178  81.2\n",
       "Sergio       172  76.1\n",
       "Cristina     175  68.5\n",
       "Diana        168  64.0"
      ]
     },
     "metadata": {},
     "output_type": "display_data"
    }
   ],
   "source": [
    "data = {\"nombre\": [\"Rodrigo\", \"Sergio\", \"Cristina\", \"Diana\"], \"altura\": np.array([178, 172, 175, 168]), \"peso\": np.array([81.2, 76.1, 68.5, 64.0])}\n",
    "display(data)\n",
    "pacientes = pd.DataFrame(data).set_index(\"nombre\")\n",
    "display(pacientes)"
   ]
  },
  {
   "cell_type": "code",
   "execution_count": 8,
   "id": "7371f0bd-f63e-4634-9d74-6278063179b6",
   "metadata": {},
   "outputs": [
    {
     "data": {
      "text/plain": [
       "178"
      ]
     },
     "execution_count": 8,
     "metadata": {},
     "output_type": "execute_result"
    }
   ],
   "source": [
    "pacientes[ \"altura\" ].Rodrigo"
   ]
  },
  {
   "cell_type": "code",
   "execution_count": 9,
   "id": "530f90db-66aa-4b48-838d-1b5df61d8329",
   "metadata": {},
   "outputs": [],
   "source": [
    "from gapminder import gapminder"
   ]
  },
  {
   "cell_type": "code",
   "execution_count": 10,
   "id": "3e316f72-6784-406a-a81f-067155ea14a8",
   "metadata": {},
   "outputs": [
    {
     "name": "stdout",
     "output_type": "stream",
     "text": [
      "Defaulting to user installation because normal site-packages is not writeable\n",
      "Requirement already satisfied: gapminder in /home/Estudiante/.local/lib/python3.10/site-packages (0.1)\n",
      "Requirement already satisfied: pandas in /usr/lib/python3/dist-packages (from gapminder) (1.3.5)\n",
      "Note: you may need to restart the kernel to use updated packages.\n"
     ]
    }
   ],
   "source": [
    "pip install gapminder"
   ]
  },
  {
   "cell_type": "code",
   "execution_count": 19,
   "id": "7dcdf42d-b334-4a5b-b3ef-5b038ac5b444",
   "metadata": {},
   "outputs": [
    {
     "data": {
      "text/html": [
       "<div>\n",
       "<style scoped>\n",
       "    .dataframe tbody tr th:only-of-type {\n",
       "        vertical-align: middle;\n",
       "    }\n",
       "\n",
       "    .dataframe tbody tr th {\n",
       "        vertical-align: top;\n",
       "    }\n",
       "\n",
       "    .dataframe thead th {\n",
       "        text-align: right;\n",
       "    }\n",
       "</style>\n",
       "<table border=\"1\" class=\"dataframe\">\n",
       "  <thead>\n",
       "    <tr style=\"text-align: right;\">\n",
       "      <th></th>\n",
       "      <th>country</th>\n",
       "      <th>continent</th>\n",
       "      <th>year</th>\n",
       "      <th>lifeExp</th>\n",
       "      <th>pop</th>\n",
       "      <th>gdpPercap</th>\n",
       "    </tr>\n",
       "  </thead>\n",
       "  <tbody>\n",
       "    <tr>\n",
       "      <th>0</th>\n",
       "      <td>Afghanistan</td>\n",
       "      <td>Asia</td>\n",
       "      <td>1952</td>\n",
       "      <td>28.801</td>\n",
       "      <td>8425333</td>\n",
       "      <td>779.445314</td>\n",
       "    </tr>\n",
       "    <tr>\n",
       "      <th>1</th>\n",
       "      <td>Afghanistan</td>\n",
       "      <td>Asia</td>\n",
       "      <td>1957</td>\n",
       "      <td>30.332</td>\n",
       "      <td>9240934</td>\n",
       "      <td>820.853030</td>\n",
       "    </tr>\n",
       "    <tr>\n",
       "      <th>2</th>\n",
       "      <td>Afghanistan</td>\n",
       "      <td>Asia</td>\n",
       "      <td>1962</td>\n",
       "      <td>31.997</td>\n",
       "      <td>10267083</td>\n",
       "      <td>853.100710</td>\n",
       "    </tr>\n",
       "    <tr>\n",
       "      <th>3</th>\n",
       "      <td>Afghanistan</td>\n",
       "      <td>Asia</td>\n",
       "      <td>1967</td>\n",
       "      <td>34.020</td>\n",
       "      <td>11537966</td>\n",
       "      <td>836.197138</td>\n",
       "    </tr>\n",
       "    <tr>\n",
       "      <th>4</th>\n",
       "      <td>Afghanistan</td>\n",
       "      <td>Asia</td>\n",
       "      <td>1972</td>\n",
       "      <td>36.088</td>\n",
       "      <td>13079460</td>\n",
       "      <td>739.981106</td>\n",
       "    </tr>\n",
       "    <tr>\n",
       "      <th>...</th>\n",
       "      <td>...</td>\n",
       "      <td>...</td>\n",
       "      <td>...</td>\n",
       "      <td>...</td>\n",
       "      <td>...</td>\n",
       "      <td>...</td>\n",
       "    </tr>\n",
       "    <tr>\n",
       "      <th>1699</th>\n",
       "      <td>Zimbabwe</td>\n",
       "      <td>Africa</td>\n",
       "      <td>1987</td>\n",
       "      <td>62.351</td>\n",
       "      <td>9216418</td>\n",
       "      <td>706.157306</td>\n",
       "    </tr>\n",
       "    <tr>\n",
       "      <th>1700</th>\n",
       "      <td>Zimbabwe</td>\n",
       "      <td>Africa</td>\n",
       "      <td>1992</td>\n",
       "      <td>60.377</td>\n",
       "      <td>10704340</td>\n",
       "      <td>693.420786</td>\n",
       "    </tr>\n",
       "    <tr>\n",
       "      <th>1701</th>\n",
       "      <td>Zimbabwe</td>\n",
       "      <td>Africa</td>\n",
       "      <td>1997</td>\n",
       "      <td>46.809</td>\n",
       "      <td>11404948</td>\n",
       "      <td>792.449960</td>\n",
       "    </tr>\n",
       "    <tr>\n",
       "      <th>1702</th>\n",
       "      <td>Zimbabwe</td>\n",
       "      <td>Africa</td>\n",
       "      <td>2002</td>\n",
       "      <td>39.989</td>\n",
       "      <td>11926563</td>\n",
       "      <td>672.038623</td>\n",
       "    </tr>\n",
       "    <tr>\n",
       "      <th>1703</th>\n",
       "      <td>Zimbabwe</td>\n",
       "      <td>Africa</td>\n",
       "      <td>2007</td>\n",
       "      <td>43.487</td>\n",
       "      <td>12311143</td>\n",
       "      <td>469.709298</td>\n",
       "    </tr>\n",
       "  </tbody>\n",
       "</table>\n",
       "<p>1704 rows × 6 columns</p>\n",
       "</div>"
      ],
      "text/plain": [
       "          country continent  year  lifeExp       pop   gdpPercap\n",
       "0     Afghanistan      Asia  1952   28.801   8425333  779.445314\n",
       "1     Afghanistan      Asia  1957   30.332   9240934  820.853030\n",
       "2     Afghanistan      Asia  1962   31.997  10267083  853.100710\n",
       "3     Afghanistan      Asia  1967   34.020  11537966  836.197138\n",
       "4     Afghanistan      Asia  1972   36.088  13079460  739.981106\n",
       "...           ...       ...   ...      ...       ...         ...\n",
       "1699     Zimbabwe    Africa  1987   62.351   9216418  706.157306\n",
       "1700     Zimbabwe    Africa  1992   60.377  10704340  693.420786\n",
       "1701     Zimbabwe    Africa  1997   46.809  11404948  792.449960\n",
       "1702     Zimbabwe    Africa  2002   39.989  11926563  672.038623\n",
       "1703     Zimbabwe    Africa  2007   43.487  12311143  469.709298\n",
       "\n",
       "[1704 rows x 6 columns]"
      ]
     },
     "metadata": {},
     "output_type": "display_data"
    }
   ],
   "source": [
    "#11.\n",
    "type(gapminder)\n",
    "# devuelve pandas.core.frame.DataFrame\n",
    "\n",
    "display(gapminder)\n",
    "# tiene 6 variables, 4 floats y 2 strings, usa indices del 0 al 1703\n"
   ]
  },
  {
   "cell_type": "code",
   "execution_count": 31,
   "id": "c3bdee96-7374-4fca-9564-100c9b4cf334",
   "metadata": {},
   "outputs": [
    {
     "data": {
      "text/plain": [
       "(1704, 6)"
      ]
     },
     "execution_count": 31,
     "metadata": {},
     "output_type": "execute_result"
    }
   ],
   "source": [
    "#12\n",
    "gapminder.shape"
   ]
  },
  {
   "cell_type": "code",
   "execution_count": 27,
   "id": "00f98488-6163-46b9-b981-7c7243e71d1d",
   "metadata": {},
   "outputs": [
    {
     "data": {
      "text/plain": [
       "142"
      ]
     },
     "execution_count": 27,
     "metadata": {},
     "output_type": "execute_result"
    }
   ],
   "source": [
    "#13\n",
    "gapminder.country.nunique() #hay datos de 142 paises\n"
   ]
  },
  {
   "cell_type": "code",
   "execution_count": 29,
   "id": "b969a0ef-a47a-4639-94fa-2cfe1daeb343",
   "metadata": {},
   "outputs": [
    {
     "data": {
      "text/html": [
       "<div>\n",
       "<style scoped>\n",
       "    .dataframe tbody tr th:only-of-type {\n",
       "        vertical-align: middle;\n",
       "    }\n",
       "\n",
       "    .dataframe tbody tr th {\n",
       "        vertical-align: top;\n",
       "    }\n",
       "\n",
       "    .dataframe thead th {\n",
       "        text-align: right;\n",
       "    }\n",
       "</style>\n",
       "<table border=\"1\" class=\"dataframe\">\n",
       "  <thead>\n",
       "    <tr style=\"text-align: right;\">\n",
       "      <th></th>\n",
       "      <th>country</th>\n",
       "      <th>continent</th>\n",
       "      <th>year</th>\n",
       "      <th>lifeExp</th>\n",
       "      <th>pop</th>\n",
       "      <th>gdpPercap</th>\n",
       "    </tr>\n",
       "  </thead>\n",
       "  <tbody>\n",
       "    <tr>\n",
       "      <th>0</th>\n",
       "      <td>False</td>\n",
       "      <td>False</td>\n",
       "      <td>False</td>\n",
       "      <td>False</td>\n",
       "      <td>False</td>\n",
       "      <td>False</td>\n",
       "    </tr>\n",
       "    <tr>\n",
       "      <th>1</th>\n",
       "      <td>False</td>\n",
       "      <td>False</td>\n",
       "      <td>False</td>\n",
       "      <td>False</td>\n",
       "      <td>False</td>\n",
       "      <td>False</td>\n",
       "    </tr>\n",
       "    <tr>\n",
       "      <th>2</th>\n",
       "      <td>False</td>\n",
       "      <td>False</td>\n",
       "      <td>False</td>\n",
       "      <td>False</td>\n",
       "      <td>False</td>\n",
       "      <td>False</td>\n",
       "    </tr>\n",
       "    <tr>\n",
       "      <th>3</th>\n",
       "      <td>False</td>\n",
       "      <td>False</td>\n",
       "      <td>False</td>\n",
       "      <td>False</td>\n",
       "      <td>False</td>\n",
       "      <td>False</td>\n",
       "    </tr>\n",
       "    <tr>\n",
       "      <th>4</th>\n",
       "      <td>False</td>\n",
       "      <td>False</td>\n",
       "      <td>False</td>\n",
       "      <td>False</td>\n",
       "      <td>False</td>\n",
       "      <td>False</td>\n",
       "    </tr>\n",
       "    <tr>\n",
       "      <th>...</th>\n",
       "      <td>...</td>\n",
       "      <td>...</td>\n",
       "      <td>...</td>\n",
       "      <td>...</td>\n",
       "      <td>...</td>\n",
       "      <td>...</td>\n",
       "    </tr>\n",
       "    <tr>\n",
       "      <th>1699</th>\n",
       "      <td>False</td>\n",
       "      <td>False</td>\n",
       "      <td>False</td>\n",
       "      <td>False</td>\n",
       "      <td>False</td>\n",
       "      <td>False</td>\n",
       "    </tr>\n",
       "    <tr>\n",
       "      <th>1700</th>\n",
       "      <td>False</td>\n",
       "      <td>False</td>\n",
       "      <td>False</td>\n",
       "      <td>False</td>\n",
       "      <td>False</td>\n",
       "      <td>False</td>\n",
       "    </tr>\n",
       "    <tr>\n",
       "      <th>1701</th>\n",
       "      <td>False</td>\n",
       "      <td>False</td>\n",
       "      <td>False</td>\n",
       "      <td>False</td>\n",
       "      <td>False</td>\n",
       "      <td>False</td>\n",
       "    </tr>\n",
       "    <tr>\n",
       "      <th>1702</th>\n",
       "      <td>False</td>\n",
       "      <td>False</td>\n",
       "      <td>False</td>\n",
       "      <td>False</td>\n",
       "      <td>False</td>\n",
       "      <td>False</td>\n",
       "    </tr>\n",
       "    <tr>\n",
       "      <th>1703</th>\n",
       "      <td>False</td>\n",
       "      <td>False</td>\n",
       "      <td>False</td>\n",
       "      <td>False</td>\n",
       "      <td>False</td>\n",
       "      <td>False</td>\n",
       "    </tr>\n",
       "  </tbody>\n",
       "</table>\n",
       "<p>1704 rows × 6 columns</p>\n",
       "</div>"
      ],
      "text/plain": [
       "      country  continent   year  lifeExp    pop  gdpPercap\n",
       "0       False      False  False    False  False      False\n",
       "1       False      False  False    False  False      False\n",
       "2       False      False  False    False  False      False\n",
       "3       False      False  False    False  False      False\n",
       "4       False      False  False    False  False      False\n",
       "...       ...        ...    ...      ...    ...        ...\n",
       "1699    False      False  False    False  False      False\n",
       "1700    False      False  False    False  False      False\n",
       "1701    False      False  False    False  False      False\n",
       "1702    False      False  False    False  False      False\n",
       "1703    False      False  False    False  False      False\n",
       "\n",
       "[1704 rows x 6 columns]"
      ]
     },
     "metadata": {},
     "output_type": "display_data"
    }
   ],
   "source": [
    "#14 \n",
    "gm_sur = gapminder.isin([\"Argentina\", \"Chile\", \"Uruguay\"]).copy()\n",
    "display(gm_sur)"
   ]
  },
  {
   "cell_type": "code",
   "execution_count": 48,
   "id": "82045b7b-0921-47d5-9c87-3f8887782a22",
   "metadata": {},
   "outputs": [
    {
     "data": {
      "text/plain": [
       "<pandas.core.groupby.generic.SeriesGroupBy object at 0x77808e80f550>"
      ]
     },
     "execution_count": 48,
     "metadata": {},
     "output_type": "execute_result"
    }
   ],
   "source": [
    "gapminder.groupby(\"country\")[\"lifeExp\"]"
   ]
  },
  {
   "cell_type": "code",
   "execution_count": 58,
   "id": "a7b58aaf-bc99-4ba6-be15-3a8e1fa8b277",
   "metadata": {},
   "outputs": [],
   "source": [
    "gm_sur = gapminder[gapminder[\"country\"].isin([\"Argentina\", \"Chile\", \"Uruguay\"])]"
   ]
  },
  {
   "cell_type": "code",
   "execution_count": null,
   "id": "3d372ad7-3efe-419a-a6aa-3695b96b9afc",
   "metadata": {},
   "outputs": [],
   "source": [
    "display(gm_sur)"
   ]
  },
  {
   "cell_type": "code",
   "execution_count": null,
   "id": "4a73cfb1-d41a-46c0-9e5b-bd2cdf557606",
   "metadata": {},
   "outputs": [],
   "source": [
    "gm_sur.groupby(\"country\").size().sum()\n",
    "\n"
   ]
  },
  {
   "cell_type": "code",
   "execution_count": 86,
   "id": "340457b6-51f0-4b5c-a022-c494d4d51ee3",
   "metadata": {},
   "outputs": [
    {
     "data": {
      "text/html": [
       "<div>\n",
       "<style scoped>\n",
       "    .dataframe tbody tr th:only-of-type {\n",
       "        vertical-align: middle;\n",
       "    }\n",
       "\n",
       "    .dataframe tbody tr th {\n",
       "        vertical-align: top;\n",
       "    }\n",
       "\n",
       "    .dataframe thead th {\n",
       "        text-align: right;\n",
       "    }\n",
       "</style>\n",
       "<table border=\"1\" class=\"dataframe\">\n",
       "  <thead>\n",
       "    <tr style=\"text-align: right;\">\n",
       "      <th></th>\n",
       "      <th>country</th>\n",
       "      <th>continent</th>\n",
       "      <th>year</th>\n",
       "      <th>lifeExp</th>\n",
       "      <th>pop</th>\n",
       "      <th>gdpPercap</th>\n",
       "    </tr>\n",
       "  </thead>\n",
       "  <tbody>\n",
       "    <tr>\n",
       "      <th>48</th>\n",
       "      <td>Argentina</td>\n",
       "      <td>Americas</td>\n",
       "      <td>1952</td>\n",
       "      <td>62.485</td>\n",
       "      <td>17876956</td>\n",
       "      <td>5911.315053</td>\n",
       "    </tr>\n",
       "    <tr>\n",
       "      <th>49</th>\n",
       "      <td>Argentina</td>\n",
       "      <td>Americas</td>\n",
       "      <td>1957</td>\n",
       "      <td>64.399</td>\n",
       "      <td>19610538</td>\n",
       "      <td>6856.856212</td>\n",
       "    </tr>\n",
       "    <tr>\n",
       "      <th>50</th>\n",
       "      <td>Argentina</td>\n",
       "      <td>Americas</td>\n",
       "      <td>1962</td>\n",
       "      <td>65.142</td>\n",
       "      <td>21283783</td>\n",
       "      <td>7133.166023</td>\n",
       "    </tr>\n",
       "    <tr>\n",
       "      <th>51</th>\n",
       "      <td>Argentina</td>\n",
       "      <td>Americas</td>\n",
       "      <td>1967</td>\n",
       "      <td>65.634</td>\n",
       "      <td>22934225</td>\n",
       "      <td>8052.953021</td>\n",
       "    </tr>\n",
       "    <tr>\n",
       "      <th>52</th>\n",
       "      <td>Argentina</td>\n",
       "      <td>Americas</td>\n",
       "      <td>1972</td>\n",
       "      <td>67.065</td>\n",
       "      <td>24779799</td>\n",
       "      <td>9443.038526</td>\n",
       "    </tr>\n",
       "    <tr>\n",
       "      <th>53</th>\n",
       "      <td>Argentina</td>\n",
       "      <td>Americas</td>\n",
       "      <td>1977</td>\n",
       "      <td>68.481</td>\n",
       "      <td>26983828</td>\n",
       "      <td>10079.026740</td>\n",
       "    </tr>\n",
       "    <tr>\n",
       "      <th>54</th>\n",
       "      <td>Argentina</td>\n",
       "      <td>Americas</td>\n",
       "      <td>1982</td>\n",
       "      <td>69.942</td>\n",
       "      <td>29341374</td>\n",
       "      <td>8997.897412</td>\n",
       "    </tr>\n",
       "    <tr>\n",
       "      <th>55</th>\n",
       "      <td>Argentina</td>\n",
       "      <td>Americas</td>\n",
       "      <td>1987</td>\n",
       "      <td>70.774</td>\n",
       "      <td>31620918</td>\n",
       "      <td>9139.671389</td>\n",
       "    </tr>\n",
       "    <tr>\n",
       "      <th>56</th>\n",
       "      <td>Argentina</td>\n",
       "      <td>Americas</td>\n",
       "      <td>1992</td>\n",
       "      <td>71.868</td>\n",
       "      <td>33958947</td>\n",
       "      <td>9308.418710</td>\n",
       "    </tr>\n",
       "    <tr>\n",
       "      <th>57</th>\n",
       "      <td>Argentina</td>\n",
       "      <td>Americas</td>\n",
       "      <td>1997</td>\n",
       "      <td>73.275</td>\n",
       "      <td>36203463</td>\n",
       "      <td>10967.281950</td>\n",
       "    </tr>\n",
       "    <tr>\n",
       "      <th>58</th>\n",
       "      <td>Argentina</td>\n",
       "      <td>Americas</td>\n",
       "      <td>2002</td>\n",
       "      <td>74.340</td>\n",
       "      <td>38331121</td>\n",
       "      <td>8797.640716</td>\n",
       "    </tr>\n",
       "    <tr>\n",
       "      <th>59</th>\n",
       "      <td>Argentina</td>\n",
       "      <td>Americas</td>\n",
       "      <td>2007</td>\n",
       "      <td>75.320</td>\n",
       "      <td>40301927</td>\n",
       "      <td>12779.379640</td>\n",
       "    </tr>\n",
       "  </tbody>\n",
       "</table>\n",
       "</div>"
      ],
      "text/plain": [
       "      country continent  year  lifeExp       pop     gdpPercap\n",
       "48  Argentina  Americas  1952   62.485  17876956   5911.315053\n",
       "49  Argentina  Americas  1957   64.399  19610538   6856.856212\n",
       "50  Argentina  Americas  1962   65.142  21283783   7133.166023\n",
       "51  Argentina  Americas  1967   65.634  22934225   8052.953021\n",
       "52  Argentina  Americas  1972   67.065  24779799   9443.038526\n",
       "53  Argentina  Americas  1977   68.481  26983828  10079.026740\n",
       "54  Argentina  Americas  1982   69.942  29341374   8997.897412\n",
       "55  Argentina  Americas  1987   70.774  31620918   9139.671389\n",
       "56  Argentina  Americas  1992   71.868  33958947   9308.418710\n",
       "57  Argentina  Americas  1997   73.275  36203463  10967.281950\n",
       "58  Argentina  Americas  2002   74.340  38331121   8797.640716\n",
       "59  Argentina  Americas  2007   75.320  40301927  12779.379640"
      ]
     },
     "metadata": {},
     "output_type": "display_data"
    }
   ],
   "source": [
    "gm_argentina = gm_sur[gm_sur[\"country\"].isin([\"Argentina\"])]\n",
    "display(gm_argentina)"
   ]
  },
  {
   "cell_type": "code",
   "execution_count": 88,
   "id": "a8b1cf4c-eac5-463a-b992-51431b339bc0",
   "metadata": {},
   "outputs": [
    {
     "data": {
      "text/plain": [
       "country        Argentina\n",
       "continent       Americas\n",
       "year                1952\n",
       "lifeExp           62.485\n",
       "pop             17876956\n",
       "gdpPercap    5911.315053\n",
       "Name: 48, dtype: object"
      ]
     },
     "metadata": {},
     "output_type": "display_data"
    }
   ],
   "source": [
    "display(gm_argentina.iloc[0])"
   ]
  },
  {
   "cell_type": "code",
   "execution_count": 90,
   "id": "83cb42b8-70a4-4905-afea-edf93663799d",
   "metadata": {},
   "outputs": [
    {
     "data": {
      "text/plain": [
       "country        Argentina\n",
       "continent       Americas\n",
       "year                2007\n",
       "lifeExp            75.32\n",
       "pop             40301927\n",
       "gdpPercap    12779.37964\n",
       "Name: 59, dtype: object"
      ]
     },
     "metadata": {},
     "output_type": "display_data"
    }
   ],
   "source": [
    "display(gm_argentina.loc[59])"
   ]
  },
  {
   "cell_type": "code",
   "execution_count": 91,
   "id": "89ab5e51-2bd6-42c7-a165-f626f84f17d4",
   "metadata": {},
   "outputs": [
    {
     "data": {
      "text/plain": [
       "Int64Index([  48,   49,   50,   51,   52,   53,   54,   55,   56,   57,   58,\n",
       "              59,  276,  277,  278,  279,  280,  281,  282,  283,  284,  285,\n",
       "             286,  287, 1620, 1621, 1622, 1623, 1624, 1625, 1626, 1627, 1628,\n",
       "            1629, 1630, 1631],\n",
       "           dtype='int64')"
      ]
     },
     "execution_count": 91,
     "metadata": {},
     "output_type": "execute_result"
    }
   ],
   "source": [
    "#15\n",
    "gm_sur.index"
   ]
  }
 ],
 "metadata": {
  "kernelspec": {
   "display_name": "Python 3 (ipykernel)",
   "language": "python",
   "name": "python3"
  },
  "language_info": {
   "codemirror_mode": {
    "name": "ipython",
    "version": 3
   },
   "file_extension": ".py",
   "mimetype": "text/x-python",
   "name": "python",
   "nbconvert_exporter": "python",
   "pygments_lexer": "ipython3",
   "version": "3.11.4"
  }
 },
 "nbformat": 4,
 "nbformat_minor": 5
}
